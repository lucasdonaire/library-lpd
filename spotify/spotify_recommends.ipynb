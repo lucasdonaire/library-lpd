{
  "cells": [
    {
      "attachments": {},
      "cell_type": "markdown",
      "metadata": {},
      "source": [
        "##### O intuito desse programa é criar playlists baseados em seus gostos de artistas e músicas usando a lib spotipy\n",
        "\n",
        "existem dois \"modos de uso\". os dois usam a função recommendTracks.\n",
        "\n",
        "o parâmetro listTracks deve ser no formato \n",
        "[ ['passionfruit', 'drake'],['aquela fé','don l'] ] \n",
        "(ou seja, cada elemento da lista é uma lista com nome da musica e artista(opcional) )\n",
        "\n",
        "e listArtists no formato ['frank ocean', 'nill'].\n",
        "\n",
        "os nomes de artistas e musicas devem ser escritos corretamente, mas são insensíveis a letras maiúsculas ou minúsculas\n",
        "\n",
        "OBS: tamanho das duas listas somados pode ser até 5\n",
        "\n",
        "Modos de uso:\n",
        "\n",
        "(1): atribuir a chamada da recommendTracks a uma variável, e preenchendo somente os parâmetros listMusics e listArtists. Isso vai imprimir sua playlist na tela e salvar nessa variável. Caso vc goste do que leu, basta usar a função recommentationsToPlaylist( suaVariavel , nomeDaPlaylist )\n",
        "\n",
        "(2): tentar a sorte e criar uma playlist sem olhar ela antes. para isso, chamar a função recommendTracks como acima, mas adicionar o parâmetro name e colocar o parâmetro createPlaylist = True  "
      ]
    },
    {
      "attachments": {},
      "cell_type": "markdown",
      "metadata": {},
      "source": [
        "##### Login\n",
        "\n",
        "Para logar em seu spotify, deve-se rodar a célula de login, que irá te redirecionar para tela de login. Ao aceitar que o app acesse sua conta, você será redirecionado para uma url (talvez seu navegador diga que deu erro ao carregar. Mas não deu. vc só precisa da url). Você deve copiar a url para qual foi redirecionado e colocar como input"
      ]
    },
    {
      "attachments": {},
      "cell_type": "markdown",
      "metadata": {},
      "source": [
        "________________________________________________________"
      ]
    },
    {
      "attachments": {},
      "cell_type": "markdown",
      "metadata": {},
      "source": [
        "Configuração e importações"
      ]
    },
    {
      "cell_type": "code",
      "execution_count": null,
      "metadata": {
        "id": "IgO0Lmdd1E4C"
      },
      "outputs": [],
      "source": [
        "# caso não tenha o spotipy instalado\n",
        "# pip install spotipy --upgrade"
      ]
    },
    {
      "cell_type": "code",
      "execution_count": 1,
      "metadata": {
        "id": "heJyTL0w1Gfx"
      },
      "outputs": [],
      "source": [
        "import spotipy"
      ]
    },
    {
      "attachments": {},
      "cell_type": "markdown",
      "metadata": {},
      "source": [
        "Célula de login abaixo"
      ]
    },
    {
      "cell_type": "code",
      "execution_count": null,
      "metadata": {
        "colab": {
          "base_uri": "https://localhost:8080/",
          "height": 470
        },
        "id": "uL2RAZwg1LIg",
        "outputId": "00929cef-b8ec-4fac-d2c5-e8c0cb6f1565"
      },
      "outputs": [],
      "source": [
        "sp = spotipy.Spotify(\n",
        "    auth_manager=spotipy.oauth2.SpotifyOAuth(\n",
        "        client_id='3a92f783c17f4b95bc75d536dc51be3d',\n",
        "        client_secret='89e6b1f4d2914d158a34c71f71190d2f',\n",
        "        redirect_uri=\"https://localhost:8000/callback\",\n",
        "        scope=\"user-library-read playlist-modify-public user-library-modify playlist-modify-private\"\n",
        "        )\n",
        "    )\n",
        "    \n",
        "sp.me()\n",
        "# vai te redirecionar para uma tela de login do spotify. \n",
        "# copia o link depois de logar e cola aqui como input"
      ]
    },
    {
      "attachments": {},
      "cell_type": "markdown",
      "metadata": {},
      "source": [
        "____________________________________________________"
      ]
    },
    {
      "cell_type": "code",
      "execution_count": 12,
      "metadata": {},
      "outputs": [],
      "source": [
        "def searchArtist(name):\n",
        "  # buscar um artista por nome -> nome indiferente a letras maiúsculas e minúsculas, mas tem que estar escrito certo, inclusive acentos\n",
        "  res = sp.search(name,limit=10)\n",
        "  for i in range(10): # testa os 10 primeiros artistas\n",
        "    artist = res['tracks']['items'][i]['album']['artists'][0]\n",
        "    if name.lower() == artist['name'].lower():\n",
        "      return artist['id']\n",
        "  print('ERRO: artista achado:'+res['tracks']['items'][0]['album']['artists'][0]['name'])\n",
        "  return -1"
      ]
    },
    {
      "cell_type": "code",
      "execution_count": 13,
      "metadata": {
        "id": "E6pqLDDMaZKm"
      },
      "outputs": [],
      "source": [
        "def searchTrack(name,artist=''):\n",
        "  # buscar uma música por nome -> nome indiferente a letras maiúsculas e minúsculas, mas tem que estar escrito certo, inclusive acentos\n",
        "  stringSearch = name+' '+artist+' &type=track'\n",
        "  rec = sp.search(stringSearch,limit=10)\n",
        "  for i in range(10):\n",
        "    track = rec['tracks']['items'][i]\n",
        "    trackBool = track['name'].lower() == name.lower() \n",
        "    artistBool = track['artists'][0]['name'].lower() == artist.lower()\n",
        "    if (trackBool and artistBool) or (artist=='' and trackBool):\n",
        "      return track['id']\n",
        "  track = rec['tracks']['items'][0]\n",
        "  print('ERRO: track achada:'+track['name'])\n",
        "  print('ERRO: artista achado:'+track['artists'][0]['name'])\n",
        "  return -1\n"
      ]
    },
    {
      "cell_type": "code",
      "execution_count": 14,
      "metadata": {
        "id": "E835xJpnhBiZ"
      },
      "outputs": [],
      "source": [
        "def auxTrackSearch(item: list):\n",
        "  # função auxiliar para usar com map()\n",
        "  if len(item) == 1:\n",
        "    item.append('')\n",
        "  return searchTrack(item[0],item[1])"
      ]
    },
    {
      "cell_type": "code",
      "execution_count": 15,
      "metadata": {
        "id": "AYa2RpalnhkQ"
      },
      "outputs": [],
      "source": [
        "def recommentationsToPlaylist(rec,name,description=''):\n",
        "  # pega os resultados de um retorno da função sp.recommendations() e salva numa playlist\n",
        "  playlist = sp.user_playlist_create(sp.me()['id'],name=name,description=description)\n",
        "  listTracks = []\n",
        "  for item in rec['tracks']:\n",
        "    listTracks.append(item['id'])\n",
        "  sp.playlist_add_items(playlist['id'],listTracks)\n",
        "  print('=================================== \\n playlist ',name,' criada com sucesso.')"
      ]
    },
    {
      "cell_type": "code",
      "execution_count": 16,
      "metadata": {
        "id": "4FmZ3ziGgiHM"
      },
      "outputs": [],
      "source": [
        "def recommendTracks(listMusics=[], listArtists=[], createPlaylist=False, name='', playlist_size=20):\n",
        "  # list tracks no formato [['passionfruit', 'drake'],['aquela fé','don l']]\n",
        "  # list artists no formato ['frank ocean', 'nill']\n",
        "  # tamanho das duas listas somados pode ser até 5\n",
        "  if listMusics == [] and listArtists ==[]:\n",
        "    print('listas vazias')\n",
        "    return\n",
        "  if len(listMusics) + len(listArtists) > 5:\n",
        "    print('maximo de musicas+artistas é 5')\n",
        "    return\n",
        "  listIdsMusics = list(map(auxTrackSearch,listMusics))\n",
        "  listIdsArtists = list(map(searchArtist,listArtists))\n",
        "  if -1 in listIdsMusics: \n",
        "    print('deu ruim na track '+str(listMusics[listIdsMusics.index(-1)]))\n",
        "    print(listIdsMusics)\n",
        "    return\n",
        "  if -1 in listIdsArtists: \n",
        "    print('deu ruim no artista '+listArtists[listIdsArtists.index(-1)])\n",
        "    print(listIdsArtists)\n",
        "    return\n",
        "  rec = sp.recommendations(seed_artists=listIdsArtists, seed_tracks=listIdsMusics, limit=playlist_size)\n",
        "  print('_________ PLAYLIST __________')\n",
        "  for item in rec['tracks']:\n",
        "    print(item['name'],' --- ',item['artists'][0]['name'])\n",
        "  print('____________________________')\n",
        "  if createPlaylist:\n",
        "    if name == '':\n",
        "      name = 'playlist baseada nas musicas '+str(listMusics)[1:-1]+'e nos artistas'+str(listArtists)[1:-1]\n",
        "    description = description='playlist baseada nas musicas '+str(listMusics)[1:-1]+'e nos artistas'+str(listArtists)[1:-1]\n",
        "    recommentationsToPlaylist(rec,name,description)\n",
        "  return rec"
      ]
    },
    {
      "attachments": {},
      "cell_type": "markdown",
      "metadata": {
        "id": "HVoAZjaTrKCc"
      },
      "source": [
        "### Testes"
      ]
    },
    {
      "attachments": {},
      "cell_type": "markdown",
      "metadata": {},
      "source": [
        "Modo de uso ( 1 )"
      ]
    },
    {
      "cell_type": "code",
      "execution_count": 17,
      "metadata": {
        "colab": {
          "base_uri": "https://localhost:8080/"
        },
        "id": "DoQgauzUiJah",
        "outputId": "034fc2f6-2d22-4e1b-cc9f-6f6a73b8f12a"
      },
      "outputs": [
        {
          "name": "stdout",
          "output_type": "stream",
          "text": [
            "_________ PLAYLIST __________\n",
            "Ela É do Tipo (feat. Drake) [Remix]  ---  MC Kevin o Chris\n",
            "Sem Voz  ---  ADL\n",
            "Seguir Só  ---  MOB79\n",
            "Andarilhos  ---  Atentado Napalm\n",
            "Só de Garra  ---  Makalister\n",
            "enquanto recomeça  ---  Don L\n",
            "Reminder  ---  The Weeknd\n",
            "Descendente de Yasuke  ---  Nill\n",
            "You're Mines Still (feat. Drake)  ---  Yung Bleu\n",
            "Muito Bem Feito  ---  Well\n",
            "Candelabro  ---  Menestrel\n",
            "Get It Together  ---  Drake\n",
            "Frio  ---  Kayuá\n",
            "Magika  ---  Yung Buda\n",
            "Liberdade Perpétua  ---  Murica\n",
            "Longe de Casa  ---  PrimeiraMente\n",
            "Instalações Noturnas, Assuntos de Rua  ---  Makalister\n",
            "REEL IT IN  ---  Aminé\n",
            "Leões  ---  Kayuá\n",
            "Embalagens  ---  Nill\n",
            "____________________________\n"
          ]
        }
      ],
      "source": [
        "rec = recommendTracks(\n",
        "    listMusics=[['Passionfruit', 'Drake'],['aquela fé','don l']],\n",
        "    listArtists=['Nill','Don L','Makalister']\n",
        ")"
      ]
    },
    {
      "cell_type": "code",
      "execution_count": 11,
      "metadata": {
        "colab": {
          "base_uri": "https://localhost:8080/"
        },
        "id": "WmvLeHizp9Jd",
        "outputId": "10d64538-ceb7-4fad-fdfc-017392525d5b"
      },
      "outputs": [
        {
          "name": "stdout",
          "output_type": "stream",
          "text": [
            "=================================== \n",
            " playlist  playloka3  criada com sucesso.\n"
          ]
        }
      ],
      "source": [
        "# rodar isso vai criar uma playlist com os resultados acima chamada playloka\n",
        "recommentationsToPlaylist(rec,'playloka')"
      ]
    },
    {
      "attachments": {},
      "cell_type": "markdown",
      "metadata": {},
      "source": [
        "Modo de uso ( 2 )"
      ]
    },
    {
      "cell_type": "code",
      "execution_count": null,
      "metadata": {},
      "outputs": [],
      "source": [
        "# rodar isso vai criar uma playlist com os resultados que vão ser impressos chamada playLOKA\n",
        "rec = recommendTracks(\n",
        "    listMusics = [['Passionfruit', 'Drake'],['aquela fé','don l']],\n",
        "    listArtists = ['Nill','Don L','Makalister'],\n",
        "    createPlaylist = True,\n",
        "    name = 'playLOKA'\n",
        ")"
      ]
    }
  ],
  "metadata": {
    "colab": {
      "provenance": []
    },
    "kernelspec": {
      "display_name": "Python 3",
      "language": "python",
      "name": "python3"
    },
    "language_info": {
      "codemirror_mode": {
        "name": "ipython",
        "version": 3
      },
      "file_extension": ".py",
      "mimetype": "text/x-python",
      "name": "python",
      "nbconvert_exporter": "python",
      "pygments_lexer": "ipython3",
      "version": "3.10.9"
    },
    "vscode": {
      "interpreter": {
        "hash": "7dd4a09f69cdafc31053b58ab566d628347a6bc6fc0b8424c446cc7f66917665"
      }
    }
  },
  "nbformat": 4,
  "nbformat_minor": 0
}
