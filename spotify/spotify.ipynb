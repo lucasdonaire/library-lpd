{
 "cells": [
  {
   "cell_type": "code",
   "execution_count": null,
   "metadata": {},
   "outputs": [],
   "source": [
    "pip install spotipy --upgrade"
   ]
  },
  {
   "cell_type": "code",
   "execution_count": 4,
   "metadata": {},
   "outputs": [],
   "source": [
    "import spotipy"
   ]
  },
  {
   "cell_type": "code",
   "execution_count": 5,
   "metadata": {},
   "outputs": [],
   "source": [
    "\n",
    "sp = spotipy.Spotify(\n",
    "    auth_manager=spotipy.oauth2.SpotifyOAuth(\n",
    "        client_id='3a92f783c17f4b95bc75d536dc51be3d',\n",
    "        client_secret='89e6b1f4d2914d158a34c71f71190d2f',\n",
    "        redirect_uri=\"https://localhost:8000/callback\",\n",
    "        scope=\"user-library-read\"\n",
    "        )\n",
    "    )"
   ]
  },
  {
   "cell_type": "code",
   "execution_count": 7,
   "metadata": {},
   "outputs": [
    {
     "data": {
      "text/plain": [
       "{'display_name': 'lucasdonaire',\n",
       " 'external_urls': {'spotify': 'https://open.spotify.com/user/lordbugadaao'},\n",
       " 'followers': {'href': None, 'total': 27},\n",
       " 'href': 'https://api.spotify.com/v1/users/lordbugadaao',\n",
       " 'id': 'lordbugadaao',\n",
       " 'images': [{'height': None,\n",
       "   'url': 'https://i.scdn.co/image/ab6775700000ee85dfd54fe1cd1df45dd2b42bcf',\n",
       "   'width': None}],\n",
       " 'type': 'user',\n",
       " 'uri': 'spotify:user:lordbugadaao'}"
      ]
     },
     "execution_count": 7,
     "metadata": {},
     "output_type": "execute_result"
    }
   ],
   "source": [
    "sp.me()\n",
    "# results = sp.current_user_saved_tracks()"
   ]
  },
  {
   "cell_type": "code",
   "execution_count": null,
   "metadata": {},
   "outputs": [],
   "source": []
  },
  {
   "cell_type": "code",
   "execution_count": null,
   "metadata": {},
   "outputs": [],
   "source": [
    "for idx, item in enumerate(results['items']):\n",
    "    track = item['track']\n",
    "    print(idx, track['artists'][0]['name'], \" - \", track['name'])"
   ]
  }
 ],
 "metadata": {
  "kernelspec": {
   "display_name": "Python 3",
   "language": "python",
   "name": "python3"
  },
  "language_info": {
   "codemirror_mode": {
    "name": "ipython",
    "version": 3
   },
   "file_extension": ".py",
   "mimetype": "text/x-python",
   "name": "python",
   "nbconvert_exporter": "python",
   "pygments_lexer": "ipython3",
   "version": "3.10.9"
  },
  "orig_nbformat": 4,
  "vscode": {
   "interpreter": {
    "hash": "7dd4a09f69cdafc31053b58ab566d628347a6bc6fc0b8424c446cc7f66917665"
   }
  }
 },
 "nbformat": 4,
 "nbformat_minor": 2
}
