{
 "cells": [
  {
   "cell_type": "markdown",
   "id": "1cbd05d8",
   "metadata": {
    "papermill": {
     "duration": 0.027389,
     "end_time": "2022-07-23T11:00:55.359280",
     "exception": false,
     "start_time": "2022-07-23T11:00:55.331891",
     "status": "completed"
    },
    "tags": []
   },
   "source": [
    "## Detailed and typical solution (>81% Score)\n",
    "\n",
    "Hello kagglers ..   \n",
    "\n",
    "This notebook designed to be as **detailed** as possible solution for the Titanic problem, I tried to make it typical, clear, tidy and **beginner-friendly**. \n",
    "\n",
    "If you find this notebook useful press the **upvote** button, This helps me a lot ^-^.  \n",
    "I hope you find it helpful."
   ]
  },
  {
   "cell_type": "markdown",
   "id": "ad68b5d7",
   "metadata": {
    "papermill": {
     "duration": 0.023869,
     "end_time": "2022-07-23T11:00:55.408025",
     "exception": false,
     "start_time": "2022-07-23T11:00:55.384156",
     "status": "completed"
    },
    "tags": []
   },
   "source": [
    "<img src=\"data:image/jpeg;base64,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\">"
   ]
  },
  {
   "cell_type": "code",
   "execution_count": 1,
   "id": "e6230ad7",
   "metadata": {
    "_cell_guid": "b1076dfc-b9ad-4769-8c92-a6c4dae69d19",
    "_uuid": "8f2839f25d086af736a60e9eeb907d3b93b6e0e5",
    "execution": {
     "iopub.execute_input": "2022-07-23T11:00:55.457060Z",
     "iopub.status.busy": "2022-07-23T11:00:55.456434Z",
     "iopub.status.idle": "2022-07-23T11:00:56.607203Z",
     "shell.execute_reply": "2022-07-23T11:00:56.605964Z"
    },
    "papermill": {
     "duration": 1.179028,
     "end_time": "2022-07-23T11:00:56.610320",
     "exception": false,
     "start_time": "2022-07-23T11:00:55.431292",
     "status": "completed"
    },
    "tags": []
   },
   "outputs": [],
   "source": [
    "#=======================================================================================\n",
    "# Importing the libaries:\n",
    "#=======================================================================================\n",
    "\n",
    "import numpy as np\n",
    "import pandas as pd\n",
    "import matplotlib.pyplot as plt\n",
    "import seaborn as sns\n",
    "import warnings\n",
    "import os\n",
    "warnings.filterwarnings(\"ignore\")\n",
    "\n",
    "#======================================================================================="
   ]
  },
  {
   "cell_type": "markdown",
   "id": "e77eab42",
   "metadata": {
    "papermill": {
     "duration": 0.023057,
     "end_time": "2022-07-23T11:00:56.656987",
     "exception": false,
     "start_time": "2022-07-23T11:00:56.633930",
     "status": "completed"
    },
    "tags": []
   },
   "source": [
    "<div style=\"color:#00ADB5;\n",
    "           display:fill;\n",
    "           border-radius:5px;\n",
    "           background-color:#393E46;\n",
    "           font-size:20px;\n",
    "           font-family:sans-serif;\n",
    "           letter-spacing:0.5px\">\n",
    "        <p style=\"padding: 10px;\n",
    "              color:white;\">\n",
    "            <b>1 ) Importing the data:</b>\n",
    "        </p>\n",
    "</div>\n"
   ]
  },
  {
   "cell_type": "code",
   "execution_count": 2,
   "id": "9fe823ff",
   "metadata": {
    "execution": {
     "iopub.execute_input": "2022-07-23T11:00:56.706041Z",
     "iopub.status.busy": "2022-07-23T11:00:56.705300Z",
     "iopub.status.idle": "2022-07-23T11:00:56.738112Z",
     "shell.execute_reply": "2022-07-23T11:00:56.736855Z"
    },
    "papermill": {
     "duration": 0.060298,
     "end_time": "2022-07-23T11:00:56.740555",
     "exception": false,
     "start_time": "2022-07-23T11:00:56.680257",
     "status": "completed"
    },
    "tags": []
   },
   "outputs": [
    {
     "name": "stdout",
     "output_type": "stream",
     "text": [
      "Train data imported successfully!!\n",
      "--------------------------------------------------\n",
      "Test data imported successfully!!\n"
     ]
    }
   ],
   "source": [
    "#=======================================================================================\n",
    "# Reading the data:\n",
    "#=======================================================================================\n",
    "\n",
    "def read_data():\n",
    "    train_data = pd.read_csv(\"/kaggle/input/titanic/train.csv\")\n",
    "    print(\"Train data imported successfully!!\")\n",
    "    print(\"-\"*50)\n",
    "    test_data = pd.read_csv(\"/kaggle/input/titanic/test.csv\")\n",
    "    print(\"Test data imported successfully!!\")\n",
    "    return train_data , test_data\n",
    "\n",
    "train_data , test_data = read_data()\n",
    "combine = [train_data , test_data]\n",
    "\n",
    "#======================================================================================="
   ]
  },
  {
   "cell_type": "markdown",
   "id": "cac47901",
   "metadata": {
    "papermill": {
     "duration": 0.023566,
     "end_time": "2022-07-23T11:00:56.788041",
     "exception": false,
     "start_time": "2022-07-23T11:00:56.764475",
     "status": "completed"
    },
    "tags": []
   },
   "source": [
    "<div style=\"color:#00ADB5;\n",
    "           display:fill;\n",
    "           border-radius:5px;\n",
    "           background-color:#393E46;\n",
    "           font-size:20px;\n",
    "           font-family:sans-serif;\n",
    "           letter-spacing:0.5px\">\n",
    "        <p style=\"padding: 10px;\n",
    "              color:white;\">\n",
    "            <b> 2 ) Discovering the data:</b>\n",
    "        </p>\n",
    "</div>\n"
   ]
  },
  {
   "cell_type": "code",
   "execution_count": 3,
   "id": "fe4ca885",
   "metadata": {
    "execution": {
     "iopub.execute_input": "2022-07-23T11:00:56.839052Z",
     "iopub.status.busy": "2022-07-23T11:00:56.838325Z",
     "iopub.status.idle": "2022-07-23T11:00:56.863201Z",
     "shell.execute_reply": "2022-07-23T11:00:56.862221Z"
    },
    "papermill": {
     "duration": 0.053261,
     "end_time": "2022-07-23T11:00:56.865484",
     "exception": false,
     "start_time": "2022-07-23T11:00:56.812223",
     "status": "completed"
    },
    "tags": []
   },
   "outputs": [
    {
     "data": {
      "text/html": [
       "<div>\n",
       "<style scoped>\n",
       "    .dataframe tbody tr th:only-of-type {\n",
       "        vertical-align: middle;\n",
       "    }\n",
       "\n",
       "    .dataframe tbody tr th {\n",
       "        vertical-align: top;\n",
       "    }\n",
       "\n",
       "    .dataframe thead th {\n",
       "        text-align: right;\n",
       "    }\n",
       "</style>\n",
       "<table border=\"1\" class=\"dataframe\">\n",
       "  <thead>\n",
       "    <tr style=\"text-align: right;\">\n",
       "      <th></th>\n",
       "      <th>PassengerId</th>\n",
       "      <th>Survived</th>\n",
       "      <th>Pclass</th>\n",
       "      <th>Name</th>\n",
       "      <th>Sex</th>\n",
       "      <th>Age</th>\n",
       "      <th>SibSp</th>\n",
       "      <th>Parch</th>\n",
       "      <th>Ticket</th>\n",
       "      <th>Fare</th>\n",
       "      <th>Cabin</th>\n",
       "      <th>Embarked</th>\n",
       "    </tr>\n",
       "  </thead>\n",
       "  <tbody>\n",
       "    <tr>\n",
       "      <th>0</th>\n",
       "      <td>1</td>\n",
       "      <td>0</td>\n",
       "      <td>3</td>\n",
       "      <td>Braund, Mr. Owen Harris</td>\n",
       "      <td>male</td>\n",
       "      <td>22.0</td>\n",
       "      <td>1</td>\n",
       "      <td>0</td>\n",
       "      <td>A/5 21171</td>\n",
       "      <td>7.2500</td>\n",
       "      <td>NaN</td>\n",
       "      <td>S</td>\n",
       "    </tr>\n",
       "    <tr>\n",
       "      <th>1</th>\n",
       "      <td>2</td>\n",
       "      <td>1</td>\n",
       "      <td>1</td>\n",
       "      <td>Cumings, Mrs. John Bradley (Florence Briggs Th...</td>\n",
       "      <td>female</td>\n",
       "      <td>38.0</td>\n",
       "      <td>1</td>\n",
       "      <td>0</td>\n",
       "      <td>PC 17599</td>\n",
       "      <td>71.2833</td>\n",
       "      <td>C85</td>\n",
       "      <td>C</td>\n",
       "    </tr>\n",
       "    <tr>\n",
       "      <th>2</th>\n",
       "      <td>3</td>\n",
       "      <td>1</td>\n",
       "      <td>3</td>\n",
       "      <td>Heikkinen, Miss. Laina</td>\n",
       "      <td>female</td>\n",
       "      <td>26.0</td>\n",
       "      <td>0</td>\n",
       "      <td>0</td>\n",
       "      <td>STON/O2. 3101282</td>\n",
       "      <td>7.9250</td>\n",
       "      <td>NaN</td>\n",
       "      <td>S</td>\n",
       "    </tr>\n",
       "    <tr>\n",
       "      <th>3</th>\n",
       "      <td>4</td>\n",
       "      <td>1</td>\n",
       "      <td>1</td>\n",
       "      <td>Futrelle, Mrs. Jacques Heath (Lily May Peel)</td>\n",
       "      <td>female</td>\n",
       "      <td>35.0</td>\n",
       "      <td>1</td>\n",
       "      <td>0</td>\n",
       "      <td>113803</td>\n",
       "      <td>53.1000</td>\n",
       "      <td>C123</td>\n",
       "      <td>S</td>\n",
       "    </tr>\n",
       "    <tr>\n",
       "      <th>4</th>\n",
       "      <td>5</td>\n",
       "      <td>0</td>\n",
       "      <td>3</td>\n",
       "      <td>Allen, Mr. William Henry</td>\n",
       "      <td>male</td>\n",
       "      <td>35.0</td>\n",
       "      <td>0</td>\n",
       "      <td>0</td>\n",
       "      <td>373450</td>\n",
       "      <td>8.0500</td>\n",
       "      <td>NaN</td>\n",
       "      <td>S</td>\n",
       "    </tr>\n",
       "  </tbody>\n",
       "</table>\n",
       "</div>"
      ],
      "text/plain": [
       "   PassengerId  Survived  Pclass  \\\n",
       "0            1         0       3   \n",
       "1            2         1       1   \n",
       "2            3         1       3   \n",
       "3            4         1       1   \n",
       "4            5         0       3   \n",
       "\n",
       "                                                Name     Sex   Age  SibSp  \\\n",
       "0                            Braund, Mr. Owen Harris    male  22.0      1   \n",
       "1  Cumings, Mrs. John Bradley (Florence Briggs Th...  female  38.0      1   \n",
       "2                             Heikkinen, Miss. Laina  female  26.0      0   \n",
       "3       Futrelle, Mrs. Jacques Heath (Lily May Peel)  female  35.0      1   \n",
       "4                           Allen, Mr. William Henry    male  35.0      0   \n",
       "\n",
       "   Parch            Ticket     Fare Cabin Embarked  \n",
       "0      0         A/5 21171   7.2500   NaN        S  \n",
       "1      0          PC 17599  71.2833   C85        C  \n",
       "2      0  STON/O2. 3101282   7.9250   NaN        S  \n",
       "3      0            113803  53.1000  C123        S  \n",
       "4      0            373450   8.0500   NaN        S  "
      ]
     },
     "execution_count": 3,
     "metadata": {},
     "output_type": "execute_result"
    }
   ],
   "source": [
    "train_data.head()"
   ]
  },
  {
   "cell_type": "code",
   "execution_count": 4,
   "id": "d9134a60",
   "metadata": {
    "execution": {
     "iopub.execute_input": "2022-07-23T11:00:56.916241Z",
     "iopub.status.busy": "2022-07-23T11:00:56.915525Z",
     "iopub.status.idle": "2022-07-23T11:00:56.931479Z",
     "shell.execute_reply": "2022-07-23T11:00:56.930600Z"
    },
    "papermill": {
     "duration": 0.043746,
     "end_time": "2022-07-23T11:00:56.933557",
     "exception": false,
     "start_time": "2022-07-23T11:00:56.889811",
     "status": "completed"
    },
    "tags": []
   },
   "outputs": [
    {
     "data": {
      "text/html": [
       "<div>\n",
       "<style scoped>\n",
       "    .dataframe tbody tr th:only-of-type {\n",
       "        vertical-align: middle;\n",
       "    }\n",
       "\n",
       "    .dataframe tbody tr th {\n",
       "        vertical-align: top;\n",
       "    }\n",
       "\n",
       "    .dataframe thead th {\n",
       "        text-align: right;\n",
       "    }\n",
       "</style>\n",
       "<table border=\"1\" class=\"dataframe\">\n",
       "  <thead>\n",
       "    <tr style=\"text-align: right;\">\n",
       "      <th></th>\n",
       "      <th>PassengerId</th>\n",
       "      <th>Pclass</th>\n",
       "      <th>Name</th>\n",
       "      <th>Sex</th>\n",
       "      <th>Age</th>\n",
       "      <th>SibSp</th>\n",
       "      <th>Parch</th>\n",
       "      <th>Ticket</th>\n",
       "      <th>Fare</th>\n",
       "      <th>Cabin</th>\n",
       "      <th>Embarked</th>\n",
       "    </tr>\n",
       "  </thead>\n",
       "  <tbody>\n",
       "    <tr>\n",
       "      <th>0</th>\n",
       "      <td>892</td>\n",
       "      <td>3</td>\n",
       "      <td>Kelly, Mr. James</td>\n",
       "      <td>male</td>\n",
       "      <td>34.5</td>\n",
       "      <td>0</td>\n",
       "      <td>0</td>\n",
       "      <td>330911</td>\n",
       "      <td>7.8292</td>\n",
       "      <td>NaN</td>\n",
       "      <td>Q</td>\n",
       "    </tr>\n",
       "    <tr>\n",
       "      <th>1</th>\n",
       "      <td>893</td>\n",
       "      <td>3</td>\n",
       "      <td>Wilkes, Mrs. James (Ellen Needs)</td>\n",
       "      <td>female</td>\n",
       "      <td>47.0</td>\n",
       "      <td>1</td>\n",
       "      <td>0</td>\n",
       "      <td>363272</td>\n",
       "      <td>7.0000</td>\n",
       "      <td>NaN</td>\n",
       "      <td>S</td>\n",
       "    </tr>\n",
       "    <tr>\n",
       "      <th>2</th>\n",
       "      <td>894</td>\n",
       "      <td>2</td>\n",
       "      <td>Myles, Mr. Thomas Francis</td>\n",
       "      <td>male</td>\n",
       "      <td>62.0</td>\n",
       "      <td>0</td>\n",
       "      <td>0</td>\n",
       "      <td>240276</td>\n",
       "      <td>9.6875</td>\n",
       "      <td>NaN</td>\n",
       "      <td>Q</td>\n",
       "    </tr>\n",
       "    <tr>\n",
       "      <th>3</th>\n",
       "      <td>895</td>\n",
       "      <td>3</td>\n",
       "      <td>Wirz, Mr. Albert</td>\n",
       "      <td>male</td>\n",
       "      <td>27.0</td>\n",
       "      <td>0</td>\n",
       "      <td>0</td>\n",
       "      <td>315154</td>\n",
       "      <td>8.6625</td>\n",
       "      <td>NaN</td>\n",
       "      <td>S</td>\n",
       "    </tr>\n",
       "    <tr>\n",
       "      <th>4</th>\n",
       "      <td>896</td>\n",
       "      <td>3</td>\n",
       "      <td>Hirvonen, Mrs. Alexander (Helga E Lindqvist)</td>\n",
       "      <td>female</td>\n",
       "      <td>22.0</td>\n",
       "      <td>1</td>\n",
       "      <td>1</td>\n",
       "      <td>3101298</td>\n",
       "      <td>12.2875</td>\n",
       "      <td>NaN</td>\n",
       "      <td>S</td>\n",
       "    </tr>\n",
       "  </tbody>\n",
       "</table>\n",
       "</div>"
      ],
      "text/plain": [
       "   PassengerId  Pclass                                          Name     Sex  \\\n",
       "0          892       3                              Kelly, Mr. James    male   \n",
       "1          893       3              Wilkes, Mrs. James (Ellen Needs)  female   \n",
       "2          894       2                     Myles, Mr. Thomas Francis    male   \n",
       "3          895       3                              Wirz, Mr. Albert    male   \n",
       "4          896       3  Hirvonen, Mrs. Alexander (Helga E Lindqvist)  female   \n",
       "\n",
       "    Age  SibSp  Parch   Ticket     Fare Cabin Embarked  \n",
       "0  34.5      0      0   330911   7.8292   NaN        Q  \n",
       "1  47.0      1      0   363272   7.0000   NaN        S  \n",
       "2  62.0      0      0   240276   9.6875   NaN        Q  \n",
       "3  27.0      0      0   315154   8.6625   NaN        S  \n",
       "4  22.0      1      1  3101298  12.2875   NaN        S  "
      ]
     },
     "execution_count": 4,
     "metadata": {},
     "output_type": "execute_result"
    }
   ],
   "source": [
    "test_data.head()"
   ]
  },
  {
   "cell_type": "code",
   "execution_count": 5,
   "id": "924a870d",
   "metadata": {
    "execution": {
     "iopub.execute_input": "2022-07-23T11:00:56.983827Z",
     "iopub.status.busy": "2022-07-23T11:00:56.983200Z",
     "iopub.status.idle": "2022-07-23T11:00:56.990411Z",
     "shell.execute_reply": "2022-07-23T11:00:56.988785Z"
    },
    "papermill": {
     "duration": 0.036152,
     "end_time": "2022-07-23T11:00:56.993737",
     "exception": false,
     "start_time": "2022-07-23T11:00:56.957585",
     "status": "completed"
    },
    "tags": []
   },
   "outputs": [
    {
     "name": "stdout",
     "output_type": "stream",
     "text": [
      "Train data features are:\n",
      "\n",
      "['PassengerId' 'Survived' 'Pclass' 'Name' 'Sex' 'Age' 'SibSp' 'Parch'\n",
      " 'Ticket' 'Fare' 'Cabin' 'Embarked']\n",
      "\n",
      " ================================================================================ \n",
      "\n",
      "Test data features are:\n",
      "\n",
      "['PassengerId' 'Pclass' 'Name' 'Sex' 'Age' 'SibSp' 'Parch' 'Ticket' 'Fare'\n",
      " 'Cabin' 'Embarked']\n"
     ]
    }
   ],
   "source": [
    "#=======================================================================================\n",
    "# Discovering the features:\n",
    "#=======================================================================================\n",
    "\n",
    "print(\"Train data features are:\\n\")\n",
    "print(train_data.columns.values)\n",
    "print('\\n' ,\"=\"*80 , '\\n')\n",
    "print(\"Test data features are:\\n\")\n",
    "print(test_data.columns.values)"
   ]
  },
  {
   "cell_type": "code",
   "execution_count": 6,
   "id": "ce463379",
   "metadata": {
    "execution": {
     "iopub.execute_input": "2022-07-23T11:00:57.045992Z",
     "iopub.status.busy": "2022-07-23T11:00:57.045212Z",
     "iopub.status.idle": "2022-07-23T11:00:57.084178Z",
     "shell.execute_reply": "2022-07-23T11:00:57.082680Z"
    },
    "papermill": {
     "duration": 0.067981,
     "end_time": "2022-07-23T11:00:57.087493",
     "exception": false,
     "start_time": "2022-07-23T11:00:57.019512",
     "status": "completed"
    },
    "tags": []
   },
   "outputs": [
    {
     "name": "stdout",
     "output_type": "stream",
     "text": [
      "<class 'pandas.core.frame.DataFrame'>\n",
      "RangeIndex: 891 entries, 0 to 890\n",
      "Data columns (total 12 columns):\n",
      " #   Column       Non-Null Count  Dtype  \n",
      "---  ------       --------------  -----  \n",
      " 0   PassengerId  891 non-null    int64  \n",
      " 1   Survived     891 non-null    int64  \n",
      " 2   Pclass       891 non-null    int64  \n",
      " 3   Name         891 non-null    object \n",
      " 4   Sex          891 non-null    object \n",
      " 5   Age          714 non-null    float64\n",
      " 6   SibSp        891 non-null    int64  \n",
      " 7   Parch        891 non-null    int64  \n",
      " 8   Ticket       891 non-null    object \n",
      " 9   Fare         891 non-null    float64\n",
      " 10  Cabin        204 non-null    object \n",
      " 11  Embarked     889 non-null    object \n",
      "dtypes: float64(2), int64(5), object(5)\n",
      "memory usage: 83.7+ KB\n",
      "________________________________________ \n",
      "\n",
      "<class 'pandas.core.frame.DataFrame'>\n",
      "RangeIndex: 418 entries, 0 to 417\n",
      "Data columns (total 11 columns):\n",
      " #   Column       Non-Null Count  Dtype  \n",
      "---  ------       --------------  -----  \n",
      " 0   PassengerId  418 non-null    int64  \n",
      " 1   Pclass       418 non-null    int64  \n",
      " 2   Name         418 non-null    object \n",
      " 3   Sex          418 non-null    object \n",
      " 4   Age          332 non-null    float64\n",
      " 5   SibSp        418 non-null    int64  \n",
      " 6   Parch        418 non-null    int64  \n",
      " 7   Ticket       418 non-null    object \n",
      " 8   Fare         417 non-null    float64\n",
      " 9   Cabin        91 non-null     object \n",
      " 10  Embarked     418 non-null    object \n",
      "dtypes: float64(2), int64(4), object(5)\n",
      "memory usage: 36.0+ KB\n"
     ]
    }
   ],
   "source": [
    "#=======================================================================================\n",
    "# Discovering the features types:\n",
    "#=======================================================================================\n",
    "\n",
    "train_data.info()\n",
    "print('_'*40 , '\\n')\n",
    "test_data.info()"
   ]
  },
  {
   "cell_type": "markdown",
   "id": "676c44ed",
   "metadata": {
    "papermill": {
     "duration": 0.031529,
     "end_time": "2022-07-23T11:00:57.143959",
     "exception": false,
     "start_time": "2022-07-23T11:00:57.112430",
     "status": "completed"
    },
    "tags": []
   },
   "source": [
    "#### Features discovering results:\n",
    "\n",
    "- Features of the test data are the same as features of the training data except for the Survived feature (because it's the target).\n",
    "- Features types:\n",
    "    - Categorical:\n",
    "        - Pclass (ordinal)\n",
    "        - Name (nominal)\n",
    "        - Sex (nominal)\n",
    "    - Numerical:\n",
    "        - Age (continuous)\n",
    "        - Fare (continuous)\n",
    "        - SibSp (discrete)\n",
    "        - Parch (discrete)\n",
    "    - Mixed:\n",
    "        - Ticket (numeric and alphanumeric)\n",
    "        - Cabin (alphanumeric)\n",
    "        \n",
    "**Insights:** Features types are very important for EDA step."
   ]
  },
  {
   "cell_type": "code",
   "execution_count": 7,
   "id": "8cc11443",
   "metadata": {
    "execution": {
     "iopub.execute_input": "2022-07-23T11:00:57.202920Z",
     "iopub.status.busy": "2022-07-23T11:00:57.202153Z",
     "iopub.status.idle": "2022-07-23T11:00:57.214333Z",
     "shell.execute_reply": "2022-07-23T11:00:57.212726Z"
    },
    "papermill": {
     "duration": 0.041126,
     "end_time": "2022-07-23T11:00:57.216838",
     "exception": false,
     "start_time": "2022-07-23T11:00:57.175712",
     "status": "completed"
    },
    "tags": []
   },
   "outputs": [
    {
     "name": "stdout",
     "output_type": "stream",
     "text": [
      "Train data missed values:\n",
      "\n",
      "PassengerId      0\n",
      "Survived         0\n",
      "Pclass           0\n",
      "Name             0\n",
      "Sex              0\n",
      "Age            177\n",
      "SibSp            0\n",
      "Parch            0\n",
      "Ticket           0\n",
      "Fare             0\n",
      "Cabin          687\n",
      "Embarked         2\n",
      "dtype: int64\n",
      "\n",
      " ________________________________________ \n",
      "\n",
      "Test data missed values:\n",
      "PassengerId      0\n",
      "Pclass           0\n",
      "Name             0\n",
      "Sex              0\n",
      "Age             86\n",
      "SibSp            0\n",
      "Parch            0\n",
      "Ticket           0\n",
      "Fare             1\n",
      "Cabin          327\n",
      "Embarked         0\n",
      "dtype: int64\n"
     ]
    }
   ],
   "source": [
    "#=======================================================================================\n",
    "# Discovering the missed values:\n",
    "#=======================================================================================\n",
    "\n",
    "print(\"Train data missed values:\\n\")\n",
    "print(train_data.isnull().sum())\n",
    "print('\\n','_'*40 , '\\n')\n",
    "print(\"Test data missed values:\")\n",
    "print(test_data.isnull().sum())"
   ]
  },
  {
   "cell_type": "markdown",
   "id": "e0f046b2",
   "metadata": {
    "papermill": {
     "duration": 0.034139,
     "end_time": "2022-07-23T11:00:57.275431",
     "exception": false,
     "start_time": "2022-07-23T11:00:57.241292",
     "status": "completed"
    },
    "tags": []
   },
   "source": [
    "#### Missed values discovering results:\n",
    "- Train Data:\n",
    "    - Age: 177/891 missed values (19.8% are missed).\n",
    "    - Cabin: 687/891 missed values (77.1% are missed).\n",
    "    - Embarked: 2/891 missed values.\n",
    "- Test Data:\n",
    "    - Age: 86/418 missed values (20.5% are missed).\n",
    "    - Cabin: 327/418 missed values (78.2% are missed).\n",
    "    - Fare: 1/418 missed values.\n",
    "    \n",
    "**Insights:** Now we know what are the missed values, And we are going to discover the correlations to do what is appropriate."
   ]
  },
  {
   "cell_type": "code",
   "execution_count": 8,
   "id": "01323479",
   "metadata": {
    "execution": {
     "iopub.execute_input": "2022-07-23T11:00:57.328494Z",
     "iopub.status.busy": "2022-07-23T11:00:57.327693Z",
     "iopub.status.idle": "2022-07-23T11:00:57.365938Z",
     "shell.execute_reply": "2022-07-23T11:00:57.364824Z"
    },
    "papermill": {
     "duration": 0.066812,
     "end_time": "2022-07-23T11:00:57.368374",
     "exception": false,
     "start_time": "2022-07-23T11:00:57.301562",
     "status": "completed"
    },
    "tags": []
   },
   "outputs": [
    {
     "data": {
      "text/html": [
       "<div>\n",
       "<style scoped>\n",
       "    .dataframe tbody tr th:only-of-type {\n",
       "        vertical-align: middle;\n",
       "    }\n",
       "\n",
       "    .dataframe tbody tr th {\n",
       "        vertical-align: top;\n",
       "    }\n",
       "\n",
       "    .dataframe thead th {\n",
       "        text-align: right;\n",
       "    }\n",
       "</style>\n",
       "<table border=\"1\" class=\"dataframe\">\n",
       "  <thead>\n",
       "    <tr style=\"text-align: right;\">\n",
       "      <th></th>\n",
       "      <th>PassengerId</th>\n",
       "      <th>Survived</th>\n",
       "      <th>Pclass</th>\n",
       "      <th>Age</th>\n",
       "      <th>SibSp</th>\n",
       "      <th>Parch</th>\n",
       "      <th>Fare</th>\n",
       "    </tr>\n",
       "  </thead>\n",
       "  <tbody>\n",
       "    <tr>\n",
       "      <th>count</th>\n",
       "      <td>891.000000</td>\n",
       "      <td>891.000000</td>\n",
       "      <td>891.000000</td>\n",
       "      <td>714.000000</td>\n",
       "      <td>891.000000</td>\n",
       "      <td>891.000000</td>\n",
       "      <td>891.000000</td>\n",
       "    </tr>\n",
       "    <tr>\n",
       "      <th>mean</th>\n",
       "      <td>446.000000</td>\n",
       "      <td>0.383838</td>\n",
       "      <td>2.308642</td>\n",
       "      <td>29.699118</td>\n",
       "      <td>0.523008</td>\n",
       "      <td>0.381594</td>\n",
       "      <td>32.204208</td>\n",
       "    </tr>\n",
       "    <tr>\n",
       "      <th>std</th>\n",
       "      <td>257.353842</td>\n",
       "      <td>0.486592</td>\n",
       "      <td>0.836071</td>\n",
       "      <td>14.526497</td>\n",
       "      <td>1.102743</td>\n",
       "      <td>0.806057</td>\n",
       "      <td>49.693429</td>\n",
       "    </tr>\n",
       "    <tr>\n",
       "      <th>min</th>\n",
       "      <td>1.000000</td>\n",
       "      <td>0.000000</td>\n",
       "      <td>1.000000</td>\n",
       "      <td>0.420000</td>\n",
       "      <td>0.000000</td>\n",
       "      <td>0.000000</td>\n",
       "      <td>0.000000</td>\n",
       "    </tr>\n",
       "    <tr>\n",
       "      <th>25%</th>\n",
       "      <td>223.500000</td>\n",
       "      <td>0.000000</td>\n",
       "      <td>2.000000</td>\n",
       "      <td>20.125000</td>\n",
       "      <td>0.000000</td>\n",
       "      <td>0.000000</td>\n",
       "      <td>7.910400</td>\n",
       "    </tr>\n",
       "    <tr>\n",
       "      <th>50%</th>\n",
       "      <td>446.000000</td>\n",
       "      <td>0.000000</td>\n",
       "      <td>3.000000</td>\n",
       "      <td>28.000000</td>\n",
       "      <td>0.000000</td>\n",
       "      <td>0.000000</td>\n",
       "      <td>14.454200</td>\n",
       "    </tr>\n",
       "    <tr>\n",
       "      <th>75%</th>\n",
       "      <td>668.500000</td>\n",
       "      <td>1.000000</td>\n",
       "      <td>3.000000</td>\n",
       "      <td>38.000000</td>\n",
       "      <td>1.000000</td>\n",
       "      <td>0.000000</td>\n",
       "      <td>31.000000</td>\n",
       "    </tr>\n",
       "    <tr>\n",
       "      <th>max</th>\n",
       "      <td>891.000000</td>\n",
       "      <td>1.000000</td>\n",
       "      <td>3.000000</td>\n",
       "      <td>80.000000</td>\n",
       "      <td>8.000000</td>\n",
       "      <td>6.000000</td>\n",
       "      <td>512.329200</td>\n",
       "    </tr>\n",
       "  </tbody>\n",
       "</table>\n",
       "</div>"
      ],
      "text/plain": [
       "       PassengerId    Survived      Pclass         Age       SibSp  \\\n",
       "count   891.000000  891.000000  891.000000  714.000000  891.000000   \n",
       "mean    446.000000    0.383838    2.308642   29.699118    0.523008   \n",
       "std     257.353842    0.486592    0.836071   14.526497    1.102743   \n",
       "min       1.000000    0.000000    1.000000    0.420000    0.000000   \n",
       "25%     223.500000    0.000000    2.000000   20.125000    0.000000   \n",
       "50%     446.000000    0.000000    3.000000   28.000000    0.000000   \n",
       "75%     668.500000    1.000000    3.000000   38.000000    1.000000   \n",
       "max     891.000000    1.000000    3.000000   80.000000    8.000000   \n",
       "\n",
       "            Parch        Fare  \n",
       "count  891.000000  891.000000  \n",
       "mean     0.381594   32.204208  \n",
       "std      0.806057   49.693429  \n",
       "min      0.000000    0.000000  \n",
       "25%      0.000000    7.910400  \n",
       "50%      0.000000   14.454200  \n",
       "75%      0.000000   31.000000  \n",
       "max      6.000000  512.329200  "
      ]
     },
     "execution_count": 8,
     "metadata": {},
     "output_type": "execute_result"
    }
   ],
   "source": [
    "#=======================================================================================\n",
    "# Discovering the numerical data distribution :\n",
    "#=======================================================================================\n",
    "\n",
    "train_data.describe()"
   ]
  },
  {
   "cell_type": "markdown",
   "id": "c6e400b6",
   "metadata": {
    "papermill": {
     "duration": 0.025331,
     "end_time": "2022-07-23T11:00:57.429381",
     "exception": false,
     "start_time": "2022-07-23T11:00:57.404050",
     "status": "completed"
    },
    "tags": []
   },
   "source": [
    "#### Numerical data distribution discovering results:\n",
    "  - The survival rate for this data is 38.3%.\n",
    "  - More than 75% of the passengers are below 38 years old.\n",
    "  - There are too few old passengers.\n",
    "  - Most passengers travel alone.\n",
    "  - There are a few outliers in the Fare feature.\n",
    "\n",
    "**insights:**  \n",
    "  - Age feature has right skewness, So if we are going to fill missing values we will not use the average.\n",
    "  - There are outliers in Fare, Age, SibSp and Parch features. This inspire us for EDA Step."
   ]
  },
  {
   "cell_type": "code",
   "execution_count": 9,
   "id": "316608f5",
   "metadata": {
    "execution": {
     "iopub.execute_input": "2022-07-23T11:00:57.495064Z",
     "iopub.status.busy": "2022-07-23T11:00:57.493596Z",
     "iopub.status.idle": "2022-07-23T11:00:57.520559Z",
     "shell.execute_reply": "2022-07-23T11:00:57.519599Z"
    },
    "papermill": {
     "duration": 0.063478,
     "end_time": "2022-07-23T11:00:57.523346",
     "exception": false,
     "start_time": "2022-07-23T11:00:57.459868",
     "status": "completed"
    },
    "tags": []
   },
   "outputs": [
    {
     "data": {
      "text/html": [
       "<div>\n",
       "<style scoped>\n",
       "    .dataframe tbody tr th:only-of-type {\n",
       "        vertical-align: middle;\n",
       "    }\n",
       "\n",
       "    .dataframe tbody tr th {\n",
       "        vertical-align: top;\n",
       "    }\n",
       "\n",
       "    .dataframe thead th {\n",
       "        text-align: right;\n",
       "    }\n",
       "</style>\n",
       "<table border=\"1\" class=\"dataframe\">\n",
       "  <thead>\n",
       "    <tr style=\"text-align: right;\">\n",
       "      <th></th>\n",
       "      <th>Name</th>\n",
       "      <th>Sex</th>\n",
       "      <th>Ticket</th>\n",
       "      <th>Cabin</th>\n",
       "      <th>Embarked</th>\n",
       "    </tr>\n",
       "  </thead>\n",
       "  <tbody>\n",
       "    <tr>\n",
       "      <th>count</th>\n",
       "      <td>891</td>\n",
       "      <td>891</td>\n",
       "      <td>891</td>\n",
       "      <td>204</td>\n",
       "      <td>889</td>\n",
       "    </tr>\n",
       "    <tr>\n",
       "      <th>unique</th>\n",
       "      <td>891</td>\n",
       "      <td>2</td>\n",
       "      <td>681</td>\n",
       "      <td>147</td>\n",
       "      <td>3</td>\n",
       "    </tr>\n",
       "    <tr>\n",
       "      <th>top</th>\n",
       "      <td>Braund, Mr. Owen Harris</td>\n",
       "      <td>male</td>\n",
       "      <td>347082</td>\n",
       "      <td>B96 B98</td>\n",
       "      <td>S</td>\n",
       "    </tr>\n",
       "    <tr>\n",
       "      <th>freq</th>\n",
       "      <td>1</td>\n",
       "      <td>577</td>\n",
       "      <td>7</td>\n",
       "      <td>4</td>\n",
       "      <td>644</td>\n",
       "    </tr>\n",
       "  </tbody>\n",
       "</table>\n",
       "</div>"
      ],
      "text/plain": [
       "                           Name   Sex  Ticket    Cabin Embarked\n",
       "count                       891   891     891      204      889\n",
       "unique                      891     2     681      147        3\n",
       "top     Braund, Mr. Owen Harris  male  347082  B96 B98        S\n",
       "freq                          1   577       7        4      644"
      ]
     },
     "execution_count": 9,
     "metadata": {},
     "output_type": "execute_result"
    }
   ],
   "source": [
    "#=======================================================================================\n",
    "# Discovering the categorical data distribution :\n",
    "#=======================================================================================\n",
    "\n",
    "train_data.describe(include=['O'])"
   ]
  },
  {
   "cell_type": "markdown",
   "id": "4bacd095",
   "metadata": {
    "papermill": {
     "duration": 0.024809,
     "end_time": "2022-07-23T11:00:57.579472",
     "exception": false,
     "start_time": "2022-07-23T11:00:57.554663",
     "status": "completed"
    },
    "tags": []
   },
   "source": [
    "#### Categorical data distribution discovering results:\n",
    " - There are no duplicated names.\n",
    " - 64.7% of the passengers are males\n",
    " - There are duplicated values in the Ticket feature (23.5% are duplicated).\n",
    " - There are duplicated values in the Cabin feature (27.9% are duplicated).\n",
    " - 72.4% of the passengers used \"S\" Embarked.\n",
    "\n",
    "**insights:**\n",
    " - Names uniqueness gives us unsight for Data Engineering Step.\n",
    " - Duplicate values in Ticket and Cabin features give us insights to make the right decision when filling missed values.\n",
    " - we will fill missed Embarked values with 'S' type."
   ]
  },
  {
   "cell_type": "markdown",
   "id": "4e5abea1",
   "metadata": {
    "papermill": {
     "duration": 0.0256,
     "end_time": "2022-07-23T11:00:57.630260",
     "exception": false,
     "start_time": "2022-07-23T11:00:57.604660",
     "status": "completed"
    },
    "tags": []
   },
   "source": [
    "<div style=\"color:#00ADB5;\n",
    "           display:fill;\n",
    "           border-radius:5px;\n",
    "           background-color:#393E46;\n",
    "           font-size:20px;\n",
    "           font-family:sans-serif;\n",
    "           letter-spacing:0.5px\">\n",
    "        <p style=\"padding: 10px;\n",
    "              color:white;\">\n",
    "            <b> 3 ) Exploratory Data Analysis (EDA):</b>\n",
    "        </p>\n",
    "</div>\n",
    "\n"
   ]
  },
  {
   "cell_type": "code",
   "execution_count": 10,
   "id": "56339c45",
   "metadata": {
    "execution": {
     "iopub.execute_input": "2022-07-23T11:00:57.683412Z",
     "iopub.status.busy": "2022-07-23T11:00:57.682476Z",
     "iopub.status.idle": "2022-07-23T11:00:57.975893Z",
     "shell.execute_reply": "2022-07-23T11:00:57.974975Z"
    },
    "papermill": {
     "duration": 0.323504,
     "end_time": "2022-07-23T11:00:57.978914",
     "exception": false,
     "start_time": "2022-07-23T11:00:57.655410",
     "status": "completed"
    },
    "tags": []
   },
   "outputs": [
    {
     "data": {
      "image/png": "[encoded data removed]",
      "text/plain": [
       "<Figure size 576x288 with 2 Axes>"
      ]
     },
     "metadata": {
      "needs_background": "light"
     },
     "output_type": "display_data"
    }
   ],
   "source": [
    "# ===================================================================\n",
    "# Count of survived\n",
    "# ===================================================================\n",
    "f,ax=plt.subplots(1,2,figsize=(8,4))\n",
    "train_data['Survived'].replace({0:\"died\",1:\"survived\"}).value_counts().plot.pie(explode=[0,0.1],autopct='%1.1f%%',ax=ax[0],shadow=True)\n",
    "ax[0].set_ylabel('')\n",
    "sns.countplot(x = train_data[\"Survived\"].replace({0:\"died\",1:\"survived\"}) , ax = ax[1])\n",
    "ax[1].set_ylabel('')\n",
    "ax[1].set_xlabel('')\n",
    "plt.show()"
   ]
  },
  {
   "cell_type": "markdown",
   "id": "6a134a6e",
   "metadata": {
    "papermill": {
     "duration": 0.025237,
     "end_time": "2022-07-23T11:00:58.042092",
     "exception": false,
     "start_time": "2022-07-23T11:00:58.016855",
     "status": "completed"
    },
    "tags": []
   },
   "source": [
    "We saw before that only 338 (38%) of the passengers survived, We need to dig down more to get better insights from the data and see which categories of the passengers did survive and who didn't.\n",
    "\n"
   ]
  },
  {
   "cell_type": "markdown",
   "id": "fe48f232",
   "metadata": {
    "papermill": {
     "duration": 0.026759,
     "end_time": "2022-07-23T11:00:58.095619",
     "exception": false,
     "start_time": "2022-07-23T11:00:58.068860",
     "status": "completed"
    },
    "tags": []
   },
   "source": [
    "<div style=\"color:black;\n",
    "           border-radius:0px;\n",
    "           background-color:#00ADB5;\n",
    "           font-size:14px;\n",
    "           font-family:sans-serif;\n",
    "           letter-spacing:0.5px\">\n",
    "        <p style=\"padding: 6px;\n",
    "              color:white;\">\n",
    "            <b>Discovering the features correlation with Survived:</b>\n",
    "        </p>\n",
    "</div>\n"
   ]
  },
  {
   "cell_type": "code",
   "execution_count": 11,
   "id": "ba3e6859",
   "metadata": {
    "execution": {
     "iopub.execute_input": "2022-07-23T11:00:58.149398Z",
     "iopub.status.busy": "2022-07-23T11:00:58.148678Z",
     "iopub.status.idle": "2022-07-23T11:00:58.157072Z",
     "shell.execute_reply": "2022-07-23T11:00:58.156260Z"
    },
    "papermill": {
     "duration": 0.038212,
     "end_time": "2022-07-23T11:00:58.159485",
     "exception": false,
     "start_time": "2022-07-23T11:00:58.121273",
     "status": "completed"
    },
    "tags": []
   },
   "outputs": [],
   "source": [
    "# Helper functions:\n",
    "def survived_bar_plot(feature):\n",
    "    plt.figure(figsize = (6,4))\n",
    "    sns.barplot(data = train_data , x = feature , y = \"Survived\").set_title(f\"{feature} Vs Survived\")\n",
    "    plt.show()\n",
    "def survived_table(feature):\n",
    "    return train_data[[feature, \"Survived\"]].groupby([feature], as_index=False).mean().sort_values(by='Survived', ascending=False).style.background_gradient(low=0.75,high=1)\n",
    "def survived_hist_plot(feature):\n",
    "    plt.figure(figsize = (6,4))\n",
    "    sns.histplot(data = train_data , x = feature , hue = \"Survived\",binwidth=5,palette = sns.color_palette([\"yellow\" , \"green\"]) ,multiple = \"stack\" ).set_title(f\"{feature} Vs Survived\")\n",
    "    plt.show()"
   ]
  },
  {
   "cell_type": "markdown",
   "id": "e7aec52e",
   "metadata": {
    "papermill": {
     "duration": 0.0249,
     "end_time": "2022-07-23T11:00:58.210316",
     "exception": false,
     "start_time": "2022-07-23T11:00:58.185416",
     "status": "completed"
    },
    "tags": []
   },
   "source": [
    "#### Sex Vs Survived:"
   ]
  },
  {
   "cell_type": "code",
   "execution_count": 12,
   "id": "8d5fcefc",
   "metadata": {
    "execution": {
     "iopub.execute_input": "2022-07-23T11:00:58.263461Z",
     "iopub.status.busy": "2022-07-23T11:00:58.262725Z",
     "iopub.status.idle": "2022-07-23T11:00:58.460613Z",
     "shell.execute_reply": "2022-07-23T11:00:58.458979Z"
    },
    "papermill": {
     "duration": 0.229053,
     "end_time": "2022-07-23T11:00:58.465111",
     "exception": false,
     "start_time": "2022-07-23T11:00:58.236058",
     "status": "completed"
    },
    "tags": []
   },
   "outputs": [
    {
     "data": {
      "image/png": "[encoded data removed]",
      "text/plain": [
       "<Figure size 432x288 with 1 Axes>"
      ]
     },
     "metadata": {
      "needs_background": "light"
     },
     "output_type": "display_data"
    }
   ],
   "source": [
    "survived_bar_plot('Sex')"
   ]
  },
  {
   "cell_type": "code",
   "execution_count": 13,
   "id": "08f266ad",
   "metadata": {
    "execution": {
     "iopub.execute_input": "2022-07-23T11:00:58.528975Z",
     "iopub.status.busy": "2022-07-23T11:00:58.528310Z",
     "iopub.status.idle": "2022-07-23T11:00:58.610574Z",
     "shell.execute_reply": "2022-07-23T11:00:58.609378Z"
    },
    "papermill": {
     "duration": 0.111511,
     "end_time": "2022-07-23T11:00:58.612968",
     "exception": false,
     "start_time": "2022-07-23T11:00:58.501457",
     "status": "completed"
    },
    "tags": []
   },
   "outputs": [
    {
     "data": {
      "text/html": [
       "<style type=\"text/css\">\n",
       "#T_8c638_row0_col1 {\n",
       "  background-color: #328dbf;\n",
       "  color: #f1f1f1;\n",
       "}\n",
       "#T_8c638_row1_col1 {\n",
       "  background-color: #c9cee4;\n",
       "  color: #000000;\n",
       "}\n",
       "</style>\n",
       "<table id=\"T_8c638_\">\n",
       "  <thead>\n",
       "    <tr>\n",
       "      <th class=\"blank level0\" >&nbsp;</th>\n",
       "      <th class=\"col_heading level0 col0\" >Sex</th>\n",
       "      <th class=\"col_heading level0 col1\" >Survived</th>\n",
       "    </tr>\n",
       "  </thead>\n",
       "  <tbody>\n",
       "    <tr>\n",
       "      <th id=\"T_8c638_level0_row0\" class=\"row_heading level0 row0\" >0</th>\n",
       "      <td id=\"T_8c638_row0_col0\" class=\"data row0 col0\" >female</td>\n",
       "      <td id=\"T_8c638_row0_col1\" class=\"data row0 col1\" >0.742038</td>\n",
       "    </tr>\n",
       "    <tr>\n",
       "      <th id=\"T_8c638_level0_row1\" class=\"row_heading level0 row1\" >1</th>\n",
       "      <td id=\"T_8c638_row1_col0\" class=\"data row1 col0\" >male</td>\n",
       "      <td id=\"T_8c638_row1_col1\" class=\"data row1 col1\" >0.188908</td>\n",
       "    </tr>\n",
       "  </tbody>\n",
       "</table>\n"
      ],
      "text/plain": [
       "<pandas.io.formats.style.Styler at 0x7f00c3566e10>"
      ]
     },
     "execution_count": 13,
     "metadata": {},
     "output_type": "execute_result"
    }
   ],
   "source": [
    "survived_table(\"Sex\")"
   ]
  },
  {
   "cell_type": "markdown",
   "id": "14edcf28",
   "metadata": {
    "papermill": {
     "duration": 0.025282,
     "end_time": "2022-07-23T11:00:58.664802",
     "exception": false,
     "start_time": "2022-07-23T11:00:58.639520",
     "status": "completed"
    },
    "tags": []
   },
   "source": [
    "Females have higher Survival rate (74%)"
   ]
  },
  {
   "cell_type": "markdown",
   "id": "c093e628",
   "metadata": {
    "papermill": {
     "duration": 0.02537,
     "end_time": "2022-07-23T11:00:58.715891",
     "exception": false,
     "start_time": "2022-07-23T11:00:58.690521",
     "status": "completed"
    },
    "tags": []
   },
   "source": [
    "#### Pclass Vs Survived:"
   ]
  },
  {
   "cell_type": "code",
   "execution_count": 14,
   "id": "3d680b2b",
   "metadata": {
    "execution": {
     "iopub.execute_input": "2022-07-23T11:00:58.769185Z",
     "iopub.status.busy": "2022-07-23T11:00:58.768251Z",
     "iopub.status.idle": "2022-07-23T11:00:59.045736Z",
     "shell.execute_reply": "2022-07-23T11:00:59.044618Z"
    },
    "papermill": {
     "duration": 0.306941,
     "end_time": "2022-07-23T11:00:59.048399",
     "exception": false,
     "start_time": "2022-07-23T11:00:58.741458",
     "status": "completed"
    },
    "tags": []
   },
   "outputs": [
    {
     "data": {
      "image/png": "[encoded data removed]",
      "text/plain": [
       "<Figure size 432x288 with 1 Axes>"
      ]
     },
     "metadata": {
      "needs_background": "light"
     },
     "output_type": "display_data"
    }
   ],
   "source": [
    "survived_bar_plot(\"Pclass\")"
   ]
  },
  {
   "cell_type": "code",
   "execution_count": 15,
   "id": "2be2f655",
   "metadata": {
    "execution": {
     "iopub.execute_input": "2022-07-23T11:00:59.102676Z",
     "iopub.status.busy": "2022-07-23T11:00:59.102264Z",
     "iopub.status.idle": "2022-07-23T11:00:59.120413Z",
     "shell.execute_reply": "2022-07-23T11:00:59.119332Z"
    },
    "papermill": {
     "duration": 0.048089,
     "end_time": "2022-07-23T11:00:59.122876",
     "exception": false,
     "start_time": "2022-07-23T11:00:59.074787",
     "status": "completed"
    },
    "tags": []
   },
   "outputs": [
    {
     "data": {
      "text/html": [
       "<style type=\"text/css\">\n",
       "#T_9ecb3_row0_col0, #T_9ecb3_row2_col1 {\n",
       "  background-color: #c9cee4;\n",
       "  color: #000000;\n",
       "}\n",
       "#T_9ecb3_row0_col1, #T_9ecb3_row2_col0 {\n",
       "  background-color: #328dbf;\n",
       "  color: #f1f1f1;\n",
       "}\n",
       "#T_9ecb3_row1_col0 {\n",
       "  background-color: #86b0d3;\n",
       "  color: #000000;\n",
       "}\n",
       "#T_9ecb3_row1_col1 {\n",
       "  background-color: #78abd0;\n",
       "  color: #f1f1f1;\n",
       "}\n",
       "</style>\n",
       "<table id=\"T_9ecb3_\">\n",
       "  <thead>\n",
       "    <tr>\n",
       "      <th class=\"blank level0\" >&nbsp;</th>\n",
       "      <th class=\"col_heading level0 col0\" >Pclass</th>\n",
       "      <th class=\"col_heading level0 col1\" >Survived</th>\n",
       "    </tr>\n",
       "  </thead>\n",
       "  <tbody>\n",
       "    <tr>\n",
       "      <th id=\"T_9ecb3_level0_row0\" class=\"row_heading level0 row0\" >0</th>\n",
       "      <td id=\"T_9ecb3_row0_col0\" class=\"data row0 col0\" >1</td>\n",
       "      <td id=\"T_9ecb3_row0_col1\" class=\"data row0 col1\" >0.629630</td>\n",
       "    </tr>\n",
       "    <tr>\n",
       "      <th id=\"T_9ecb3_level0_row1\" class=\"row_heading level0 row1\" >1</th>\n",
       "      <td id=\"T_9ecb3_row1_col0\" class=\"data row1 col0\" >2</td>\n",
       "      <td id=\"T_9ecb3_row1_col1\" class=\"data row1 col1\" >0.472826</td>\n",
       "    </tr>\n",
       "    <tr>\n",
       "      <th id=\"T_9ecb3_level0_row2\" class=\"row_heading level0 row2\" >2</th>\n",
       "      <td id=\"T_9ecb3_row2_col0\" class=\"data row2 col0\" >3</td>\n",
       "      <td id=\"T_9ecb3_row2_col1\" class=\"data row2 col1\" >0.242363</td>\n",
       "    </tr>\n",
       "  </tbody>\n",
       "</table>\n"
      ],
      "text/plain": [
       "<pandas.io.formats.style.Styler at 0x7f00c367f210>"
      ]
     },
     "execution_count": 15,
     "metadata": {},
     "output_type": "execute_result"
    }
   ],
   "source": [
    "survived_table(\"Pclass\")"
   ]
  },
  {
   "cell_type": "markdown",
   "id": "cfc183f8",
   "metadata": {
    "papermill": {
     "duration": 0.026032,
     "end_time": "2022-07-23T11:00:59.175025",
     "exception": false,
     "start_time": "2022-07-23T11:00:59.148993",
     "status": "completed"
    },
    "tags": []
   },
   "source": [
    "First Pclass passengers are more likely to survive then Seconde Pclass then Third."
   ]
  },
  {
   "cell_type": "markdown",
   "id": "f676677b",
   "metadata": {
    "papermill": {
     "duration": 0.025743,
     "end_time": "2022-07-23T11:00:59.226831",
     "exception": false,
     "start_time": "2022-07-23T11:00:59.201088",
     "status": "completed"
    },
    "tags": []
   },
   "source": [
    "#### Embarked:"
   ]
  },
  {
   "cell_type": "code",
   "execution_count": 16,
   "id": "42e99c5d",
   "metadata": {
    "execution": {
     "iopub.execute_input": "2022-07-23T11:00:59.282059Z",
     "iopub.status.busy": "2022-07-23T11:00:59.281651Z",
     "iopub.status.idle": "2022-07-23T11:00:59.552357Z",
     "shell.execute_reply": "2022-07-23T11:00:59.551256Z"
    },
    "papermill": {
     "duration": 0.300958,
     "end_time": "2022-07-23T11:00:59.554770",
     "exception": false,
     "start_time": "2022-07-23T11:00:59.253812",
     "status": "completed"
    },
    "tags": []
   },
   "outputs": [
    {
     "data": {
      "image/png": "[encoded data removed]",
      "text/plain": [
       "<Figure size 432x288 with 1 Axes>"
      ]
     },
     "metadata": {
      "needs_background": "light"
     },
     "output_type": "display_data"
    }
   ],
   "source": [
    "survived_bar_plot(\"Embarked\")"
   ]
  },
  {
   "cell_type": "code",
   "execution_count": 17,
   "id": "af05c19b",
   "metadata": {
    "execution": {
     "iopub.execute_input": "2022-07-23T11:00:59.609557Z",
     "iopub.status.busy": "2022-07-23T11:00:59.609173Z",
     "iopub.status.idle": "2022-07-23T11:00:59.625857Z",
     "shell.execute_reply": "2022-07-23T11:00:59.624669Z"
    },
    "papermill": {
     "duration": 0.047113,
     "end_time": "2022-07-23T11:00:59.628223",
     "exception": false,
     "start_time": "2022-07-23T11:00:59.581110",
     "status": "completed"
    },
    "tags": []
   },
   "outputs": [
    {
     "data": {
      "text/html": [
       "<style type=\"text/css\">\n",
       "#T_6b943_row0_col1 {\n",
       "  background-color: #328dbf;\n",
       "  color: #f1f1f1;\n",
       "}\n",
       "#T_6b943_row1_col1 {\n",
       "  background-color: #abbfdc;\n",
       "  color: #000000;\n",
       "}\n",
       "#T_6b943_row2_col1 {\n",
       "  background-color: #c9cee4;\n",
       "  color: #000000;\n",
       "}\n",
       "</style>\n",
       "<table id=\"T_6b943_\">\n",
       "  <thead>\n",
       "    <tr>\n",
       "      <th class=\"blank level0\" >&nbsp;</th>\n",
       "      <th class=\"col_heading level0 col0\" >Embarked</th>\n",
       "      <th class=\"col_heading level0 col1\" >Survived</th>\n",
       "    </tr>\n",
       "  </thead>\n",
       "  <tbody>\n",
       "    <tr>\n",
       "      <th id=\"T_6b943_level0_row0\" class=\"row_heading level0 row0\" >0</th>\n",
       "      <td id=\"T_6b943_row0_col0\" class=\"data row0 col0\" >C</td>\n",
       "      <td id=\"T_6b943_row0_col1\" class=\"data row0 col1\" >0.553571</td>\n",
       "    </tr>\n",
       "    <tr>\n",
       "      <th id=\"T_6b943_level0_row1\" class=\"row_heading level0 row1\" >1</th>\n",
       "      <td id=\"T_6b943_row1_col0\" class=\"data row1 col0\" >Q</td>\n",
       "      <td id=\"T_6b943_row1_col1\" class=\"data row1 col1\" >0.389610</td>\n",
       "    </tr>\n",
       "    <tr>\n",
       "      <th id=\"T_6b943_level0_row2\" class=\"row_heading level0 row2\" >2</th>\n",
       "      <td id=\"T_6b943_row2_col0\" class=\"data row2 col0\" >S</td>\n",
       "      <td id=\"T_6b943_row2_col1\" class=\"data row2 col1\" >0.336957</td>\n",
       "    </tr>\n",
       "  </tbody>\n",
       "</table>\n"
      ],
      "text/plain": [
       "<pandas.io.formats.style.Styler at 0x7f00c1220550>"
      ]
     },
     "execution_count": 17,
     "metadata": {},
     "output_type": "execute_result"
    }
   ],
   "source": [
    "survived_table(\"Embarked\")"
   ]
  },
  {
   "cell_type": "markdown",
   "id": "8603e240",
   "metadata": {
    "papermill": {
     "duration": 0.026409,
     "end_time": "2022-07-23T11:00:59.681812",
     "exception": false,
     "start_time": "2022-07-23T11:00:59.655403",
     "status": "completed"
    },
    "tags": []
   },
   "source": [
    "Passengers who used C Embarked are most likely to survive, Then Q, Then S. (This reasong maybe undirect, I thinks that most of 1 Pclass passengers used C Embarked)"
   ]
  },
  {
   "cell_type": "markdown",
   "id": "452101e8",
   "metadata": {
    "papermill": {
     "duration": 0.026381,
     "end_time": "2022-07-23T11:00:59.734683",
     "exception": false,
     "start_time": "2022-07-23T11:00:59.708302",
     "status": "completed"
    },
    "tags": []
   },
   "source": [
    "#### Parch:"
   ]
  },
  {
   "cell_type": "code",
   "execution_count": 18,
   "id": "a93c20dc",
   "metadata": {
    "execution": {
     "iopub.execute_input": "2022-07-23T11:00:59.790562Z",
     "iopub.status.busy": "2022-07-23T11:00:59.789863Z",
     "iopub.status.idle": "2022-07-23T11:01:00.179822Z",
     "shell.execute_reply": "2022-07-23T11:01:00.178649Z"
    },
    "papermill": {
     "duration": 0.420609,
     "end_time": "2022-07-23T11:01:00.182500",
     "exception": false,
     "start_time": "2022-07-23T11:00:59.761891",
     "status": "completed"
    },
    "tags": []
   },
   "outputs": [
    {
     "data": {
      "image/png": "[encoded data removed]",
      "text/plain": [
       "<Figure size 432x288 with 1 Axes>"
      ]
     },
     "metadata": {
      "needs_background": "light"
     },
     "output_type": "display_data"
    }
   ],
   "source": [
    "survived_bar_plot(\"Parch\")"
   ]
  },
  {
   "cell_type": "code",
   "execution_count": 19,
   "id": "8a07fea5",
   "metadata": {
    "execution": {
     "iopub.execute_input": "2022-07-23T11:01:00.238173Z",
     "iopub.status.busy": "2022-07-23T11:01:00.237105Z",
     "iopub.status.idle": "2022-07-23T11:01:00.254379Z",
     "shell.execute_reply": "2022-07-23T11:01:00.253435Z"
    },
    "papermill": {
     "duration": 0.047369,
     "end_time": "2022-07-23T11:01:00.256636",
     "exception": false,
     "start_time": "2022-07-23T11:01:00.209267",
     "status": "completed"
    },
    "tags": []
   },
   "outputs": [
    {
     "data": {
      "text/html": [
       "<style type=\"text/css\">\n",
       "#T_498fc_row0_col0 {\n",
       "  background-color: #86b0d3;\n",
       "  color: #000000;\n",
       "}\n",
       "#T_498fc_row0_col1, #T_498fc_row6_col0 {\n",
       "  background-color: #328dbf;\n",
       "  color: #f1f1f1;\n",
       "}\n",
       "#T_498fc_row1_col0 {\n",
       "  background-color: #b4c4df;\n",
       "  color: #000000;\n",
       "}\n",
       "#T_498fc_row1_col1 {\n",
       "  background-color: #3f93c2;\n",
       "  color: #f1f1f1;\n",
       "}\n",
       "#T_498fc_row2_col0, #T_498fc_row4_col1 {\n",
       "  background-color: #9fbad9;\n",
       "  color: #000000;\n",
       "}\n",
       "#T_498fc_row2_col1, #T_498fc_row4_col0 {\n",
       "  background-color: #4e9ac6;\n",
       "  color: #f1f1f1;\n",
       "}\n",
       "#T_498fc_row3_col0, #T_498fc_row5_col1, #T_498fc_row6_col1 {\n",
       "  background-color: #c9cee4;\n",
       "  color: #000000;\n",
       "}\n",
       "#T_498fc_row3_col1 {\n",
       "  background-color: #7bacd1;\n",
       "  color: #f1f1f1;\n",
       "}\n",
       "#T_498fc_row5_col0 {\n",
       "  background-color: #6da6cd;\n",
       "  color: #f1f1f1;\n",
       "}\n",
       "</style>\n",
       "<table id=\"T_498fc_\">\n",
       "  <thead>\n",
       "    <tr>\n",
       "      <th class=\"blank level0\" >&nbsp;</th>\n",
       "      <th class=\"col_heading level0 col0\" >Parch</th>\n",
       "      <th class=\"col_heading level0 col1\" >Survived</th>\n",
       "    </tr>\n",
       "  </thead>\n",
       "  <tbody>\n",
       "    <tr>\n",
       "      <th id=\"T_498fc_level0_row0\" class=\"row_heading level0 row0\" >3</th>\n",
       "      <td id=\"T_498fc_row0_col0\" class=\"data row0 col0\" >3</td>\n",
       "      <td id=\"T_498fc_row0_col1\" class=\"data row0 col1\" >0.600000</td>\n",
       "    </tr>\n",
       "    <tr>\n",
       "      <th id=\"T_498fc_level0_row1\" class=\"row_heading level0 row1\" >1</th>\n",
       "      <td id=\"T_498fc_row1_col0\" class=\"data row1 col0\" >1</td>\n",
       "      <td id=\"T_498fc_row1_col1\" class=\"data row1 col1\" >0.550847</td>\n",
       "    </tr>\n",
       "    <tr>\n",
       "      <th id=\"T_498fc_level0_row2\" class=\"row_heading level0 row2\" >2</th>\n",
       "      <td id=\"T_498fc_row2_col0\" class=\"data row2 col0\" >2</td>\n",
       "      <td id=\"T_498fc_row2_col1\" class=\"data row2 col1\" >0.500000</td>\n",
       "    </tr>\n",
       "    <tr>\n",
       "      <th id=\"T_498fc_level0_row3\" class=\"row_heading level0 row3\" >0</th>\n",
       "      <td id=\"T_498fc_row3_col0\" class=\"data row3 col0\" >0</td>\n",
       "      <td id=\"T_498fc_row3_col1\" class=\"data row3 col1\" >0.343658</td>\n",
       "    </tr>\n",
       "    <tr>\n",
       "      <th id=\"T_498fc_level0_row4\" class=\"row_heading level0 row4\" >5</th>\n",
       "      <td id=\"T_498fc_row4_col0\" class=\"data row4 col0\" >5</td>\n",
       "      <td id=\"T_498fc_row4_col1\" class=\"data row4 col1\" >0.200000</td>\n",
       "    </tr>\n",
       "    <tr>\n",
       "      <th id=\"T_498fc_level0_row5\" class=\"row_heading level0 row5\" >4</th>\n",
       "      <td id=\"T_498fc_row5_col0\" class=\"data row5 col0\" >4</td>\n",
       "      <td id=\"T_498fc_row5_col1\" class=\"data row5 col1\" >0.000000</td>\n",
       "    </tr>\n",
       "    <tr>\n",
       "      <th id=\"T_498fc_level0_row6\" class=\"row_heading level0 row6\" >6</th>\n",
       "      <td id=\"T_498fc_row6_col0\" class=\"data row6 col0\" >6</td>\n",
       "      <td id=\"T_498fc_row6_col1\" class=\"data row6 col1\" >0.000000</td>\n",
       "    </tr>\n",
       "  </tbody>\n",
       "</table>\n"
      ],
      "text/plain": [
       "<pandas.io.formats.style.Styler at 0x7f00c1236610>"
      ]
     },
     "execution_count": 19,
     "metadata": {},
     "output_type": "execute_result"
    }
   ],
   "source": [
    "survived_table(\"Parch\")"
   ]
  },
  {
   "cell_type": "markdown",
   "id": "80e0aeff",
   "metadata": {
    "papermill": {
     "duration": 0.027728,
     "end_time": "2022-07-23T11:01:00.312668",
     "exception": false,
     "start_time": "2022-07-23T11:01:00.284940",
     "status": "completed"
    },
    "tags": []
   },
   "source": [
    "Parch feature has zero correlation for some values, Maybe we can use it to derive more useful feature."
   ]
  },
  {
   "cell_type": "markdown",
   "id": "47cff071",
   "metadata": {
    "papermill": {
     "duration": 0.028004,
     "end_time": "2022-07-23T11:01:00.368631",
     "exception": false,
     "start_time": "2022-07-23T11:01:00.340627",
     "status": "completed"
    },
    "tags": []
   },
   "source": [
    "#### SibSp:"
   ]
  },
  {
   "cell_type": "code",
   "execution_count": 20,
   "id": "3b61cba1",
   "metadata": {
    "execution": {
     "iopub.execute_input": "2022-07-23T11:01:00.428310Z",
     "iopub.status.busy": "2022-07-23T11:01:00.427619Z",
     "iopub.status.idle": "2022-07-23T11:01:00.444310Z",
     "shell.execute_reply": "2022-07-23T11:01:00.443515Z"
    },
    "papermill": {
     "duration": 0.049115,
     "end_time": "2022-07-23T11:01:00.446381",
     "exception": false,
     "start_time": "2022-07-23T11:01:00.397266",
     "status": "completed"
    },
    "tags": []
   },
   "outputs": [
    {
     "data": {
      "text/html": [
       "<style type=\"text/css\">\n",
       "#T_bf1d3_row0_col0 {\n",
       "  background-color: #b9c6e0;\n",
       "  color: #000000;\n",
       "}\n",
       "#T_bf1d3_row0_col1, #T_bf1d3_row6_col0 {\n",
       "  background-color: #328dbf;\n",
       "  color: #f1f1f1;\n",
       "}\n",
       "#T_bf1d3_row1_col0 {\n",
       "  background-color: #a9bfdc;\n",
       "  color: #000000;\n",
       "}\n",
       "#T_bf1d3_row1_col1 {\n",
       "  background-color: #4897c4;\n",
       "  color: #f1f1f1;\n",
       "}\n",
       "#T_bf1d3_row2_col0, #T_bf1d3_row5_col1, #T_bf1d3_row6_col1 {\n",
       "  background-color: #c9cee4;\n",
       "  color: #000000;\n",
       "}\n",
       "#T_bf1d3_row2_col1 {\n",
       "  background-color: #71a8ce;\n",
       "  color: #f1f1f1;\n",
       "}\n",
       "#T_bf1d3_row3_col0 {\n",
       "  background-color: #99b8d8;\n",
       "  color: #000000;\n",
       "}\n",
       "#T_bf1d3_row3_col1 {\n",
       "  background-color: #8bb2d4;\n",
       "  color: #000000;\n",
       "}\n",
       "#T_bf1d3_row4_col0 {\n",
       "  background-color: #86b0d3;\n",
       "  color: #000000;\n",
       "}\n",
       "#T_bf1d3_row4_col1 {\n",
       "  background-color: #a2bcda;\n",
       "  color: #000000;\n",
       "}\n",
       "#T_bf1d3_row5_col0 {\n",
       "  background-color: #73a9cf;\n",
       "  color: #f1f1f1;\n",
       "}\n",
       "</style>\n",
       "<table id=\"T_bf1d3_\">\n",
       "  <thead>\n",
       "    <tr>\n",
       "      <th class=\"blank level0\" >&nbsp;</th>\n",
       "      <th class=\"col_heading level0 col0\" >SibSp</th>\n",
       "      <th class=\"col_heading level0 col1\" >Survived</th>\n",
       "    </tr>\n",
       "  </thead>\n",
       "  <tbody>\n",
       "    <tr>\n",
       "      <th id=\"T_bf1d3_level0_row0\" class=\"row_heading level0 row0\" >1</th>\n",
       "      <td id=\"T_bf1d3_row0_col0\" class=\"data row0 col0\" >1</td>\n",
       "      <td id=\"T_bf1d3_row0_col1\" class=\"data row0 col1\" >0.535885</td>\n",
       "    </tr>\n",
       "    <tr>\n",
       "      <th id=\"T_bf1d3_level0_row1\" class=\"row_heading level0 row1\" >2</th>\n",
       "      <td id=\"T_bf1d3_row1_col0\" class=\"data row1 col0\" >2</td>\n",
       "      <td id=\"T_bf1d3_row1_col1\" class=\"data row1 col1\" >0.464286</td>\n",
       "    </tr>\n",
       "    <tr>\n",
       "      <th id=\"T_bf1d3_level0_row2\" class=\"row_heading level0 row2\" >0</th>\n",
       "      <td id=\"T_bf1d3_row2_col0\" class=\"data row2 col0\" >0</td>\n",
       "      <td id=\"T_bf1d3_row2_col1\" class=\"data row2 col1\" >0.345395</td>\n",
       "    </tr>\n",
       "    <tr>\n",
       "      <th id=\"T_bf1d3_level0_row3\" class=\"row_heading level0 row3\" >3</th>\n",
       "      <td id=\"T_bf1d3_row3_col0\" class=\"data row3 col0\" >3</td>\n",
       "      <td id=\"T_bf1d3_row3_col1\" class=\"data row3 col1\" >0.250000</td>\n",
       "    </tr>\n",
       "    <tr>\n",
       "      <th id=\"T_bf1d3_level0_row4\" class=\"row_heading level0 row4\" >4</th>\n",
       "      <td id=\"T_bf1d3_row4_col0\" class=\"data row4 col0\" >4</td>\n",
       "      <td id=\"T_bf1d3_row4_col1\" class=\"data row4 col1\" >0.166667</td>\n",
       "    </tr>\n",
       "    <tr>\n",
       "      <th id=\"T_bf1d3_level0_row5\" class=\"row_heading level0 row5\" >5</th>\n",
       "      <td id=\"T_bf1d3_row5_col0\" class=\"data row5 col0\" >5</td>\n",
       "      <td id=\"T_bf1d3_row5_col1\" class=\"data row5 col1\" >0.000000</td>\n",
       "    </tr>\n",
       "    <tr>\n",
       "      <th id=\"T_bf1d3_level0_row6\" class=\"row_heading level0 row6\" >6</th>\n",
       "      <td id=\"T_bf1d3_row6_col0\" class=\"data row6 col0\" >8</td>\n",
       "      <td id=\"T_bf1d3_row6_col1\" class=\"data row6 col1\" >0.000000</td>\n",
       "    </tr>\n",
       "  </tbody>\n",
       "</table>\n"
      ],
      "text/plain": [
       "<pandas.io.formats.style.Styler at 0x7f00c104ac90>"
      ]
     },
     "execution_count": 20,
     "metadata": {},
     "output_type": "execute_result"
    }
   ],
   "source": [
    "survived_table(\"SibSp\")"
   ]
  },
  {
   "cell_type": "code",
   "execution_count": 21,
   "id": "fdfcc138",
   "metadata": {
    "execution": {
     "iopub.execute_input": "2022-07-23T11:01:00.502821Z",
     "iopub.status.busy": "2022-07-23T11:01:00.502073Z",
     "iopub.status.idle": "2022-07-23T11:01:00.921047Z",
     "shell.execute_reply": "2022-07-23T11:01:00.919928Z"
    },
    "papermill": {
     "duration": 0.450307,
     "end_time": "2022-07-23T11:01:00.923659",
     "exception": false,
     "start_time": "2022-07-23T11:01:00.473352",
     "status": "completed"
    },
    "tags": []
   },
   "outputs": [
    {
     "data": {
      "image/png": "[encoded data removed]",
      "text/plain": [
       "<Figure size 432x288 with 1 Axes>"
      ]
     },
     "metadata": {
      "needs_background": "light"
     },
     "output_type": "display_data"
    }
   ],
   "source": [
    "survived_bar_plot(\"SibSp\")"
   ]
  },
  {
   "cell_type": "markdown",
   "id": "572e36d9",
   "metadata": {
    "papermill": {
     "duration": 0.027709,
     "end_time": "2022-07-23T11:01:00.978989",
     "exception": false,
     "start_time": "2022-07-23T11:01:00.951280",
     "status": "completed"
    },
    "tags": []
   },
   "source": [
    "SibSp feature has zero correlation for some values too, Maybe we can use it to derive more useful feature."
   ]
  },
  {
   "cell_type": "markdown",
   "id": "8be8793e",
   "metadata": {
    "papermill": {
     "duration": 0.026947,
     "end_time": "2022-07-23T11:01:01.033275",
     "exception": false,
     "start_time": "2022-07-23T11:01:01.006328",
     "status": "completed"
    },
    "tags": []
   },
   "source": [
    "#### Age:"
   ]
  },
  {
   "cell_type": "code",
   "execution_count": 22,
   "id": "d9690ac4",
   "metadata": {
    "execution": {
     "iopub.execute_input": "2022-07-23T11:01:01.090405Z",
     "iopub.status.busy": "2022-07-23T11:01:01.089992Z",
     "iopub.status.idle": "2022-07-23T11:01:01.475707Z",
     "shell.execute_reply": "2022-07-23T11:01:01.474315Z"
    },
    "papermill": {
     "duration": 0.418235,
     "end_time": "2022-07-23T11:01:01.479178",
     "exception": false,
     "start_time": "2022-07-23T11:01:01.060943",
     "status": "completed"
    },
    "tags": []
   },
   "outputs": [
    {
     "data": {
      "image/png": "[encoded data removed]",
      "text/plain": [
       "<Figure size 432x288 with 1 Axes>"
      ]
     },
     "metadata": {},
     "output_type": "display_data"
    }
   ],
   "source": [
    "sns.set_style(\"dark\") # to remove the grid.\n",
    "survived_hist_plot(\"Age\") # Note: This plot is stack plot."
   ]
  },
  {
   "cell_type": "markdown",
   "id": "b4b49b64",
   "metadata": {
    "papermill": {
     "duration": 0.029167,
     "end_time": "2022-07-23T11:01:01.537592",
     "exception": false,
     "start_time": "2022-07-23T11:01:01.508425",
     "status": "completed"
    },
    "tags": []
   },
   "source": [
    "- Infants (age<=5) and childrens (between 10 and 15 years old) are most likely to survive.\n",
    "- elder passengers (>75) survived.\n",
    "- most passengers are between 15 and 40 years old.\n",
    "\n",
    "**insights:** It's good to convert the age feature to age band groups of length 5."
   ]
  },
  {
   "cell_type": "markdown",
   "id": "7ad3d652",
   "metadata": {
    "papermill": {
     "duration": 0.027908,
     "end_time": "2022-07-23T11:01:01.595053",
     "exception": false,
     "start_time": "2022-07-23T11:01:01.567145",
     "status": "completed"
    },
    "tags": []
   },
   "source": [
    "<div style=\"color:black;\n",
    "           border-radius:0px;\n",
    "           background-color:#00ADB5;\n",
    "           font-size:14px;\n",
    "           font-family:sans-serif;\n",
    "           letter-spacing:0.5px\">\n",
    "        <p style=\"padding: 6px;\n",
    "              color:white;\">\n",
    "            <b>Discovering the correlation between the features:</b>\n",
    "        </p>\n",
    "</div>\n"
   ]
  },
  {
   "cell_type": "code",
   "execution_count": 23,
   "id": "f4d8d888",
   "metadata": {
    "execution": {
     "iopub.execute_input": "2022-07-23T11:01:01.653556Z",
     "iopub.status.busy": "2022-07-23T11:01:01.652393Z",
     "iopub.status.idle": "2022-07-23T11:01:02.158496Z",
     "shell.execute_reply": "2022-07-23T11:01:02.157310Z"
    },
    "papermill": {
     "duration": 0.538519,
     "end_time": "2022-07-23T11:01:02.161356",
     "exception": false,
     "start_time": "2022-07-23T11:01:01.622837",
     "status": "completed"
    },
    "tags": []
   },
   "outputs": [
    {
     "data": {
      "text/plain": [
       "<AxesSubplot:>"
      ]
     },
     "execution_count": 23,
     "metadata": {},
     "output_type": "execute_result"
    },
    {
     "data": {
      "image/png": "[encoded data removed]",
      "text/plain": [
       "<Figure size 720x432 with 2 Axes>"
      ]
     },
     "metadata": {},
     "output_type": "display_data"
    }
   ],
   "source": [
    "#=======================================================================================\n",
    "# Discovering the correlations:\n",
    "#=======================================================================================\n",
    "\n",
    "sns.set(rc = {'figure.figsize':(10,6)})\n",
    "sns.heatmap(train_data.corr(), annot = True, fmt='.2g',cmap= 'YlGnBu')"
   ]
  },
  {
   "cell_type": "markdown",
   "id": "6bdff06c",
   "metadata": {
    "papermill": {
     "duration": 0.028322,
     "end_time": "2022-07-23T11:01:02.219655",
     "exception": false,
     "start_time": "2022-07-23T11:01:02.191333",
     "status": "completed"
    },
    "tags": []
   },
   "source": [
    "- Passenger Id has no correlation with any feature.\n",
    "- PClass has strong negative correlation with age and Fare.\n",
    "- Age has negative correlation with parch and sibsp."
   ]
  },
  {
   "cell_type": "markdown",
   "id": "e0cd3f19",
   "metadata": {
    "papermill": {
     "duration": 0.029481,
     "end_time": "2022-07-23T11:01:02.277958",
     "exception": false,
     "start_time": "2022-07-23T11:01:02.248477",
     "status": "completed"
    },
    "tags": []
   },
   "source": [
    "#### Pclass - Age - Survived:"
   ]
  },
  {
   "cell_type": "code",
   "execution_count": 24,
   "id": "bc1510a6",
   "metadata": {
    "execution": {
     "iopub.execute_input": "2022-07-23T11:01:02.337399Z",
     "iopub.status.busy": "2022-07-23T11:01:02.337008Z",
     "iopub.status.idle": "2022-07-23T11:01:03.176699Z",
     "shell.execute_reply": "2022-07-23T11:01:03.175598Z"
    },
    "papermill": {
     "duration": 0.872155,
     "end_time": "2022-07-23T11:01:03.178921",
     "exception": false,
     "start_time": "2022-07-23T11:01:02.306766",
     "status": "completed"
    },
    "tags": []
   },
   "outputs": [
    {
     "data": {
      "image/png": "[encoded data removed]",
      "text/plain": [
       "<Figure size 1008x288 with 3 Axes>"
      ]
     },
     "metadata": {},
     "output_type": "display_data"
    }
   ],
   "source": [
    "plot , ax = plt.subplots(1 , 3 , figsize=(14,4))\n",
    "sns.histplot(data = train_data.loc[train_data[\"Pclass\"]==1] , x = \"Age\" , hue = \"Survived\",binwidth=5,ax = ax[0],palette = sns.color_palette([\"yellow\" , \"green\"]),multiple = \"stack\").set_title(\"1-Pclass\")\n",
    "sns.histplot(data = train_data.loc[train_data[\"Pclass\"]==2] , x = \"Age\" , hue = \"Survived\",binwidth=5,ax = ax[1],palette = sns.color_palette([\"yellow\" , \"green\"]),multiple = \"stack\").set_title(\"2-Pclass\")\n",
    "sns.histplot(data = train_data.loc[train_data[\"Pclass\"]==3] , x = \"Age\" , hue = \"Survived\",binwidth=5,ax = ax[2],palette = sns.color_palette([\"yellow\" , \"green\"]),multiple = \"stack\").set_title(\"3-Pclass\")\n",
    "plt.show()"
   ]
  },
  {
   "cell_type": "markdown",
   "id": "6307300d",
   "metadata": {
    "papermill": {
     "duration": 0.028887,
     "end_time": "2022-07-23T11:01:03.237073",
     "exception": false,
     "start_time": "2022-07-23T11:01:03.208186",
     "status": "completed"
    },
    "tags": []
   },
   "source": [
    "- Pclass=3 had most passengers, Most if them did not survive.\n",
    "- Infant passengers in Pclass=2 and Pclass=3 mostly survived.\n",
    "- Most passengers in Pclass=1 survived."
   ]
  },
  {
   "cell_type": "markdown",
   "id": "cb118088",
   "metadata": {
    "papermill": {
     "duration": 0.029039,
     "end_time": "2022-07-23T11:01:03.295771",
     "exception": false,
     "start_time": "2022-07-23T11:01:03.266732",
     "status": "completed"
    },
    "tags": []
   },
   "source": [
    "#### Sex - Age - Survived:"
   ]
  },
  {
   "cell_type": "code",
   "execution_count": 25,
   "id": "fdf9a0b1",
   "metadata": {
    "execution": {
     "iopub.execute_input": "2022-07-23T11:01:03.356345Z",
     "iopub.status.busy": "2022-07-23T11:01:03.355277Z",
     "iopub.status.idle": "2022-07-23T11:01:04.125655Z",
     "shell.execute_reply": "2022-07-23T11:01:04.124456Z"
    },
    "papermill": {
     "duration": 0.803338,
     "end_time": "2022-07-23T11:01:04.128138",
     "exception": false,
     "start_time": "2022-07-23T11:01:03.324800",
     "status": "completed"
    },
    "tags": []
   },
   "outputs": [
    {
     "data": {
      "text/plain": [
       "Text(0.5, 1.0, 'Females')"
      ]
     },
     "execution_count": 25,
     "metadata": {},
     "output_type": "execute_result"
    },
    {
     "data": {
      "image/png": "[encoded data removed]",
      "text/plain": [
       "<Figure size 1008x216 with 2 Axes>"
      ]
     },
     "metadata": {},
     "output_type": "display_data"
    }
   ],
   "source": [
    "plot , ax = plt.subplots(1 , 2 , figsize=(14,3))\n",
    "sns.histplot(data = train_data.loc[train_data[\"Sex\"]==\"male\"] , x = \"Age\" , hue = \"Survived\",binwidth=5,ax = ax[0],palette = sns.color_palette([\"yellow\" , \"green\"]),multiple = \"stack\").set_title(\"Males\")\n",
    "sns.histplot(data = train_data.loc[train_data[\"Sex\"]==\"female\"] , x = \"Age\" , hue = \"Survived\",binwidth=5,ax = ax[1],palette = sns.color_palette([\"yellow\" , \"green\"]),multiple = \"stack\").set_title(\"Females\")"
   ]
  },
  {
   "cell_type": "markdown",
   "id": "56c21a5a",
   "metadata": {
    "papermill": {
     "duration": 0.029592,
     "end_time": "2022-07-23T11:01:04.187533",
     "exception": false,
     "start_time": "2022-07-23T11:01:04.157941",
     "status": "completed"
    },
    "tags": []
   },
   "source": [
    "- as we saw before, Females are most likely to survive.\n",
    "- Elder passengers (>=70) are all males.\n"
   ]
  },
  {
   "cell_type": "markdown",
   "id": "e6d65579",
   "metadata": {
    "papermill": {
     "duration": 0.029278,
     "end_time": "2022-07-23T11:01:04.247175",
     "exception": false,
     "start_time": "2022-07-23T11:01:04.217897",
     "status": "completed"
    },
    "tags": []
   },
   "source": [
    "<div style=\"color:#00ADB5;\n",
    "           display:fill;\n",
    "           border-radius:5px;\n",
    "           background-color:#393E46;\n",
    "           font-size:20px;\n",
    "           font-family:sans-serif;\n",
    "           letter-spacing:0.5px\">\n",
    "        <p style=\"padding: 10px;\n",
    "              color:white;\">\n",
    "            <b> 4 ) Wrangling The Data:</b>\n",
    "        </p>\n",
    "</div>\n",
    "\n"
   ]
  },
  {
   "cell_type": "markdown",
   "id": "ad06fbab",
   "metadata": {
    "execution": {
     "iopub.execute_input": "2022-07-23T07:32:14.514297Z",
     "iopub.status.busy": "2022-07-23T07:32:14.513892Z",
     "iopub.status.idle": "2022-07-23T07:32:14.522214Z",
     "shell.execute_reply": "2022-07-23T07:32:14.520489Z",
     "shell.execute_reply.started": "2022-07-23T07:32:14.514264Z"
    },
    "papermill": {
     "duration": 0.029455,
     "end_time": "2022-07-23T11:01:04.306769",
     "exception": false,
     "start_time": "2022-07-23T11:01:04.277314",
     "status": "completed"
    },
    "tags": []
   },
   "source": [
    "<div style=\"color:black;\n",
    "           border-radius:0px;\n",
    "           background-color:#00ADB5;\n",
    "           font-size:14px;\n",
    "           font-family:sans-serif;\n",
    "           letter-spacing:0.5px\">\n",
    "        <p style=\"padding: 6px;\n",
    "              color:white;\">\n",
    "            <b> Drop unuseful features:</b>\n",
    "        </p>\n",
    "</div>\n"
   ]
  },
  {
   "cell_type": "code",
   "execution_count": 26,
   "id": "8e505a21",
   "metadata": {
    "execution": {
     "iopub.execute_input": "2022-07-23T11:01:04.368914Z",
     "iopub.status.busy": "2022-07-23T11:01:04.368206Z",
     "iopub.status.idle": "2022-07-23T11:01:04.378471Z",
     "shell.execute_reply": "2022-07-23T11:01:04.376893Z"
    },
    "papermill": {
     "duration": 0.044241,
     "end_time": "2022-07-23T11:01:04.380750",
     "exception": false,
     "start_time": "2022-07-23T11:01:04.336509",
     "status": "completed"
    },
    "tags": []
   },
   "outputs": [
    {
     "name": "stdout",
     "output_type": "stream",
     "text": [
      "Dropping features Done !!\n"
     ]
    }
   ],
   "source": [
    "train_data.drop(columns = [\"PassengerId\"] , inplace = True)\n",
    "\n",
    "for dataset in combine:\n",
    "    dataset.drop(columns = [\"Ticket\" , \"Cabin\"] , inplace = True)\n",
    "    \n",
    "print(\"Dropping features Done !!\")"
   ]
  },
  {
   "cell_type": "markdown",
   "id": "ef0b1a74",
   "metadata": {
    "papermill": {
     "duration": 0.029197,
     "end_time": "2022-07-23T11:01:04.439557",
     "exception": false,
     "start_time": "2022-07-23T11:01:04.410360",
     "status": "completed"
    },
    "tags": []
   },
   "source": [
    "<div style=\"color:black;\n",
    "           border-radius:0px;\n",
    "           background-color:#00ADB5;\n",
    "           font-size:14px;\n",
    "           font-family:sans-serif;\n",
    "           letter-spacing:0.5px\">\n",
    "        <p style=\"padding: 6px;\n",
    "              color:white;\">\n",
    "            <b>Converting Categorical Features to Numerical and Filling Missed Values:</b>\n",
    "        </p>\n",
    "</div>\n"
   ]
  },
  {
   "cell_type": "markdown",
   "id": "343e7964",
   "metadata": {
    "papermill": {
     "duration": 0.029475,
     "end_time": "2022-07-23T11:01:04.498972",
     "exception": false,
     "start_time": "2022-07-23T11:01:04.469497",
     "status": "completed"
    },
    "tags": []
   },
   "source": [
    "#### Embarked:"
   ]
  },
  {
   "cell_type": "code",
   "execution_count": 27,
   "id": "0ebdf38c",
   "metadata": {
    "execution": {
     "iopub.execute_input": "2022-07-23T11:01:04.560287Z",
     "iopub.status.busy": "2022-07-23T11:01:04.559527Z",
     "iopub.status.idle": "2022-07-23T11:01:04.569499Z",
     "shell.execute_reply": "2022-07-23T11:01:04.568419Z"
    },
    "papermill": {
     "duration": 0.043513,
     "end_time": "2022-07-23T11:01:04.571956",
     "exception": false,
     "start_time": "2022-07-23T11:01:04.528443",
     "status": "completed"
    },
    "tags": []
   },
   "outputs": [],
   "source": [
    "train_data.Embarked.fillna(train_data.Embarked.dropna().max(), inplace=True)\n",
    "for dataset in combine:\n",
    "    dataset['Embarked'] = dataset['Embarked'].dropna().map({'S':0,'C':1,'Q':2}).astype(int)"
   ]
  },
  {
   "cell_type": "markdown",
   "id": "232347b6",
   "metadata": {
    "papermill": {
     "duration": 0.029177,
     "end_time": "2022-07-23T11:01:04.630697",
     "exception": false,
     "start_time": "2022-07-23T11:01:04.601520",
     "status": "completed"
    },
    "tags": []
   },
   "source": [
    "#### Sex:"
   ]
  },
  {
   "cell_type": "code",
   "execution_count": 28,
   "id": "d59d23ee",
   "metadata": {
    "execution": {
     "iopub.execute_input": "2022-07-23T11:01:04.691465Z",
     "iopub.status.busy": "2022-07-23T11:01:04.691070Z",
     "iopub.status.idle": "2022-07-23T11:01:04.699184Z",
     "shell.execute_reply": "2022-07-23T11:01:04.697912Z"
    },
    "papermill": {
     "duration": 0.041157,
     "end_time": "2022-07-23T11:01:04.701337",
     "exception": false,
     "start_time": "2022-07-23T11:01:04.660180",
     "status": "completed"
    },
    "tags": []
   },
   "outputs": [],
   "source": [
    "for dataset in combine:\n",
    "    dataset['Sex'] = dataset['Sex'].map( {'female': 1, 'male': 0} ).astype(int)    "
   ]
  },
  {
   "cell_type": "markdown",
   "id": "2fd46392",
   "metadata": {
    "papermill": {
     "duration": 0.029426,
     "end_time": "2022-07-23T11:01:04.760236",
     "exception": false,
     "start_time": "2022-07-23T11:01:04.730810",
     "status": "completed"
    },
    "tags": []
   },
   "source": [
    "#### Age:"
   ]
  },
  {
   "cell_type": "code",
   "execution_count": 29,
   "id": "ab78274a",
   "metadata": {
    "execution": {
     "iopub.execute_input": "2022-07-23T11:01:04.822021Z",
     "iopub.status.busy": "2022-07-23T11:01:04.821305Z",
     "iopub.status.idle": "2022-07-23T11:01:04.857097Z",
     "shell.execute_reply": "2022-07-23T11:01:04.856179Z"
    },
    "papermill": {
     "duration": 0.069822,
     "end_time": "2022-07-23T11:01:04.859673",
     "exception": false,
     "start_time": "2022-07-23T11:01:04.789851",
     "status": "completed"
    },
    "tags": []
   },
   "outputs": [],
   "source": [
    "\n",
    "guess_ages = np.zeros((2,3))\n",
    "\n",
    "for dataset in combine:\n",
    "    for i in range(0, 2):\n",
    "        for j in range(0, 3):\n",
    "            guess_df = dataset[(dataset['Sex'] == i) & \\\n",
    "                                  (dataset['Pclass'] == j+1)]['Age'].dropna()\n",
    "\n",
    "            age_guess = guess_df.median()\n",
    "\n",
    "            # Convert random age float to nearest .5 age\n",
    "            guess_ages[i,j] = int( age_guess/0.5 + 0.5 ) * 0.5\n",
    "            \n",
    "    for i in range(0, 2):\n",
    "        for j in range(0, 3):\n",
    "            dataset.loc[ (dataset.Age.isnull()) & (dataset.Sex == i) & (dataset.Pclass == j+1),\\\n",
    "                    'Age'] = guess_ages[i,j]\n",
    "\n",
    "    dataset['Age'] = dataset['Age'].astype(int)"
   ]
  },
  {
   "cell_type": "markdown",
   "id": "bb47e643",
   "metadata": {
    "papermill": {
     "duration": 0.029288,
     "end_time": "2022-07-23T11:01:04.918705",
     "exception": false,
     "start_time": "2022-07-23T11:01:04.889417",
     "status": "completed"
    },
    "tags": []
   },
   "source": [
    "#### Fare:"
   ]
  },
  {
   "cell_type": "code",
   "execution_count": 30,
   "id": "d44e9e16",
   "metadata": {
    "execution": {
     "iopub.execute_input": "2022-07-23T11:01:04.980780Z",
     "iopub.status.busy": "2022-07-23T11:01:04.980069Z",
     "iopub.status.idle": "2022-07-23T11:01:04.985984Z",
     "shell.execute_reply": "2022-07-23T11:01:04.985242Z"
    },
    "papermill": {
     "duration": 0.039259,
     "end_time": "2022-07-23T11:01:04.988218",
     "exception": false,
     "start_time": "2022-07-23T11:01:04.948959",
     "status": "completed"
    },
    "tags": []
   },
   "outputs": [],
   "source": [
    "test_data.Fare.fillna(test_data.Fare.dropna().median() , inplace= True)"
   ]
  },
  {
   "cell_type": "code",
   "execution_count": 31,
   "id": "579801d3",
   "metadata": {
    "execution": {
     "iopub.execute_input": "2022-07-23T11:01:05.049417Z",
     "iopub.status.busy": "2022-07-23T11:01:05.049004Z",
     "iopub.status.idle": "2022-07-23T11:01:05.059686Z",
     "shell.execute_reply": "2022-07-23T11:01:05.058571Z"
    },
    "papermill": {
     "duration": 0.044537,
     "end_time": "2022-07-23T11:01:05.062290",
     "exception": false,
     "start_time": "2022-07-23T11:01:05.017753",
     "status": "completed"
    },
    "tags": []
   },
   "outputs": [
    {
     "name": "stdout",
     "output_type": "stream",
     "text": [
      "Survived    0\n",
      "Pclass      0\n",
      "Name        0\n",
      "Sex         0\n",
      "Age         0\n",
      "SibSp       0\n",
      "Parch       0\n",
      "Fare        0\n",
      "Embarked    0\n",
      "dtype: int64\n",
      "--------------------------------------------------\n",
      "PassengerId    0\n",
      "Pclass         0\n",
      "Name           0\n",
      "Sex            0\n",
      "Age            0\n",
      "SibSp          0\n",
      "Parch          0\n",
      "Fare           0\n",
      "Embarked       0\n",
      "dtype: int64\n"
     ]
    }
   ],
   "source": [
    "print(train_data.isnull().sum())\n",
    "print(\"-\" * 50)\n",
    "print(test_data.isnull().sum())"
   ]
  },
  {
   "cell_type": "markdown",
   "id": "d642d954",
   "metadata": {
    "papermill": {
     "duration": 0.031397,
     "end_time": "2022-07-23T11:01:05.123265",
     "exception": false,
     "start_time": "2022-07-23T11:01:05.091868",
     "status": "completed"
    },
    "tags": []
   },
   "source": [
    "No more missed values !!"
   ]
  },
  {
   "cell_type": "code",
   "execution_count": 32,
   "id": "0764a368",
   "metadata": {
    "execution": {
     "iopub.execute_input": "2022-07-23T11:01:05.189393Z",
     "iopub.status.busy": "2022-07-23T11:01:05.188768Z",
     "iopub.status.idle": "2022-07-23T11:01:05.201415Z",
     "shell.execute_reply": "2022-07-23T11:01:05.200407Z"
    },
    "papermill": {
     "duration": 0.046678,
     "end_time": "2022-07-23T11:01:05.203621",
     "exception": false,
     "start_time": "2022-07-23T11:01:05.156943",
     "status": "completed"
    },
    "tags": []
   },
   "outputs": [
    {
     "data": {
      "text/html": [
       "<div>\n",
       "<style scoped>\n",
       "    .dataframe tbody tr th:only-of-type {\n",
       "        vertical-align: middle;\n",
       "    }\n",
       "\n",
       "    .dataframe tbody tr th {\n",
       "        vertical-align: top;\n",
       "    }\n",
       "\n",
       "    .dataframe thead th {\n",
       "        text-align: right;\n",
       "    }\n",
       "</style>\n",
       "<table border=\"1\" class=\"dataframe\">\n",
       "  <thead>\n",
       "    <tr style=\"text-align: right;\">\n",
       "      <th></th>\n",
       "      <th>Survived</th>\n",
       "      <th>Pclass</th>\n",
       "      <th>Name</th>\n",
       "      <th>Sex</th>\n",
       "      <th>Age</th>\n",
       "      <th>SibSp</th>\n",
       "      <th>Parch</th>\n",
       "      <th>Fare</th>\n",
       "      <th>Embarked</th>\n",
       "    </tr>\n",
       "  </thead>\n",
       "  <tbody>\n",
       "    <tr>\n",
       "      <th>0</th>\n",
       "      <td>0</td>\n",
       "      <td>3</td>\n",
       "      <td>Braund, Mr. Owen Harris</td>\n",
       "      <td>0</td>\n",
       "      <td>22</td>\n",
       "      <td>1</td>\n",
       "      <td>0</td>\n",
       "      <td>7.2500</td>\n",
       "      <td>0</td>\n",
       "    </tr>\n",
       "    <tr>\n",
       "      <th>1</th>\n",
       "      <td>1</td>\n",
       "      <td>1</td>\n",
       "      <td>Cumings, Mrs. John Bradley (Florence Briggs Th...</td>\n",
       "      <td>1</td>\n",
       "      <td>38</td>\n",
       "      <td>1</td>\n",
       "      <td>0</td>\n",
       "      <td>71.2833</td>\n",
       "      <td>1</td>\n",
       "    </tr>\n",
       "    <tr>\n",
       "      <th>2</th>\n",
       "      <td>1</td>\n",
       "      <td>3</td>\n",
       "      <td>Heikkinen, Miss. Laina</td>\n",
       "      <td>1</td>\n",
       "      <td>26</td>\n",
       "      <td>0</td>\n",
       "      <td>0</td>\n",
       "      <td>7.9250</td>\n",
       "      <td>0</td>\n",
       "    </tr>\n",
       "    <tr>\n",
       "      <th>3</th>\n",
       "      <td>1</td>\n",
       "      <td>1</td>\n",
       "      <td>Futrelle, Mrs. Jacques Heath (Lily May Peel)</td>\n",
       "      <td>1</td>\n",
       "      <td>35</td>\n",
       "      <td>1</td>\n",
       "      <td>0</td>\n",
       "      <td>53.1000</td>\n",
       "      <td>0</td>\n",
       "    </tr>\n",
       "    <tr>\n",
       "      <th>4</th>\n",
       "      <td>0</td>\n",
       "      <td>3</td>\n",
       "      <td>Allen, Mr. William Henry</td>\n",
       "      <td>0</td>\n",
       "      <td>35</td>\n",
       "      <td>0</td>\n",
       "      <td>0</td>\n",
       "      <td>8.0500</td>\n",
       "      <td>0</td>\n",
       "    </tr>\n",
       "  </tbody>\n",
       "</table>\n",
       "</div>"
      ],
      "text/plain": [
       "   Survived  Pclass                                               Name  Sex  \\\n",
       "0         0       3                            Braund, Mr. Owen Harris    0   \n",
       "1         1       1  Cumings, Mrs. John Bradley (Florence Briggs Th...    1   \n",
       "2         1       3                             Heikkinen, Miss. Laina    1   \n",
       "3         1       1       Futrelle, Mrs. Jacques Heath (Lily May Peel)    1   \n",
       "4         0       3                           Allen, Mr. William Henry    0   \n",
       "\n",
       "   Age  SibSp  Parch     Fare  Embarked  \n",
       "0   22      1      0   7.2500         0  \n",
       "1   38      1      0  71.2833         1  \n",
       "2   26      0      0   7.9250         0  \n",
       "3   35      1      0  53.1000         0  \n",
       "4   35      0      0   8.0500         0  "
      ]
     },
     "execution_count": 32,
     "metadata": {},
     "output_type": "execute_result"
    }
   ],
   "source": [
    "train_data.head()"
   ]
  },
  {
   "cell_type": "markdown",
   "id": "4c149f69",
   "metadata": {
    "papermill": {
     "duration": 0.03057,
     "end_time": "2022-07-23T11:01:05.264763",
     "exception": false,
     "start_time": "2022-07-23T11:01:05.234193",
     "status": "completed"
    },
    "tags": []
   },
   "source": [
    "<div style=\"color:black;\n",
    "           border-radius:0px;\n",
    "           background-color:#00ADB5;\n",
    "           font-size:14px;\n",
    "           font-family:sans-serif;\n",
    "           letter-spacing:0.5px\">\n",
    "        <p style=\"padding: 6px;\n",
    "              color:white;\">\n",
    "            <b>Creating Bands:</b>\n",
    "        </p>\n",
    "</div>\n"
   ]
  },
  {
   "cell_type": "markdown",
   "id": "8b9368f7",
   "metadata": {
    "papermill": {
     "duration": 0.029825,
     "end_time": "2022-07-23T11:01:05.325178",
     "exception": false,
     "start_time": "2022-07-23T11:01:05.295353",
     "status": "completed"
    },
    "tags": []
   },
   "source": [
    "#### Age Band:"
   ]
  },
  {
   "cell_type": "code",
   "execution_count": 33,
   "id": "93897512",
   "metadata": {
    "execution": {
     "iopub.execute_input": "2022-07-23T11:01:05.388473Z",
     "iopub.status.busy": "2022-07-23T11:01:05.387652Z",
     "iopub.status.idle": "2022-07-23T11:01:05.418653Z",
     "shell.execute_reply": "2022-07-23T11:01:05.417190Z"
    },
    "papermill": {
     "duration": 0.065453,
     "end_time": "2022-07-23T11:01:05.421051",
     "exception": false,
     "start_time": "2022-07-23T11:01:05.355598",
     "status": "completed"
    },
    "tags": []
   },
   "outputs": [
    {
     "data": {
      "text/html": [
       "<div>\n",
       "<style scoped>\n",
       "    .dataframe tbody tr th:only-of-type {\n",
       "        vertical-align: middle;\n",
       "    }\n",
       "\n",
       "    .dataframe tbody tr th {\n",
       "        vertical-align: top;\n",
       "    }\n",
       "\n",
       "    .dataframe thead th {\n",
       "        text-align: right;\n",
       "    }\n",
       "</style>\n",
       "<table border=\"1\" class=\"dataframe\">\n",
       "  <thead>\n",
       "    <tr style=\"text-align: right;\">\n",
       "      <th></th>\n",
       "      <th>AgeBand</th>\n",
       "      <th>Survived</th>\n",
       "    </tr>\n",
       "  </thead>\n",
       "  <tbody>\n",
       "    <tr>\n",
       "      <th>0</th>\n",
       "      <td>(-0.08, 16.0]</td>\n",
       "      <td>0.550000</td>\n",
       "    </tr>\n",
       "    <tr>\n",
       "      <th>1</th>\n",
       "      <td>(16.0, 32.0]</td>\n",
       "      <td>0.337374</td>\n",
       "    </tr>\n",
       "    <tr>\n",
       "      <th>2</th>\n",
       "      <td>(32.0, 48.0]</td>\n",
       "      <td>0.412037</td>\n",
       "    </tr>\n",
       "    <tr>\n",
       "      <th>3</th>\n",
       "      <td>(48.0, 64.0]</td>\n",
       "      <td>0.434783</td>\n",
       "    </tr>\n",
       "    <tr>\n",
       "      <th>4</th>\n",
       "      <td>(64.0, 80.0]</td>\n",
       "      <td>0.090909</td>\n",
       "    </tr>\n",
       "  </tbody>\n",
       "</table>\n",
       "</div>"
      ],
      "text/plain": [
       "         AgeBand  Survived\n",
       "0  (-0.08, 16.0]  0.550000\n",
       "1   (16.0, 32.0]  0.337374\n",
       "2   (32.0, 48.0]  0.412037\n",
       "3   (48.0, 64.0]  0.434783\n",
       "4   (64.0, 80.0]  0.090909"
      ]
     },
     "execution_count": 33,
     "metadata": {},
     "output_type": "execute_result"
    }
   ],
   "source": [
    "train_data['AgeBand'] = pd.cut(train_data['Age'], 5)\n",
    "train_data[['AgeBand', 'Survived']].groupby(['AgeBand'], as_index=False).mean().sort_values(by='AgeBand', ascending=True)"
   ]
  },
  {
   "cell_type": "code",
   "execution_count": 34,
   "id": "7fea67e8",
   "metadata": {
    "execution": {
     "iopub.execute_input": "2022-07-23T11:01:05.484716Z",
     "iopub.status.busy": "2022-07-23T11:01:05.483990Z",
     "iopub.status.idle": "2022-07-23T11:01:05.508449Z",
     "shell.execute_reply": "2022-07-23T11:01:05.507635Z"
    },
    "papermill": {
     "duration": 0.058978,
     "end_time": "2022-07-23T11:01:05.510602",
     "exception": false,
     "start_time": "2022-07-23T11:01:05.451624",
     "status": "completed"
    },
    "tags": []
   },
   "outputs": [
    {
     "data": {
      "text/html": [
       "<div>\n",
       "<style scoped>\n",
       "    .dataframe tbody tr th:only-of-type {\n",
       "        vertical-align: middle;\n",
       "    }\n",
       "\n",
       "    .dataframe tbody tr th {\n",
       "        vertical-align: top;\n",
       "    }\n",
       "\n",
       "    .dataframe thead th {\n",
       "        text-align: right;\n",
       "    }\n",
       "</style>\n",
       "<table border=\"1\" class=\"dataframe\">\n",
       "  <thead>\n",
       "    <tr style=\"text-align: right;\">\n",
       "      <th></th>\n",
       "      <th>Survived</th>\n",
       "      <th>Pclass</th>\n",
       "      <th>Name</th>\n",
       "      <th>Sex</th>\n",
       "      <th>Age</th>\n",
       "      <th>SibSp</th>\n",
       "      <th>Parch</th>\n",
       "      <th>Fare</th>\n",
       "      <th>Embarked</th>\n",
       "      <th>AgeBand</th>\n",
       "    </tr>\n",
       "  </thead>\n",
       "  <tbody>\n",
       "    <tr>\n",
       "      <th>0</th>\n",
       "      <td>0</td>\n",
       "      <td>3</td>\n",
       "      <td>Braund, Mr. Owen Harris</td>\n",
       "      <td>0</td>\n",
       "      <td>1</td>\n",
       "      <td>1</td>\n",
       "      <td>0</td>\n",
       "      <td>7.2500</td>\n",
       "      <td>0</td>\n",
       "      <td>(16.0, 32.0]</td>\n",
       "    </tr>\n",
       "    <tr>\n",
       "      <th>1</th>\n",
       "      <td>1</td>\n",
       "      <td>1</td>\n",
       "      <td>Cumings, Mrs. John Bradley (Florence Briggs Th...</td>\n",
       "      <td>1</td>\n",
       "      <td>2</td>\n",
       "      <td>1</td>\n",
       "      <td>0</td>\n",
       "      <td>71.2833</td>\n",
       "      <td>1</td>\n",
       "      <td>(32.0, 48.0]</td>\n",
       "    </tr>\n",
       "    <tr>\n",
       "      <th>2</th>\n",
       "      <td>1</td>\n",
       "      <td>3</td>\n",
       "      <td>Heikkinen, Miss. Laina</td>\n",
       "      <td>1</td>\n",
       "      <td>1</td>\n",
       "      <td>0</td>\n",
       "      <td>0</td>\n",
       "      <td>7.9250</td>\n",
       "      <td>0</td>\n",
       "      <td>(16.0, 32.0]</td>\n",
       "    </tr>\n",
       "    <tr>\n",
       "      <th>3</th>\n",
       "      <td>1</td>\n",
       "      <td>1</td>\n",
       "      <td>Futrelle, Mrs. Jacques Heath (Lily May Peel)</td>\n",
       "      <td>1</td>\n",
       "      <td>2</td>\n",
       "      <td>1</td>\n",
       "      <td>0</td>\n",
       "      <td>53.1000</td>\n",
       "      <td>0</td>\n",
       "      <td>(32.0, 48.0]</td>\n",
       "    </tr>\n",
       "    <tr>\n",
       "      <th>4</th>\n",
       "      <td>0</td>\n",
       "      <td>3</td>\n",
       "      <td>Allen, Mr. William Henry</td>\n",
       "      <td>0</td>\n",
       "      <td>2</td>\n",
       "      <td>0</td>\n",
       "      <td>0</td>\n",
       "      <td>8.0500</td>\n",
       "      <td>0</td>\n",
       "      <td>(32.0, 48.0]</td>\n",
       "    </tr>\n",
       "  </tbody>\n",
       "</table>\n",
       "</div>"
      ],
      "text/plain": [
       "   Survived  Pclass                                               Name  Sex  \\\n",
       "0         0       3                            Braund, Mr. Owen Harris    0   \n",
       "1         1       1  Cumings, Mrs. John Bradley (Florence Briggs Th...    1   \n",
       "2         1       3                             Heikkinen, Miss. Laina    1   \n",
       "3         1       1       Futrelle, Mrs. Jacques Heath (Lily May Peel)    1   \n",
       "4         0       3                           Allen, Mr. William Henry    0   \n",
       "\n",
       "   Age  SibSp  Parch     Fare  Embarked       AgeBand  \n",
       "0    1      1      0   7.2500         0  (16.0, 32.0]  \n",
       "1    2      1      0  71.2833         1  (32.0, 48.0]  \n",
       "2    1      0      0   7.9250         0  (16.0, 32.0]  \n",
       "3    2      1      0  53.1000         0  (32.0, 48.0]  \n",
       "4    2      0      0   8.0500         0  (32.0, 48.0]  "
      ]
     },
     "execution_count": 34,
     "metadata": {},
     "output_type": "execute_result"
    }
   ],
   "source": [
    "for dataset in combine:    \n",
    "    dataset.loc[ dataset['Age'] <= 16, 'Age'] = 0\n",
    "    dataset.loc[(dataset['Age'] > 16) & (dataset['Age'] <= 32), 'Age'] = 1\n",
    "    dataset.loc[(dataset['Age'] > 32) & (dataset['Age'] <= 48), 'Age'] = 2\n",
    "    dataset.loc[(dataset['Age'] > 48) & (dataset['Age'] <= 64), 'Age'] = 3\n",
    "    dataset.loc[ dataset['Age'] > 64, 'Age']\n",
    "train_data.head()"
   ]
  },
  {
   "cell_type": "code",
   "execution_count": 35,
   "id": "619e9a33",
   "metadata": {
    "execution": {
     "iopub.execute_input": "2022-07-23T11:01:05.574349Z",
     "iopub.status.busy": "2022-07-23T11:01:05.573602Z",
     "iopub.status.idle": "2022-07-23T11:01:05.579562Z",
     "shell.execute_reply": "2022-07-23T11:01:05.578426Z"
    },
    "papermill": {
     "duration": 0.04078,
     "end_time": "2022-07-23T11:01:05.582011",
     "exception": false,
     "start_time": "2022-07-23T11:01:05.541231",
     "status": "completed"
    },
    "tags": []
   },
   "outputs": [],
   "source": [
    "train_data.drop(['AgeBand'], axis=1 , inplace = True)"
   ]
  },
  {
   "cell_type": "markdown",
   "id": "0e1dad2e",
   "metadata": {
    "papermill": {
     "duration": 0.031012,
     "end_time": "2022-07-23T11:01:05.643491",
     "exception": false,
     "start_time": "2022-07-23T11:01:05.612479",
     "status": "completed"
    },
    "tags": []
   },
   "source": [
    "#### Fare Band:"
   ]
  },
  {
   "cell_type": "code",
   "execution_count": 36,
   "id": "d0ea5167",
   "metadata": {
    "execution": {
     "iopub.execute_input": "2022-07-23T11:01:05.707721Z",
     "iopub.status.busy": "2022-07-23T11:01:05.707340Z",
     "iopub.status.idle": "2022-07-23T11:01:05.727664Z",
     "shell.execute_reply": "2022-07-23T11:01:05.726550Z"
    },
    "papermill": {
     "duration": 0.055356,
     "end_time": "2022-07-23T11:01:05.730250",
     "exception": false,
     "start_time": "2022-07-23T11:01:05.674894",
     "status": "completed"
    },
    "tags": []
   },
   "outputs": [
    {
     "data": {
      "text/html": [
       "<div>\n",
       "<style scoped>\n",
       "    .dataframe tbody tr th:only-of-type {\n",
       "        vertical-align: middle;\n",
       "    }\n",
       "\n",
       "    .dataframe tbody tr th {\n",
       "        vertical-align: top;\n",
       "    }\n",
       "\n",
       "    .dataframe thead th {\n",
       "        text-align: right;\n",
       "    }\n",
       "</style>\n",
       "<table border=\"1\" class=\"dataframe\">\n",
       "  <thead>\n",
       "    <tr style=\"text-align: right;\">\n",
       "      <th></th>\n",
       "      <th>FareBand</th>\n",
       "      <th>Survived</th>\n",
       "    </tr>\n",
       "  </thead>\n",
       "  <tbody>\n",
       "    <tr>\n",
       "      <th>3</th>\n",
       "      <td>(31.0, 512.329]</td>\n",
       "      <td>0.581081</td>\n",
       "    </tr>\n",
       "    <tr>\n",
       "      <th>2</th>\n",
       "      <td>(14.454, 31.0]</td>\n",
       "      <td>0.454955</td>\n",
       "    </tr>\n",
       "    <tr>\n",
       "      <th>1</th>\n",
       "      <td>(7.91, 14.454]</td>\n",
       "      <td>0.303571</td>\n",
       "    </tr>\n",
       "    <tr>\n",
       "      <th>0</th>\n",
       "      <td>(-0.001, 7.91]</td>\n",
       "      <td>0.197309</td>\n",
       "    </tr>\n",
       "  </tbody>\n",
       "</table>\n",
       "</div>"
      ],
      "text/plain": [
       "          FareBand  Survived\n",
       "3  (31.0, 512.329]  0.581081\n",
       "2   (14.454, 31.0]  0.454955\n",
       "1   (7.91, 14.454]  0.303571\n",
       "0   (-0.001, 7.91]  0.197309"
      ]
     },
     "execution_count": 36,
     "metadata": {},
     "output_type": "execute_result"
    }
   ],
   "source": [
    "train_data['FareBand'] = pd.qcut(train_data['Fare'], 4)\n",
    "train_data[['FareBand', 'Survived']].groupby(['FareBand'], as_index=False).mean().sort_values(by='FareBand', ascending=False)"
   ]
  },
  {
   "cell_type": "code",
   "execution_count": 37,
   "id": "2560dff3",
   "metadata": {
    "execution": {
     "iopub.execute_input": "2022-07-23T11:01:05.794701Z",
     "iopub.status.busy": "2022-07-23T11:01:05.793519Z",
     "iopub.status.idle": "2022-07-23T11:01:05.808141Z",
     "shell.execute_reply": "2022-07-23T11:01:05.807268Z"
    },
    "papermill": {
     "duration": 0.049598,
     "end_time": "2022-07-23T11:01:05.810761",
     "exception": false,
     "start_time": "2022-07-23T11:01:05.761163",
     "status": "completed"
    },
    "tags": []
   },
   "outputs": [],
   "source": [
    "for dataset in combine:\n",
    "    dataset.loc[ dataset['Fare'] <= 7.91, 'Fare'] = 0\n",
    "    dataset.loc[(dataset['Fare'] > 7.91) & (dataset['Fare'] <= 14.454), 'Fare'] = 1\n",
    "    dataset.loc[(dataset['Fare'] > 14.454) & (dataset['Fare'] <= 31), 'Fare']   = 2\n",
    "    dataset.loc[ dataset['Fare'] > 31, 'Fare'] = 3\n",
    "    dataset['Fare'] = dataset['Fare'].astype(int)\n",
    "\n",
    "train_data.drop(['FareBand'], axis=1 , inplace = True)\n"
   ]
  },
  {
   "cell_type": "code",
   "execution_count": 38,
   "id": "be7115e5",
   "metadata": {
    "execution": {
     "iopub.execute_input": "2022-07-23T11:01:05.876846Z",
     "iopub.status.busy": "2022-07-23T11:01:05.875853Z",
     "iopub.status.idle": "2022-07-23T11:01:05.888441Z",
     "shell.execute_reply": "2022-07-23T11:01:05.887379Z"
    },
    "papermill": {
     "duration": 0.047168,
     "end_time": "2022-07-23T11:01:05.890731",
     "exception": false,
     "start_time": "2022-07-23T11:01:05.843563",
     "status": "completed"
    },
    "tags": []
   },
   "outputs": [
    {
     "data": {
      "text/html": [
       "<div>\n",
       "<style scoped>\n",
       "    .dataframe tbody tr th:only-of-type {\n",
       "        vertical-align: middle;\n",
       "    }\n",
       "\n",
       "    .dataframe tbody tr th {\n",
       "        vertical-align: top;\n",
       "    }\n",
       "\n",
       "    .dataframe thead th {\n",
       "        text-align: right;\n",
       "    }\n",
       "</style>\n",
       "<table border=\"1\" class=\"dataframe\">\n",
       "  <thead>\n",
       "    <tr style=\"text-align: right;\">\n",
       "      <th></th>\n",
       "      <th>Survived</th>\n",
       "      <th>Pclass</th>\n",
       "      <th>Name</th>\n",
       "      <th>Sex</th>\n",
       "      <th>Age</th>\n",
       "      <th>SibSp</th>\n",
       "      <th>Parch</th>\n",
       "      <th>Fare</th>\n",
       "      <th>Embarked</th>\n",
       "    </tr>\n",
       "  </thead>\n",
       "  <tbody>\n",
       "    <tr>\n",
       "      <th>0</th>\n",
       "      <td>0</td>\n",
       "      <td>3</td>\n",
       "      <td>Braund, Mr. Owen Harris</td>\n",
       "      <td>0</td>\n",
       "      <td>1</td>\n",
       "      <td>1</td>\n",
       "      <td>0</td>\n",
       "      <td>0</td>\n",
       "      <td>0</td>\n",
       "    </tr>\n",
       "    <tr>\n",
       "      <th>1</th>\n",
       "      <td>1</td>\n",
       "      <td>1</td>\n",
       "      <td>Cumings, Mrs. John Bradley (Florence Briggs Th...</td>\n",
       "      <td>1</td>\n",
       "      <td>2</td>\n",
       "      <td>1</td>\n",
       "      <td>0</td>\n",
       "      <td>3</td>\n",
       "      <td>1</td>\n",
       "    </tr>\n",
       "    <tr>\n",
       "      <th>2</th>\n",
       "      <td>1</td>\n",
       "      <td>3</td>\n",
       "      <td>Heikkinen, Miss. Laina</td>\n",
       "      <td>1</td>\n",
       "      <td>1</td>\n",
       "      <td>0</td>\n",
       "      <td>0</td>\n",
       "      <td>1</td>\n",
       "      <td>0</td>\n",
       "    </tr>\n",
       "    <tr>\n",
       "      <th>3</th>\n",
       "      <td>1</td>\n",
       "      <td>1</td>\n",
       "      <td>Futrelle, Mrs. Jacques Heath (Lily May Peel)</td>\n",
       "      <td>1</td>\n",
       "      <td>2</td>\n",
       "      <td>1</td>\n",
       "      <td>0</td>\n",
       "      <td>3</td>\n",
       "      <td>0</td>\n",
       "    </tr>\n",
       "    <tr>\n",
       "      <th>4</th>\n",
       "      <td>0</td>\n",
       "      <td>3</td>\n",
       "      <td>Allen, Mr. William Henry</td>\n",
       "      <td>0</td>\n",
       "      <td>2</td>\n",
       "      <td>0</td>\n",
       "      <td>0</td>\n",
       "      <td>1</td>\n",
       "      <td>0</td>\n",
       "    </tr>\n",
       "  </tbody>\n",
       "</table>\n",
       "</div>"
      ],
      "text/plain": [
       "   Survived  Pclass                                               Name  Sex  \\\n",
       "0         0       3                            Braund, Mr. Owen Harris    0   \n",
       "1         1       1  Cumings, Mrs. John Bradley (Florence Briggs Th...    1   \n",
       "2         1       3                             Heikkinen, Miss. Laina    1   \n",
       "3         1       1       Futrelle, Mrs. Jacques Heath (Lily May Peel)    1   \n",
       "4         0       3                           Allen, Mr. William Henry    0   \n",
       "\n",
       "   Age  SibSp  Parch  Fare  Embarked  \n",
       "0    1      1      0     0         0  \n",
       "1    2      1      0     3         1  \n",
       "2    1      0      0     1         0  \n",
       "3    2      1      0     3         0  \n",
       "4    2      0      0     1         0  "
      ]
     },
     "execution_count": 38,
     "metadata": {},
     "output_type": "execute_result"
    }
   ],
   "source": [
    "train_data.head()"
   ]
  },
  {
   "cell_type": "markdown",
   "id": "50796776",
   "metadata": {
    "papermill": {
     "duration": 0.031444,
     "end_time": "2022-07-23T11:01:05.953092",
     "exception": false,
     "start_time": "2022-07-23T11:01:05.921648",
     "status": "completed"
    },
    "tags": []
   },
   "source": [
    "<div style=\"color:black;\n",
    "           border-radius:0px;\n",
    "           background-color:#00ADB5;\n",
    "           font-size:14px;\n",
    "           font-family:sans-serif;\n",
    "           letter-spacing:0.5px\">\n",
    "        <p style=\"padding: 6px;\n",
    "              color:white;\">\n",
    "            <b>Data Engineering:</b>\n",
    "        </p>\n",
    "</div>\n"
   ]
  },
  {
   "cell_type": "markdown",
   "id": "7a6af462",
   "metadata": {
    "papermill": {
     "duration": 0.030695,
     "end_time": "2022-07-23T11:01:06.014852",
     "exception": false,
     "start_time": "2022-07-23T11:01:05.984157",
     "status": "completed"
    },
    "tags": []
   },
   "source": [
    "#### Family Size:"
   ]
  },
  {
   "cell_type": "code",
   "execution_count": 39,
   "id": "31afebce",
   "metadata": {
    "execution": {
     "iopub.execute_input": "2022-07-23T11:01:06.079354Z",
     "iopub.status.busy": "2022-07-23T11:01:06.078607Z",
     "iopub.status.idle": "2022-07-23T11:01:06.097720Z",
     "shell.execute_reply": "2022-07-23T11:01:06.096767Z"
    },
    "papermill": {
     "duration": 0.05371,
     "end_time": "2022-07-23T11:01:06.100011",
     "exception": false,
     "start_time": "2022-07-23T11:01:06.046301",
     "status": "completed"
    },
    "tags": []
   },
   "outputs": [
    {
     "data": {
      "text/html": [
       "<div>\n",
       "<style scoped>\n",
       "    .dataframe tbody tr th:only-of-type {\n",
       "        vertical-align: middle;\n",
       "    }\n",
       "\n",
       "    .dataframe tbody tr th {\n",
       "        vertical-align: top;\n",
       "    }\n",
       "\n",
       "    .dataframe thead th {\n",
       "        text-align: right;\n",
       "    }\n",
       "</style>\n",
       "<table border=\"1\" class=\"dataframe\">\n",
       "  <thead>\n",
       "    <tr style=\"text-align: right;\">\n",
       "      <th></th>\n",
       "      <th>FamilySize</th>\n",
       "      <th>Survived</th>\n",
       "    </tr>\n",
       "  </thead>\n",
       "  <tbody>\n",
       "    <tr>\n",
       "      <th>3</th>\n",
       "      <td>4</td>\n",
       "      <td>0.724138</td>\n",
       "    </tr>\n",
       "    <tr>\n",
       "      <th>2</th>\n",
       "      <td>3</td>\n",
       "      <td>0.578431</td>\n",
       "    </tr>\n",
       "    <tr>\n",
       "      <th>1</th>\n",
       "      <td>2</td>\n",
       "      <td>0.552795</td>\n",
       "    </tr>\n",
       "    <tr>\n",
       "      <th>6</th>\n",
       "      <td>7</td>\n",
       "      <td>0.333333</td>\n",
       "    </tr>\n",
       "    <tr>\n",
       "      <th>0</th>\n",
       "      <td>1</td>\n",
       "      <td>0.303538</td>\n",
       "    </tr>\n",
       "    <tr>\n",
       "      <th>4</th>\n",
       "      <td>5</td>\n",
       "      <td>0.200000</td>\n",
       "    </tr>\n",
       "    <tr>\n",
       "      <th>5</th>\n",
       "      <td>6</td>\n",
       "      <td>0.136364</td>\n",
       "    </tr>\n",
       "    <tr>\n",
       "      <th>7</th>\n",
       "      <td>8</td>\n",
       "      <td>0.000000</td>\n",
       "    </tr>\n",
       "    <tr>\n",
       "      <th>8</th>\n",
       "      <td>11</td>\n",
       "      <td>0.000000</td>\n",
       "    </tr>\n",
       "  </tbody>\n",
       "</table>\n",
       "</div>"
      ],
      "text/plain": [
       "   FamilySize  Survived\n",
       "3           4  0.724138\n",
       "2           3  0.578431\n",
       "1           2  0.552795\n",
       "6           7  0.333333\n",
       "0           1  0.303538\n",
       "4           5  0.200000\n",
       "5           6  0.136364\n",
       "7           8  0.000000\n",
       "8          11  0.000000"
      ]
     },
     "execution_count": 39,
     "metadata": {},
     "output_type": "execute_result"
    }
   ],
   "source": [
    "for dataset in combine:\n",
    "    dataset['FamilySize'] = dataset['SibSp'] + dataset['Parch'] + 1\n",
    "\n",
    "train_data.drop(['Parch', 'SibSp'], axis=1 , inplace = True)\n",
    "test_data.drop(['Parch', 'SibSp'], axis=1 , inplace = True)    \n",
    "\n",
    "train_data[['FamilySize', 'Survived']].groupby(['FamilySize'], as_index=False).mean().sort_values(by='Survived', ascending=False)\n"
   ]
  },
  {
   "cell_type": "code",
   "execution_count": 40,
   "id": "dd77a3eb",
   "metadata": {
    "execution": {
     "iopub.execute_input": "2022-07-23T11:01:06.178068Z",
     "iopub.status.busy": "2022-07-23T11:01:06.176891Z",
     "iopub.status.idle": "2022-07-23T11:01:06.199271Z",
     "shell.execute_reply": "2022-07-23T11:01:06.197876Z"
    },
    "papermill": {
     "duration": 0.06773,
     "end_time": "2022-07-23T11:01:06.203352",
     "exception": false,
     "start_time": "2022-07-23T11:01:06.135622",
     "status": "completed"
    },
    "tags": []
   },
   "outputs": [],
   "source": [
    "# Create new feature of family size\n",
    "for dataset in combine:\n",
    "    dataset['Single'] = dataset['FamilySize'].map(lambda s: 1 if s == 1 else 0)\n",
    "    dataset['SmallF'] = dataset['FamilySize'].map(lambda s: 1 if  s == 2  else 0)\n",
    "    dataset['MedF'] = dataset['FamilySize'].map(lambda s: 1 if 3 <= s <= 4 else 0)\n",
    "    dataset['LargeF'] = dataset['FamilySize'].map(lambda s: 1 if s >= 5 else 0)\n",
    "    \n",
    "train_data.drop(columns = [\"FamilySize\"] , inplace = True)\n",
    "test_data.drop(columns = [\"FamilySize\"] , inplace = True)"
   ]
  },
  {
   "cell_type": "markdown",
   "id": "6c834642",
   "metadata": {
    "papermill": {
     "duration": 0.030762,
     "end_time": "2022-07-23T11:01:06.268656",
     "exception": false,
     "start_time": "2022-07-23T11:01:06.237894",
     "status": "completed"
    },
    "tags": []
   },
   "source": [
    "#### Name Title:"
   ]
  },
  {
   "cell_type": "code",
   "execution_count": 41,
   "id": "6f709847",
   "metadata": {
    "execution": {
     "iopub.execute_input": "2022-07-23T11:01:06.332711Z",
     "iopub.status.busy": "2022-07-23T11:01:06.332330Z",
     "iopub.status.idle": "2022-07-23T11:01:06.362664Z",
     "shell.execute_reply": "2022-07-23T11:01:06.361416Z"
    },
    "papermill": {
     "duration": 0.065413,
     "end_time": "2022-07-23T11:01:06.365088",
     "exception": false,
     "start_time": "2022-07-23T11:01:06.299675",
     "status": "completed"
    },
    "tags": []
   },
   "outputs": [
    {
     "data": {
      "text/html": [
       "<div>\n",
       "<style scoped>\n",
       "    .dataframe tbody tr th:only-of-type {\n",
       "        vertical-align: middle;\n",
       "    }\n",
       "\n",
       "    .dataframe tbody tr th {\n",
       "        vertical-align: top;\n",
       "    }\n",
       "\n",
       "    .dataframe thead th {\n",
       "        text-align: right;\n",
       "    }\n",
       "</style>\n",
       "<table border=\"1\" class=\"dataframe\">\n",
       "  <thead>\n",
       "    <tr style=\"text-align: right;\">\n",
       "      <th>Sex</th>\n",
       "      <th>0</th>\n",
       "      <th>1</th>\n",
       "    </tr>\n",
       "    <tr>\n",
       "      <th>Title</th>\n",
       "      <th></th>\n",
       "      <th></th>\n",
       "    </tr>\n",
       "  </thead>\n",
       "  <tbody>\n",
       "    <tr>\n",
       "      <th>Capt</th>\n",
       "      <td>1</td>\n",
       "      <td>0</td>\n",
       "    </tr>\n",
       "    <tr>\n",
       "      <th>Col</th>\n",
       "      <td>2</td>\n",
       "      <td>0</td>\n",
       "    </tr>\n",
       "    <tr>\n",
       "      <th>Countess</th>\n",
       "      <td>0</td>\n",
       "      <td>1</td>\n",
       "    </tr>\n",
       "    <tr>\n",
       "      <th>Don</th>\n",
       "      <td>1</td>\n",
       "      <td>0</td>\n",
       "    </tr>\n",
       "    <tr>\n",
       "      <th>Dr</th>\n",
       "      <td>6</td>\n",
       "      <td>1</td>\n",
       "    </tr>\n",
       "    <tr>\n",
       "      <th>Jonkheer</th>\n",
       "      <td>1</td>\n",
       "      <td>0</td>\n",
       "    </tr>\n",
       "    <tr>\n",
       "      <th>Lady</th>\n",
       "      <td>0</td>\n",
       "      <td>1</td>\n",
       "    </tr>\n",
       "    <tr>\n",
       "      <th>Major</th>\n",
       "      <td>2</td>\n",
       "      <td>0</td>\n",
       "    </tr>\n",
       "    <tr>\n",
       "      <th>Master</th>\n",
       "      <td>40</td>\n",
       "      <td>0</td>\n",
       "    </tr>\n",
       "    <tr>\n",
       "      <th>Miss</th>\n",
       "      <td>0</td>\n",
       "      <td>182</td>\n",
       "    </tr>\n",
       "    <tr>\n",
       "      <th>Mlle</th>\n",
       "      <td>0</td>\n",
       "      <td>2</td>\n",
       "    </tr>\n",
       "    <tr>\n",
       "      <th>Mme</th>\n",
       "      <td>0</td>\n",
       "      <td>1</td>\n",
       "    </tr>\n",
       "    <tr>\n",
       "      <th>Mr</th>\n",
       "      <td>517</td>\n",
       "      <td>0</td>\n",
       "    </tr>\n",
       "    <tr>\n",
       "      <th>Mrs</th>\n",
       "      <td>0</td>\n",
       "      <td>125</td>\n",
       "    </tr>\n",
       "    <tr>\n",
       "      <th>Ms</th>\n",
       "      <td>0</td>\n",
       "      <td>1</td>\n",
       "    </tr>\n",
       "    <tr>\n",
       "      <th>Rev</th>\n",
       "      <td>6</td>\n",
       "      <td>0</td>\n",
       "    </tr>\n",
       "    <tr>\n",
       "      <th>Sir</th>\n",
       "      <td>1</td>\n",
       "      <td>0</td>\n",
       "    </tr>\n",
       "  </tbody>\n",
       "</table>\n",
       "</div>"
      ],
      "text/plain": [
       "Sex         0    1\n",
       "Title             \n",
       "Capt        1    0\n",
       "Col         2    0\n",
       "Countess    0    1\n",
       "Don         1    0\n",
       "Dr          6    1\n",
       "Jonkheer    1    0\n",
       "Lady        0    1\n",
       "Major       2    0\n",
       "Master     40    0\n",
       "Miss        0  182\n",
       "Mlle        0    2\n",
       "Mme         0    1\n",
       "Mr        517    0\n",
       "Mrs         0  125\n",
       "Ms          0    1\n",
       "Rev         6    0\n",
       "Sir         1    0"
      ]
     },
     "execution_count": 41,
     "metadata": {},
     "output_type": "execute_result"
    }
   ],
   "source": [
    "for dataset in combine:\n",
    "    dataset['Title'] = dataset.Name.str.extract(' ([A-Za-z]+)\\.', expand=False)\n",
    "\n",
    "pd.crosstab(train_data['Title'], train_data['Sex'])"
   ]
  },
  {
   "cell_type": "code",
   "execution_count": 42,
   "id": "4225a997",
   "metadata": {
    "execution": {
     "iopub.execute_input": "2022-07-23T11:01:06.430031Z",
     "iopub.status.busy": "2022-07-23T11:01:06.429153Z",
     "iopub.status.idle": "2022-07-23T11:01:06.453710Z",
     "shell.execute_reply": "2022-07-23T11:01:06.452465Z"
    },
    "papermill": {
     "duration": 0.059914,
     "end_time": "2022-07-23T11:01:06.456356",
     "exception": false,
     "start_time": "2022-07-23T11:01:06.396442",
     "status": "completed"
    },
    "tags": []
   },
   "outputs": [
    {
     "data": {
      "text/html": [
       "<div>\n",
       "<style scoped>\n",
       "    .dataframe tbody tr th:only-of-type {\n",
       "        vertical-align: middle;\n",
       "    }\n",
       "\n",
       "    .dataframe tbody tr th {\n",
       "        vertical-align: top;\n",
       "    }\n",
       "\n",
       "    .dataframe thead th {\n",
       "        text-align: right;\n",
       "    }\n",
       "</style>\n",
       "<table border=\"1\" class=\"dataframe\">\n",
       "  <thead>\n",
       "    <tr style=\"text-align: right;\">\n",
       "      <th></th>\n",
       "      <th>Title</th>\n",
       "      <th>Survived</th>\n",
       "    </tr>\n",
       "  </thead>\n",
       "  <tbody>\n",
       "    <tr>\n",
       "      <th>0</th>\n",
       "      <td>Master</td>\n",
       "      <td>0.575000</td>\n",
       "    </tr>\n",
       "    <tr>\n",
       "      <th>1</th>\n",
       "      <td>Miss</td>\n",
       "      <td>0.702703</td>\n",
       "    </tr>\n",
       "    <tr>\n",
       "      <th>2</th>\n",
       "      <td>Mr</td>\n",
       "      <td>0.156673</td>\n",
       "    </tr>\n",
       "    <tr>\n",
       "      <th>3</th>\n",
       "      <td>Mrs</td>\n",
       "      <td>0.793651</td>\n",
       "    </tr>\n",
       "    <tr>\n",
       "      <th>4</th>\n",
       "      <td>Rare</td>\n",
       "      <td>0.347826</td>\n",
       "    </tr>\n",
       "  </tbody>\n",
       "</table>\n",
       "</div>"
      ],
      "text/plain": [
       "    Title  Survived\n",
       "0  Master  0.575000\n",
       "1    Miss  0.702703\n",
       "2      Mr  0.156673\n",
       "3     Mrs  0.793651\n",
       "4    Rare  0.347826"
      ]
     },
     "execution_count": 42,
     "metadata": {},
     "output_type": "execute_result"
    }
   ],
   "source": [
    "for dataset in combine:\n",
    "    dataset['Title'] = dataset['Title'].replace(['Lady', 'Countess','Capt', 'Col',\\\n",
    "    'Don', 'Dr', 'Major', 'Rev', 'Sir', 'Jonkheer', 'Dona'], 'Rare')\n",
    "\n",
    "    dataset['Title'] = dataset['Title'].replace('Mlle', 'Miss')\n",
    "    dataset['Title'] = dataset['Title'].replace('Ms', 'Miss')\n",
    "    dataset['Title'] = dataset['Title'].replace('Mme', 'Mrs')\n",
    "    \n",
    "train_data[['Title', 'Survived']].groupby(['Title'], as_index=False).mean()"
   ]
  },
  {
   "cell_type": "code",
   "execution_count": 43,
   "id": "471ec2ce",
   "metadata": {
    "execution": {
     "iopub.execute_input": "2022-07-23T11:01:06.522544Z",
     "iopub.status.busy": "2022-07-23T11:01:06.521696Z",
     "iopub.status.idle": "2022-07-23T11:01:06.530939Z",
     "shell.execute_reply": "2022-07-23T11:01:06.530109Z"
    },
    "papermill": {
     "duration": 0.045036,
     "end_time": "2022-07-23T11:01:06.533483",
     "exception": false,
     "start_time": "2022-07-23T11:01:06.488447",
     "status": "completed"
    },
    "tags": []
   },
   "outputs": [],
   "source": [
    "title_mapping = {\"Mr\": 1, \"Miss\": 2, \"Mrs\": 3, \"Master\": 4, \"Rare\": 5}\n",
    "for dataset in combine:\n",
    "    dataset['Title'] = dataset['Title'].map(title_mapping)\n",
    "    dataset['Title'] = dataset['Title'].fillna(0)\n"
   ]
  },
  {
   "cell_type": "code",
   "execution_count": 44,
   "id": "abab4735",
   "metadata": {
    "execution": {
     "iopub.execute_input": "2022-07-23T11:01:06.598767Z",
     "iopub.status.busy": "2022-07-23T11:01:06.597993Z",
     "iopub.status.idle": "2022-07-23T11:01:06.605590Z",
     "shell.execute_reply": "2022-07-23T11:01:06.604772Z"
    },
    "papermill": {
     "duration": 0.042892,
     "end_time": "2022-07-23T11:01:06.607911",
     "exception": false,
     "start_time": "2022-07-23T11:01:06.565019",
     "status": "completed"
    },
    "tags": []
   },
   "outputs": [],
   "source": [
    "train_data.drop(['Name'], axis=1 , inplace = True)\n",
    "test_data.drop(['Name'], axis=1 , inplace = True)    "
   ]
  },
  {
   "cell_type": "code",
   "execution_count": 45,
   "id": "416e55fd",
   "metadata": {
    "execution": {
     "iopub.execute_input": "2022-07-23T11:01:06.674745Z",
     "iopub.status.busy": "2022-07-23T11:01:06.673928Z",
     "iopub.status.idle": "2022-07-23T11:01:06.687777Z",
     "shell.execute_reply": "2022-07-23T11:01:06.686558Z"
    },
    "papermill": {
     "duration": 0.050029,
     "end_time": "2022-07-23T11:01:06.690286",
     "exception": false,
     "start_time": "2022-07-23T11:01:06.640257",
     "status": "completed"
    },
    "tags": []
   },
   "outputs": [
    {
     "data": {
      "text/html": [
       "<div>\n",
       "<style scoped>\n",
       "    .dataframe tbody tr th:only-of-type {\n",
       "        vertical-align: middle;\n",
       "    }\n",
       "\n",
       "    .dataframe tbody tr th {\n",
       "        vertical-align: top;\n",
       "    }\n",
       "\n",
       "    .dataframe thead th {\n",
       "        text-align: right;\n",
       "    }\n",
       "</style>\n",
       "<table border=\"1\" class=\"dataframe\">\n",
       "  <thead>\n",
       "    <tr style=\"text-align: right;\">\n",
       "      <th></th>\n",
       "      <th>Survived</th>\n",
       "      <th>Pclass</th>\n",
       "      <th>Sex</th>\n",
       "      <th>Age</th>\n",
       "      <th>Fare</th>\n",
       "      <th>Embarked</th>\n",
       "      <th>Single</th>\n",
       "      <th>SmallF</th>\n",
       "      <th>MedF</th>\n",
       "      <th>LargeF</th>\n",
       "      <th>Title</th>\n",
       "    </tr>\n",
       "  </thead>\n",
       "  <tbody>\n",
       "    <tr>\n",
       "      <th>0</th>\n",
       "      <td>0</td>\n",
       "      <td>3</td>\n",
       "      <td>0</td>\n",
       "      <td>1</td>\n",
       "      <td>0</td>\n",
       "      <td>0</td>\n",
       "      <td>0</td>\n",
       "      <td>1</td>\n",
       "      <td>0</td>\n",
       "      <td>0</td>\n",
       "      <td>1</td>\n",
       "    </tr>\n",
       "    <tr>\n",
       "      <th>1</th>\n",
       "      <td>1</td>\n",
       "      <td>1</td>\n",
       "      <td>1</td>\n",
       "      <td>2</td>\n",
       "      <td>3</td>\n",
       "      <td>1</td>\n",
       "      <td>0</td>\n",
       "      <td>1</td>\n",
       "      <td>0</td>\n",
       "      <td>0</td>\n",
       "      <td>3</td>\n",
       "    </tr>\n",
       "    <tr>\n",
       "      <th>2</th>\n",
       "      <td>1</td>\n",
       "      <td>3</td>\n",
       "      <td>1</td>\n",
       "      <td>1</td>\n",
       "      <td>1</td>\n",
       "      <td>0</td>\n",
       "      <td>1</td>\n",
       "      <td>0</td>\n",
       "      <td>0</td>\n",
       "      <td>0</td>\n",
       "      <td>2</td>\n",
       "    </tr>\n",
       "    <tr>\n",
       "      <th>3</th>\n",
       "      <td>1</td>\n",
       "      <td>1</td>\n",
       "      <td>1</td>\n",
       "      <td>2</td>\n",
       "      <td>3</td>\n",
       "      <td>0</td>\n",
       "      <td>0</td>\n",
       "      <td>1</td>\n",
       "      <td>0</td>\n",
       "      <td>0</td>\n",
       "      <td>3</td>\n",
       "    </tr>\n",
       "    <tr>\n",
       "      <th>4</th>\n",
       "      <td>0</td>\n",
       "      <td>3</td>\n",
       "      <td>0</td>\n",
       "      <td>2</td>\n",
       "      <td>1</td>\n",
       "      <td>0</td>\n",
       "      <td>1</td>\n",
       "      <td>0</td>\n",
       "      <td>0</td>\n",
       "      <td>0</td>\n",
       "      <td>1</td>\n",
       "    </tr>\n",
       "  </tbody>\n",
       "</table>\n",
       "</div>"
      ],
      "text/plain": [
       "   Survived  Pclass  Sex  Age  Fare  Embarked  Single  SmallF  MedF  LargeF  \\\n",
       "0         0       3    0    1     0         0       0       1     0       0   \n",
       "1         1       1    1    2     3         1       0       1     0       0   \n",
       "2         1       3    1    1     1         0       1       0     0       0   \n",
       "3         1       1    1    2     3         0       0       1     0       0   \n",
       "4         0       3    0    2     1         0       1       0     0       0   \n",
       "\n",
       "   Title  \n",
       "0      1  \n",
       "1      3  \n",
       "2      2  \n",
       "3      3  \n",
       "4      1  "
      ]
     },
     "execution_count": 45,
     "metadata": {},
     "output_type": "execute_result"
    }
   ],
   "source": [
    "train_data.head()"
   ]
  },
  {
   "cell_type": "code",
   "execution_count": 46,
   "id": "dcd00340",
   "metadata": {
    "execution": {
     "iopub.execute_input": "2022-07-23T11:01:06.756210Z",
     "iopub.status.busy": "2022-07-23T11:01:06.755463Z",
     "iopub.status.idle": "2022-07-23T11:01:06.768747Z",
     "shell.execute_reply": "2022-07-23T11:01:06.767650Z"
    },
    "papermill": {
     "duration": 0.049075,
     "end_time": "2022-07-23T11:01:06.771028",
     "exception": false,
     "start_time": "2022-07-23T11:01:06.721953",
     "status": "completed"
    },
    "tags": []
   },
   "outputs": [
    {
     "data": {
      "text/html": [
       "<div>\n",
       "<style scoped>\n",
       "    .dataframe tbody tr th:only-of-type {\n",
       "        vertical-align: middle;\n",
       "    }\n",
       "\n",
       "    .dataframe tbody tr th {\n",
       "        vertical-align: top;\n",
       "    }\n",
       "\n",
       "    .dataframe thead th {\n",
       "        text-align: right;\n",
       "    }\n",
       "</style>\n",
       "<table border=\"1\" class=\"dataframe\">\n",
       "  <thead>\n",
       "    <tr style=\"text-align: right;\">\n",
       "      <th></th>\n",
       "      <th>PassengerId</th>\n",
       "      <th>Pclass</th>\n",
       "      <th>Sex</th>\n",
       "      <th>Age</th>\n",
       "      <th>Fare</th>\n",
       "      <th>Embarked</th>\n",
       "      <th>Single</th>\n",
       "      <th>SmallF</th>\n",
       "      <th>MedF</th>\n",
       "      <th>LargeF</th>\n",
       "      <th>Title</th>\n",
       "    </tr>\n",
       "  </thead>\n",
       "  <tbody>\n",
       "    <tr>\n",
       "      <th>0</th>\n",
       "      <td>892</td>\n",
       "      <td>3</td>\n",
       "      <td>0</td>\n",
       "      <td>2</td>\n",
       "      <td>0</td>\n",
       "      <td>2</td>\n",
       "      <td>1</td>\n",
       "      <td>0</td>\n",
       "      <td>0</td>\n",
       "      <td>0</td>\n",
       "      <td>1</td>\n",
       "    </tr>\n",
       "    <tr>\n",
       "      <th>1</th>\n",
       "      <td>893</td>\n",
       "      <td>3</td>\n",
       "      <td>1</td>\n",
       "      <td>2</td>\n",
       "      <td>0</td>\n",
       "      <td>0</td>\n",
       "      <td>0</td>\n",
       "      <td>1</td>\n",
       "      <td>0</td>\n",
       "      <td>0</td>\n",
       "      <td>3</td>\n",
       "    </tr>\n",
       "    <tr>\n",
       "      <th>2</th>\n",
       "      <td>894</td>\n",
       "      <td>2</td>\n",
       "      <td>0</td>\n",
       "      <td>3</td>\n",
       "      <td>1</td>\n",
       "      <td>2</td>\n",
       "      <td>1</td>\n",
       "      <td>0</td>\n",
       "      <td>0</td>\n",
       "      <td>0</td>\n",
       "      <td>1</td>\n",
       "    </tr>\n",
       "    <tr>\n",
       "      <th>3</th>\n",
       "      <td>895</td>\n",
       "      <td>3</td>\n",
       "      <td>0</td>\n",
       "      <td>1</td>\n",
       "      <td>1</td>\n",
       "      <td>0</td>\n",
       "      <td>1</td>\n",
       "      <td>0</td>\n",
       "      <td>0</td>\n",
       "      <td>0</td>\n",
       "      <td>1</td>\n",
       "    </tr>\n",
       "    <tr>\n",
       "      <th>4</th>\n",
       "      <td>896</td>\n",
       "      <td>3</td>\n",
       "      <td>1</td>\n",
       "      <td>1</td>\n",
       "      <td>1</td>\n",
       "      <td>0</td>\n",
       "      <td>0</td>\n",
       "      <td>0</td>\n",
       "      <td>1</td>\n",
       "      <td>0</td>\n",
       "      <td>3</td>\n",
       "    </tr>\n",
       "  </tbody>\n",
       "</table>\n",
       "</div>"
      ],
      "text/plain": [
       "   PassengerId  Pclass  Sex  Age  Fare  Embarked  Single  SmallF  MedF  \\\n",
       "0          892       3    0    2     0         2       1       0     0   \n",
       "1          893       3    1    2     0         0       0       1     0   \n",
       "2          894       2    0    3     1         2       1       0     0   \n",
       "3          895       3    0    1     1         0       1       0     0   \n",
       "4          896       3    1    1     1         0       0       0     1   \n",
       "\n",
       "   LargeF  Title  \n",
       "0       0      1  \n",
       "1       0      3  \n",
       "2       0      1  \n",
       "3       0      1  \n",
       "4       0      3  "
      ]
     },
     "execution_count": 46,
     "metadata": {},
     "output_type": "execute_result"
    }
   ],
   "source": [
    "test_data.head()"
   ]
  },
  {
   "cell_type": "markdown",
   "id": "8c9cfb93",
   "metadata": {
    "papermill": {
     "duration": 0.032309,
     "end_time": "2022-07-23T11:01:06.835367",
     "exception": false,
     "start_time": "2022-07-23T11:01:06.803058",
     "status": "completed"
    },
    "tags": []
   },
   "source": [
    "<div style=\"color:#00ADB5;\n",
    "           display:fill;\n",
    "           border-radius:5px;\n",
    "           background-color:#393E46;\n",
    "           font-size:20px;\n",
    "           font-family:sans-serif;\n",
    "           letter-spacing:0.5px\">\n",
    "        <p style=\"padding: 10px;\n",
    "              color:white;\">\n",
    "            <b> 5 ) Modeling:</b>\n",
    "        </p>\n",
    "</div>\n",
    "\n"
   ]
  },
  {
   "cell_type": "code",
   "execution_count": 47,
   "id": "c8ae75a0",
   "metadata": {
    "execution": {
     "iopub.execute_input": "2022-07-23T11:01:06.903834Z",
     "iopub.status.busy": "2022-07-23T11:01:06.903045Z",
     "iopub.status.idle": "2022-07-23T11:01:07.343802Z",
     "shell.execute_reply": "2022-07-23T11:01:07.342472Z"
    },
    "papermill": {
     "duration": 0.47694,
     "end_time": "2022-07-23T11:01:07.346485",
     "exception": false,
     "start_time": "2022-07-23T11:01:06.869545",
     "status": "completed"
    },
    "tags": []
   },
   "outputs": [],
   "source": [
    "from sklearn.ensemble import RandomForestClassifier, AdaBoostClassifier, GradientBoostingClassifier, ExtraTreesClassifier, VotingClassifier\n",
    "from sklearn.discriminant_analysis import LinearDiscriminantAnalysis\n",
    "from sklearn.linear_model import LogisticRegression\n",
    "from sklearn.neighbors import KNeighborsClassifier\n",
    "from sklearn.tree import DecisionTreeClassifier\n",
    "from sklearn.neural_network import MLPClassifier\n",
    "from sklearn.svm import SVC\n",
    "from sklearn.model_selection import GridSearchCV, cross_val_score, StratifiedKFold, learning_curve"
   ]
  },
  {
   "cell_type": "code",
   "execution_count": 48,
   "id": "70e68a25",
   "metadata": {
    "execution": {
     "iopub.execute_input": "2022-07-23T11:01:07.415477Z",
     "iopub.status.busy": "2022-07-23T11:01:07.414680Z",
     "iopub.status.idle": "2022-07-23T11:01:07.424931Z",
     "shell.execute_reply": "2022-07-23T11:01:07.423540Z"
    },
    "papermill": {
     "duration": 0.048298,
     "end_time": "2022-07-23T11:01:07.427812",
     "exception": false,
     "start_time": "2022-07-23T11:01:07.379514",
     "status": "completed"
    },
    "tags": []
   },
   "outputs": [
    {
     "name": "stdout",
     "output_type": "stream",
     "text": [
      "X_train shape is = (891, 10)\n",
      "Y_train shape is = (891,)\n",
      "Test shape is = (418, 10)\n"
     ]
    }
   ],
   "source": [
    "# ==================================================================================\n",
    "# Preparing Data For Training:\n",
    "# ==================================================================================\n",
    "\n",
    "Y_train = train_data[\"Survived\"]\n",
    "X_train = train_data.drop(labels = [\"Survived\"],axis = 1)\n",
    "Test = test_data.drop(labels = [\"PassengerId\"],axis = 1)\n",
    "print(f\"X_train shape is = {X_train.shape}\" )\n",
    "print(f\"Y_train shape is = {Y_train.shape}\" )\n",
    "print(f\"Test shape is = {Test.shape}\" )"
   ]
  },
  {
   "cell_type": "code",
   "execution_count": 49,
   "id": "1c625da8",
   "metadata": {
    "execution": {
     "iopub.execute_input": "2022-07-23T11:01:07.495231Z",
     "iopub.status.busy": "2022-07-23T11:01:07.494445Z",
     "iopub.status.idle": "2022-07-23T11:01:07.499598Z",
     "shell.execute_reply": "2022-07-23T11:01:07.498609Z"
    },
    "papermill": {
     "duration": 0.041681,
     "end_time": "2022-07-23T11:01:07.501924",
     "exception": false,
     "start_time": "2022-07-23T11:01:07.460243",
     "status": "completed"
    },
    "tags": []
   },
   "outputs": [],
   "source": [
    "# Cross validate model with Kfold stratified cross val\n",
    "kfold = StratifiedKFold(n_splits=10)"
   ]
  },
  {
   "cell_type": "code",
   "execution_count": 50,
   "id": "61d17633",
   "metadata": {
    "execution": {
     "iopub.execute_input": "2022-07-23T11:01:07.570160Z",
     "iopub.status.busy": "2022-07-23T11:01:07.569746Z",
     "iopub.status.idle": "2022-07-23T11:01:15.039165Z",
     "shell.execute_reply": "2022-07-23T11:01:15.037730Z"
    },
    "papermill": {
     "duration": 7.506448,
     "end_time": "2022-07-23T11:01:15.042288",
     "exception": false,
     "start_time": "2022-07-23T11:01:07.535840",
     "status": "completed"
    },
    "tags": []
   },
   "outputs": [
    {
     "data": {
      "image/png": "[encoded data removed]",
      "text/plain": [
       "<Figure size 720x432 with 1 Axes>"
      ]
     },
     "metadata": {},
     "output_type": "display_data"
    }
   ],
   "source": [
    "# Modeling step Test differents algorithms \n",
    "random_state = 2\n",
    "classifiers = []\n",
    "classifiers.append(SVC(random_state=random_state))\n",
    "classifiers.append(DecisionTreeClassifier(random_state=random_state))\n",
    "classifiers.append(AdaBoostClassifier(DecisionTreeClassifier(random_state=random_state),random_state=random_state,learning_rate=0.1))\n",
    "classifiers.append(RandomForestClassifier(random_state=random_state))\n",
    "classifiers.append(ExtraTreesClassifier(random_state=random_state))\n",
    "classifiers.append(GradientBoostingClassifier(random_state=random_state))\n",
    "classifiers.append(MLPClassifier(random_state=random_state))\n",
    "classifiers.append(KNeighborsClassifier())\n",
    "classifiers.append(LogisticRegression(random_state = random_state))\n",
    "classifiers.append(LinearDiscriminantAnalysis())\n",
    "\n",
    "cv_results = []\n",
    "for classifier in classifiers :\n",
    "    cv_results.append(cross_val_score(classifier, X_train, y = Y_train, scoring = \"accuracy\", cv = kfold, n_jobs=4))\n",
    "\n",
    "cv_means = []\n",
    "cv_std = []\n",
    "for cv_result in cv_results:\n",
    "    cv_means.append(cv_result.mean())\n",
    "    cv_std.append(cv_result.std())\n",
    "\n",
    "cv_res = pd.DataFrame({\"CrossValMeans\":cv_means,\"CrossValerrors\": cv_std,\"Algorithm\":[\"SVC\",\"DecisionTree\",\"AdaBoost\",\n",
    "\"RandomForest\",\"ExtraTrees\",\"GradientBoosting\",\"MultipleLayerPerceptron\",\"KNeighboors\",\"LogisticRegression\",\"LinearDiscriminantAnalysis\"]})\n",
    "\n",
    "g = sns.barplot(\"CrossValMeans\",\"Algorithm\",data = cv_res, palette=\"Set3\",orient = \"h\",**{'xerr':cv_std})\n",
    "g.set_xlabel(\"Mean Accuracy\")\n",
    "g = g.set_title(\"Cross validation scores\")"
   ]
  },
  {
   "cell_type": "code",
   "execution_count": 51,
   "id": "bb78e2a2",
   "metadata": {
    "execution": {
     "iopub.execute_input": "2022-07-23T11:01:15.112343Z",
     "iopub.status.busy": "2022-07-23T11:01:15.111597Z",
     "iopub.status.idle": "2022-07-23T11:01:19.508024Z",
     "shell.execute_reply": "2022-07-23T11:01:19.506965Z"
    },
    "papermill": {
     "duration": 4.434585,
     "end_time": "2022-07-23T11:01:19.510568",
     "exception": false,
     "start_time": "2022-07-23T11:01:15.075983",
     "status": "completed"
    },
    "tags": []
   },
   "outputs": [
    {
     "name": "stdout",
     "output_type": "stream",
     "text": [
      "Fitting 10 folds for each of 112 candidates, totalling 1120 fits\n"
     ]
    },
    {
     "data": {
      "text/plain": [
       "0.8159925093632958"
      ]
     },
     "execution_count": 51,
     "metadata": {},
     "output_type": "execute_result"
    }
   ],
   "source": [
    "### META MODELING  WITH ADABOOST, RF, EXTRATREES and GRADIENTBOOSTING\n",
    "\n",
    "# Adaboost\n",
    "DTC = DecisionTreeClassifier()\n",
    "\n",
    "adaDTC = AdaBoostClassifier(DTC, random_state=7)\n",
    "\n",
    "ada_param_grid = {\"base_estimator__criterion\" : [\"gini\", \"entropy\"],\n",
    "              \"base_estimator__splitter\" :   [\"best\", \"random\"],\n",
    "              \"algorithm\" : [\"SAMME\",\"SAMME.R\"],\n",
    "              \"n_estimators\" :[1,2],\n",
    "              \"learning_rate\":  [0.0001, 0.001, 0.01, 0.1, 0.2, 0.3,1.5]}\n",
    "\n",
    "gsadaDTC = GridSearchCV(adaDTC,param_grid = ada_param_grid, cv=kfold, scoring=\"accuracy\", n_jobs= 4, verbose = 1)\n",
    "\n",
    "gsadaDTC.fit(X_train,Y_train)\n",
    "\n",
    "ada_best = gsadaDTC.best_estimator_\n",
    "\n",
    "gsadaDTC.best_score_"
   ]
  },
  {
   "cell_type": "code",
   "execution_count": 52,
   "id": "16ef53ee",
   "metadata": {
    "execution": {
     "iopub.execute_input": "2022-07-23T11:01:19.579070Z",
     "iopub.status.busy": "2022-07-23T11:01:19.578341Z",
     "iopub.status.idle": "2022-07-23T11:02:29.176053Z",
     "shell.execute_reply": "2022-07-23T11:02:29.174884Z"
    },
    "papermill": {
     "duration": 69.667856,
     "end_time": "2022-07-23T11:02:29.211542",
     "exception": false,
     "start_time": "2022-07-23T11:01:19.543686",
     "status": "completed"
    },
    "tags": []
   },
   "outputs": [
    {
     "name": "stdout",
     "output_type": "stream",
     "text": [
      "Fitting 10 folds for each of 54 candidates, totalling 540 fits\n"
     ]
    },
    {
     "data": {
      "text/plain": [
       "0.8283270911360798"
      ]
     },
     "execution_count": 52,
     "metadata": {},
     "output_type": "execute_result"
    }
   ],
   "source": [
    "#ExtraTrees \n",
    "ExtC = ExtraTreesClassifier()\n",
    "\n",
    "\n",
    "## Search grid for optimal parameters\n",
    "ex_param_grid = {\"max_depth\": [None],\n",
    "              \"max_features\": [1, 3, 10],\n",
    "              \"min_samples_split\": [2, 3, 10],\n",
    "              \"min_samples_leaf\": [1, 3, 10],\n",
    "              \"bootstrap\": [False],\n",
    "              \"n_estimators\" :[100,300],\n",
    "              \"criterion\": [\"gini\"]}\n",
    "\n",
    "\n",
    "gsExtC = GridSearchCV(ExtC,param_grid = ex_param_grid, cv=kfold, scoring=\"accuracy\", n_jobs= 4, verbose = 1)\n",
    "\n",
    "gsExtC.fit(X_train,Y_train)\n",
    "\n",
    "ExtC_best = gsExtC.best_estimator_\n",
    "\n",
    "# Best score\n",
    "gsExtC.best_score_"
   ]
  },
  {
   "cell_type": "code",
   "execution_count": 53,
   "id": "fc6b7e9b",
   "metadata": {
    "execution": {
     "iopub.execute_input": "2022-07-23T11:02:29.279973Z",
     "iopub.status.busy": "2022-07-23T11:02:29.279191Z",
     "iopub.status.idle": "2022-07-23T11:03:41.994149Z",
     "shell.execute_reply": "2022-07-23T11:03:41.993003Z"
    },
    "papermill": {
     "duration": 72.785895,
     "end_time": "2022-07-23T11:03:42.030565",
     "exception": false,
     "start_time": "2022-07-23T11:02:29.244670",
     "status": "completed"
    },
    "tags": []
   },
   "outputs": [
    {
     "name": "stdout",
     "output_type": "stream",
     "text": [
      "Fitting 10 folds for each of 54 candidates, totalling 540 fits\n"
     ]
    },
    {
     "data": {
      "text/plain": [
       "0.8316978776529338"
      ]
     },
     "execution_count": 53,
     "metadata": {},
     "output_type": "execute_result"
    }
   ],
   "source": [
    "# RFC Parameters tunning \n",
    "RFC = RandomForestClassifier()\n",
    "\n",
    "\n",
    "## Search grid for optimal parameters\n",
    "rf_param_grid = {\"max_depth\": [None],\n",
    "              \"max_features\": [1, 3, 10],\n",
    "              \"min_samples_split\": [2, 3, 10],\n",
    "              \"min_samples_leaf\": [1, 3, 10],\n",
    "              \"bootstrap\": [False],\n",
    "              \"n_estimators\" :[100,300],\n",
    "              \"criterion\": [\"gini\"]}\n",
    "\n",
    "\n",
    "gsRFC = GridSearchCV(RFC,param_grid = rf_param_grid, cv=kfold, scoring=\"accuracy\", n_jobs= 4, verbose = 1)\n",
    "\n",
    "gsRFC.fit(X_train,Y_train)\n",
    "\n",
    "RFC_best = gsRFC.best_estimator_\n",
    "\n",
    "# Best score\n",
    "gsRFC.best_score_"
   ]
  },
  {
   "cell_type": "code",
   "execution_count": 54,
   "id": "0138c5af",
   "metadata": {
    "execution": {
     "iopub.execute_input": "2022-07-23T11:03:42.167924Z",
     "iopub.status.busy": "2022-07-23T11:03:42.167516Z",
     "iopub.status.idle": "2022-07-23T11:04:19.452592Z",
     "shell.execute_reply": "2022-07-23T11:04:19.451419Z"
    },
    "papermill": {
     "duration": 37.424162,
     "end_time": "2022-07-23T11:04:19.488253",
     "exception": false,
     "start_time": "2022-07-23T11:03:42.064091",
     "status": "completed"
    },
    "tags": []
   },
   "outputs": [
    {
     "name": "stdout",
     "output_type": "stream",
     "text": [
      "Fitting 10 folds for each of 72 candidates, totalling 720 fits\n"
     ]
    },
    {
     "data": {
      "text/plain": [
       "0.8215605493133582"
      ]
     },
     "execution_count": 54,
     "metadata": {},
     "output_type": "execute_result"
    }
   ],
   "source": [
    "# Gradient boosting tunning\n",
    "\n",
    "GBC = GradientBoostingClassifier()\n",
    "gb_param_grid = {'loss' : [\"deviance\"],\n",
    "              'n_estimators' : [100,200,300],\n",
    "              'learning_rate': [0.1, 0.05, 0.01],\n",
    "              'max_depth': [4, 8],\n",
    "              'min_samples_leaf': [100,150],\n",
    "              'max_features': [0.3, 0.1] \n",
    "              }\n",
    "\n",
    "gsGBC = GridSearchCV(GBC,param_grid = gb_param_grid, cv=kfold, scoring=\"accuracy\", n_jobs= 4, verbose = 1)\n",
    "\n",
    "gsGBC.fit(X_train,Y_train)\n",
    "\n",
    "GBC_best = gsGBC.best_estimator_\n",
    "\n",
    "# Best score\n",
    "gsGBC.best_score_"
   ]
  },
  {
   "cell_type": "code",
   "execution_count": 55,
   "id": "0f9cdcdc",
   "metadata": {
    "execution": {
     "iopub.execute_input": "2022-07-23T11:04:19.556509Z",
     "iopub.status.busy": "2022-07-23T11:04:19.556109Z",
     "iopub.status.idle": "2022-07-23T11:04:48.985114Z",
     "shell.execute_reply": "2022-07-23T11:04:48.983984Z"
    },
    "papermill": {
     "duration": 29.466035,
     "end_time": "2022-07-23T11:04:48.987492",
     "exception": false,
     "start_time": "2022-07-23T11:04:19.521457",
     "status": "completed"
    },
    "tags": []
   },
   "outputs": [
    {
     "name": "stdout",
     "output_type": "stream",
     "text": [
      "Fitting 10 folds for each of 28 candidates, totalling 280 fits\n"
     ]
    },
    {
     "data": {
      "text/plain": [
       "0.8338951310861423"
      ]
     },
     "execution_count": 55,
     "metadata": {},
     "output_type": "execute_result"
    }
   ],
   "source": [
    "### SVC classifier\n",
    "SVMC = SVC(probability=True)\n",
    "svc_param_grid = {'kernel': ['rbf'], \n",
    "                  'gamma': [ 0.001, 0.01, 0.1, 1],\n",
    "                  'C': [1, 10, 50, 100,200,300, 1000]}\n",
    "\n",
    "gsSVMC = GridSearchCV(SVMC,param_grid = svc_param_grid, cv=kfold, scoring=\"accuracy\", n_jobs= 4, verbose = 1)\n",
    "\n",
    "gsSVMC.fit(X_train,Y_train)\n",
    "\n",
    "SVMC_best = gsSVMC.best_estimator_\n",
    "\n",
    "# Best score\n",
    "gsSVMC.best_score_"
   ]
  },
  {
   "cell_type": "code",
   "execution_count": 56,
   "id": "dc37b975",
   "metadata": {
    "execution": {
     "iopub.execute_input": "2022-07-23T11:04:49.057737Z",
     "iopub.status.busy": "2022-07-23T11:04:49.056962Z",
     "iopub.status.idle": "2022-07-23T11:05:07.950088Z",
     "shell.execute_reply": "2022-07-23T11:05:07.948912Z"
    },
    "papermill": {
     "duration": 18.931193,
     "end_time": "2022-07-23T11:05:07.952590",
     "exception": false,
     "start_time": "2022-07-23T11:04:49.021397",
     "status": "completed"
    },
    "tags": []
   },
   "outputs": [
    {
     "data": {
      "image/png": "[encoded data removed]",
      "text/plain": [
       "<Figure size 720x432 with 1 Axes>"
      ]
     },
     "metadata": {},
     "output_type": "display_data"
    },
    {
     "data": {
      "image/png": "[encoded data removed]",
      "text/plain": [
       "<Figure size 720x432 with 1 Axes>"
      ]
     },
     "metadata": {},
     "output_type": "display_data"
    },
    {
     "data": {
      "image/png": "[encoded data removed]",
      "text/plain": [
       "<Figure size 720x432 with 1 Axes>"
      ]
     },
     "metadata": {},
     "output_type": "display_data"
    },
    {
     "data": {
      "image/png": "[encoded data removed]",
      "text/plain": [
       "<Figure size 720x432 with 1 Axes>"
      ]
     },
     "metadata": {},
     "output_type": "display_data"
    },
    {
     "data": {
      "image/png": "[encoded data removed]",
      "text/plain": [
       "<Figure size 720x432 with 1 Axes>"
      ]
     },
     "metadata": {},
     "output_type": "display_data"
    }
   ],
   "source": [
    "def plot_learning_curve(estimator, title, X, y, ylim=None, cv=None,\n",
    "                        n_jobs=-1, train_sizes=np.linspace(.1, 1.0, 5)):\n",
    "    \"\"\"Generate a simple plot of the test and training learning curve\"\"\"\n",
    "    plt.figure()\n",
    "    plt.title(title)\n",
    "    if ylim is not None:\n",
    "        plt.ylim(*ylim)\n",
    "    plt.xlabel(\"Training examples\")\n",
    "    plt.ylabel(\"Score\")\n",
    "    train_sizes, train_scores, test_scores = learning_curve(\n",
    "        estimator, X, y, cv=cv, n_jobs=n_jobs, train_sizes=train_sizes)\n",
    "    train_scores_mean = np.mean(train_scores, axis=1)\n",
    "    train_scores_std = np.std(train_scores, axis=1)\n",
    "    test_scores_mean = np.mean(test_scores, axis=1)\n",
    "    test_scores_std = np.std(test_scores, axis=1)\n",
    "    plt.grid()\n",
    "\n",
    "    plt.fill_between(train_sizes, train_scores_mean - train_scores_std,\n",
    "                     train_scores_mean + train_scores_std, alpha=0.1,\n",
    "                     color=\"r\")\n",
    "    plt.fill_between(train_sizes, test_scores_mean - test_scores_std,\n",
    "                     test_scores_mean + test_scores_std, alpha=0.1, color=\"g\")\n",
    "    plt.plot(train_sizes, train_scores_mean, 'o-', color=\"r\",\n",
    "             label=\"Training score\")\n",
    "    plt.plot(train_sizes, test_scores_mean, 'o-', color=\"g\",\n",
    "             label=\"Cross-validation score\")\n",
    "\n",
    "    plt.legend(loc=\"best\")\n",
    "    return plt\n",
    "\n",
    "g = plot_learning_curve(gsRFC.best_estimator_,\"RF mearning curves\",X_train,Y_train,cv=kfold)\n",
    "g = plot_learning_curve(gsExtC.best_estimator_,\"ExtraTrees learning curves\",X_train,Y_train,cv=kfold)\n",
    "g = plot_learning_curve(gsSVMC.best_estimator_,\"SVC learning curves\",X_train,Y_train,cv=kfold)\n",
    "g = plot_learning_curve(gsadaDTC.best_estimator_,\"AdaBoost learning curves\",X_train,Y_train,cv=kfold)\n",
    "g = plot_learning_curve(gsGBC.best_estimator_,\"GradientBoosting learning curves\",X_train,Y_train,cv=kfold)"
   ]
  },
  {
   "cell_type": "code",
   "execution_count": 57,
   "id": "9f366b35",
   "metadata": {
    "execution": {
     "iopub.execute_input": "2022-07-23T11:05:08.030382Z",
     "iopub.status.busy": "2022-07-23T11:05:08.029654Z",
     "iopub.status.idle": "2022-07-23T11:05:08.454761Z",
     "shell.execute_reply": "2022-07-23T11:05:08.453813Z"
    },
    "papermill": {
     "duration": 0.466066,
     "end_time": "2022-07-23T11:05:08.457272",
     "exception": false,
     "start_time": "2022-07-23T11:05:07.991206",
     "status": "completed"
    },
    "tags": []
   },
   "outputs": [
    {
     "data": {
      "image/png": "[encoded data removed]",
      "text/plain": [
       "<Figure size 720x432 with 2 Axes>"
      ]
     },
     "metadata": {},
     "output_type": "display_data"
    }
   ],
   "source": [
    "test_Survived_RFC = pd.Series(RFC_best.predict(Test), name=\"RFC\")\n",
    "test_Survived_ExtC = pd.Series(ExtC_best.predict(Test), name=\"ExtC\")\n",
    "test_Survived_SVMC = pd.Series(SVMC_best.predict(Test), name=\"SVC\")\n",
    "test_Survived_AdaC = pd.Series(ada_best.predict(Test), name=\"Ada\")\n",
    "test_Survived_GBC = pd.Series(GBC_best.predict(Test), name=\"GBC\")\n",
    "\n",
    "\n",
    "\n",
    "# Concatenate all classifier results\n",
    "ensemble_results = pd.concat([test_Survived_RFC,test_Survived_ExtC,test_Survived_AdaC,test_Survived_GBC, test_Survived_SVMC],axis=1)\n",
    "\n",
    "\n",
    "g= sns.heatmap(ensemble_results.corr(),annot=True)"
   ]
  },
  {
   "cell_type": "code",
   "execution_count": 58,
   "id": "09340eb0",
   "metadata": {
    "execution": {
     "iopub.execute_input": "2022-07-23T11:05:08.536182Z",
     "iopub.status.busy": "2022-07-23T11:05:08.535751Z",
     "iopub.status.idle": "2022-07-23T11:05:08.849916Z",
     "shell.execute_reply": "2022-07-23T11:05:08.848420Z"
    },
    "papermill": {
     "duration": 0.356187,
     "end_time": "2022-07-23T11:05:08.852987",
     "exception": false,
     "start_time": "2022-07-23T11:05:08.496800",
     "status": "completed"
    },
    "tags": []
   },
   "outputs": [
    {
     "data": {
      "image/png": "[encoded data removed]",
      "text/plain": [
       "<Figure size 720x432 with 2 Axes>"
      ]
     },
     "metadata": {},
     "output_type": "display_data"
    }
   ],
   "source": [
    "\n",
    "# Concatenate all classifier results\n",
    "ensemble_results = pd.concat([test_Survived_RFC,test_Survived_ExtC,test_Survived_AdaC,test_Survived_GBC, test_Survived_SVMC],axis=1)\n",
    "\n",
    "\n",
    "g= sns.heatmap(ensemble_results.corr(),annot=True)"
   ]
  },
  {
   "cell_type": "code",
   "execution_count": 59,
   "id": "5f2d9167",
   "metadata": {
    "execution": {
     "iopub.execute_input": "2022-07-23T11:05:08.930363Z",
     "iopub.status.busy": "2022-07-23T11:05:08.929953Z",
     "iopub.status.idle": "2022-07-23T11:05:09.622925Z",
     "shell.execute_reply": "2022-07-23T11:05:09.621958Z"
    },
    "papermill": {
     "duration": 0.734752,
     "end_time": "2022-07-23T11:05:09.625682",
     "exception": false,
     "start_time": "2022-07-23T11:05:08.890930",
     "status": "completed"
    },
    "tags": []
   },
   "outputs": [],
   "source": [
    "votingC = VotingClassifier(estimators=[('rfc', RFC_best), ('extc', ExtC_best),\n",
    "('svc', SVMC_best), ('adac',ada_best),('gbc',GBC_best)], voting='soft', n_jobs=4)\n",
    "\n",
    "votingC = votingC.fit(X_train, Y_train)"
   ]
  },
  {
   "cell_type": "code",
   "execution_count": 60,
   "id": "d3f6cab1",
   "metadata": {
    "execution": {
     "iopub.execute_input": "2022-07-23T11:05:09.703844Z",
     "iopub.status.busy": "2022-07-23T11:05:09.703473Z",
     "iopub.status.idle": "2022-07-23T11:05:09.805056Z",
     "shell.execute_reply": "2022-07-23T11:05:09.804254Z"
    },
    "papermill": {
     "duration": 0.143681,
     "end_time": "2022-07-23T11:05:09.807635",
     "exception": false,
     "start_time": "2022-07-23T11:05:09.663954",
     "status": "completed"
    },
    "tags": []
   },
   "outputs": [],
   "source": [
    "test_Survived = pd.Series(votingC.predict(Test), name=\"Survived\")\n",
    "\n",
    "results = pd.concat([test_data.PassengerId,test_Survived],axis=1)\n",
    "\n",
    "results.to_csv(\"ensemble_python_voting.csv\",index=False)"
   ]
  },
  {
   "cell_type": "markdown",
   "id": "fd28a2cd",
   "metadata": {
    "papermill": {
     "duration": 0.037743,
     "end_time": "2022-07-23T11:05:09.883547",
     "exception": false,
     "start_time": "2022-07-23T11:05:09.845804",
     "status": "completed"
    },
    "tags": []
   },
   "source": [
    "### References:\n",
    "- https://www.kaggle.com/code/startupsci/titanic-data-science-solutions\n",
    "- https://www.kaggle.com/code/yassineghouzam/titanic-top-4-with-ensemble-modeling"
   ]
  }
 ],
 "metadata": {
  "kernelspec": {
   "display_name": "Python 3.10.8 64-bit (microsoft store)",
   "language": "python",
   "name": "python3"
  },
  "language_info": {
   "codemirror_mode": {
    "name": "ipython",
    "version": 3
   },
   "file_extension": ".py",
   "mimetype": "text/x-python",
   "name": "python",
   "nbconvert_exporter": "python",
   "pygments_lexer": "ipython3",
   "version": "3.10.8"
  },
  "papermill": {
   "default_parameters": {},
   "duration": 267.396275,
   "end_time": "2022-07-23T11:05:12.545523",
   "environment_variables": {},
   "exception": null,
   "input_path": "__notebook__.ipynb",
   "output_path": "__notebook__.ipynb",
   "parameters": {},
   "start_time": "2022-07-23T11:00:45.149248",
   "version": "2.3.4"
  },
  "vscode": {
   "interpreter": {
    "hash": "7dd4a09f69cdafc31053b58ab566d628347a6bc6fc0b8424c446cc7f66917665"
   }
  }
 },
 "nbformat": 4,
 "nbformat_minor": 5
}
