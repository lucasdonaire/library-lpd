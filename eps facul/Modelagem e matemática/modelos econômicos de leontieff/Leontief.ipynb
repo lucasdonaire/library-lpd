{
 "cells": [
  {
   "cell_type": "code",
   "execution_count": 43,
   "metadata": {},
   "outputs": [],
   "source": [
    "import numpy as np\n",
    "import pandas as pd"
   ]
  },
  {
   "cell_type": "markdown",
   "metadata": {},
   "source": [
    "### 5) Exemplo\n",
    "#### Para testar o algoritmo, foi ealizado os cálculos com a matriz do item 5 exemplo do projeto."
   ]
  },
  {
   "cell_type": "code",
   "execution_count": 2,
   "metadata": {},
   "outputs": [],
   "source": [
    "consumo = np.array([[0.50, 0.40, 0.20],\n",
    "                    [0.20, 0.30, 0.10],\n",
    "                    [0.10, 0.10, 0.30]])"
   ]
  },
  {
   "cell_type": "code",
   "execution_count": null,
   "metadata": {},
   "outputs": [],
   "source": []
  },
  {
   "cell_type": "code",
   "execution_count": 3,
   "metadata": {},
   "outputs": [
    {
     "data": {
      "text/plain": [
       "array([[ 0.5, -0.4, -0.2],\n",
       "       [-0.2,  0.7, -0.1],\n",
       "       [-0.1, -0.1,  0.7]])"
      ]
     },
     "execution_count": 3,
     "metadata": {},
     "output_type": "execute_result"
    }
   ],
   "source": [
    "np.identity(consumo.shape[0]) - consumo"
   ]
  },
  {
   "cell_type": "code",
   "execution_count": 4,
   "metadata": {},
   "outputs": [],
   "source": [
    "input_table = np.array([[0.50, -0.40, -0.20],\n",
    "                        [-0.20, 0.70, -0.10],\n",
    "                        [-0.10, -0.10, 0.70]])"
   ]
  },
  {
   "cell_type": "code",
   "execution_count": 5,
   "metadata": {},
   "outputs": [],
   "source": [
    "total_output = np.array([50, 30, 20])"
   ]
  },
  {
   "cell_type": "code",
   "execution_count": 6,
   "metadata": {},
   "outputs": [],
   "source": [
    "resultado = np.sum(np.linalg.inv(input_table) * total_output, axis=1)"
   ]
  },
  {
   "cell_type": "code",
   "execution_count": 7,
   "metadata": {},
   "outputs": [
    {
     "data": {
      "text/plain": [
       "array([225.92592593, 118.51851852,  77.77777778])"
      ]
     },
     "execution_count": 7,
     "metadata": {},
     "output_type": "execute_result"
    }
   ],
   "source": [
    "resultado"
   ]
  },
  {
   "cell_type": "code",
   "execution_count": null,
   "metadata": {},
   "outputs": [],
   "source": []
  },
  {
   "cell_type": "markdown",
   "metadata": {},
   "source": [
    "### Tarefas"
   ]
  },
  {
   "cell_type": "markdown",
   "metadata": {},
   "source": [
    "#### 2)"
   ]
  },
  {
   "cell_type": "markdown",
   "metadata": {},
   "source": [
    "#### a)"
   ]
  },
  {
   "cell_type": "markdown",
   "metadata": {},
   "source": [
    "Criando a matriz:"
   ]
  },
  {
   "cell_type": "code",
   "execution_count": 36,
   "metadata": {},
   "outputs": [],
   "source": [
    "input_table = np.array([[.1588, .0064, .0025, .0304, .0014, .0083, .1594],\n",
    "                        [.0057, .2645, .0436, .0099, .0083, .0201, .3413], \n",
    "                        [.0264, .1506, .3557, .0139, .0142, .0070, .0236],\n",
    "                        [.3299, .0565, .0495, .3636, .0204, .0483, .0649],\n",
    "                        [.0089, .0081, .0333, .0295, .3412, .0237, .0020],\n",
    "                        [.1190, .0901, .0996, .1260, .1722, .2368, .3369],\n",
    "                        [.0063, .0126, .0196, .0098, .0064, .0132, .0012]])"
   ]
  },
  {
   "cell_type": "code",
   "execution_count": null,
   "metadata": {},
   "outputs": [],
   "source": []
  },
  {
   "cell_type": "markdown",
   "metadata": {},
   "source": [
    "Subtraindo a identidade pela matriz:"
   ]
  },
  {
   "cell_type": "code",
   "execution_count": 37,
   "metadata": {},
   "outputs": [],
   "source": [
    "input_table = np.identity(input_table.shape[0]) - input_table"
   ]
  },
  {
   "cell_type": "code",
   "execution_count": 38,
   "metadata": {},
   "outputs": [
    {
     "data": {
      "text/plain": [
       "array([[ 0.8412, -0.0064, -0.0025, -0.0304, -0.0014, -0.0083, -0.1594],\n",
       "       [-0.0057,  0.7355, -0.0436, -0.0099, -0.0083, -0.0201, -0.3413],\n",
       "       [-0.0264, -0.1506,  0.6443, -0.0139, -0.0142, -0.007 , -0.0236],\n",
       "       [-0.3299, -0.0565, -0.0495,  0.6364, -0.0204, -0.0483, -0.0649],\n",
       "       [-0.0089, -0.0081, -0.0333, -0.0295,  0.6588, -0.0237, -0.002 ],\n",
       "       [-0.119 , -0.0901, -0.0996, -0.126 , -0.1722,  0.7632, -0.3369],\n",
       "       [-0.0063, -0.0126, -0.0196, -0.0098, -0.0064, -0.0132,  0.9988]])"
      ]
     },
     "execution_count": 38,
     "metadata": {},
     "output_type": "execute_result"
    }
   ],
   "source": [
    "input_table"
   ]
  },
  {
   "cell_type": "code",
   "execution_count": null,
   "metadata": {},
   "outputs": [],
   "source": []
  },
  {
   "cell_type": "markdown",
   "metadata": {},
   "source": [
    "Calculando a sua inversa, ou seja, a matriz de Leontief:"
   ]
  },
  {
   "cell_type": "code",
   "execution_count": 39,
   "metadata": {},
   "outputs": [
    {
     "data": {
      "text/plain": [
       "array([[1.22119175, 0.02708562, 0.02256849, 0.06770014, 0.01354649,\n",
       "        0.02265506, 0.21674832],\n",
       "       [0.04324274, 1.40455448, 0.12438484, 0.04658356, 0.04036365,\n",
       "        0.05162984, 0.51031329],\n",
       "       [0.08055744, 0.33874893, 1.59274464, 0.0555055 , 0.05077394,\n",
       "        0.03262524, 0.18095708],\n",
       "       [0.67324352, 0.19045497, 0.17627673, 1.64480827, 0.09483497,\n",
       "        0.12663949, 0.32647177],\n",
       "       [0.0635781 , 0.05312934, 0.10097656, 0.08971729, 1.53927711,\n",
       "        0.05751499, 0.05899924],\n",
       "       [0.34094669, 0.27106498, 0.29527121, 0.32529467, 0.3841739 ,\n",
       "        1.3673638 , 0.63713918],\n",
       "       [0.02134809, 0.03032844, 0.03924566, 0.02311631, 0.0174619 ,\n",
       "        0.02111642, 1.02455895]])"
      ]
     },
     "execution_count": 39,
     "metadata": {},
     "output_type": "execute_result"
    }
   ],
   "source": [
    "np.linalg.inv(input_table)"
   ]
  },
  {
   "cell_type": "code",
   "execution_count": 40,
   "metadata": {},
   "outputs": [],
   "source": [
    "total_output = np.array([74000, 56000, 10500, 25000, 17500, 196000, 5000])"
   ]
  },
  {
   "cell_type": "code",
   "execution_count": null,
   "metadata": {},
   "outputs": [],
   "source": []
  },
  {
   "cell_type": "markdown",
   "metadata": {},
   "source": [
    "Obtendo o Resultado de X:"
   ]
  },
  {
   "cell_type": "code",
   "execution_count": 41,
   "metadata": {},
   "outputs": [],
   "source": [
    "resultado = np.sum(np.linalg.inv(input_table) * total_output, axis=1)"
   ]
  },
  {
   "cell_type": "code",
   "execution_count": 42,
   "metadata": {},
   "outputs": [
    {
     "data": {
      "text/plain": [
       "array([ 99575.65339765,  97703.02286349,  51230.52316638, 131569.92192872,\n",
       "        49488.49137236, 329554.45256999,  13835.33571501])"
      ]
     },
     "execution_count": 42,
     "metadata": {},
     "output_type": "execute_result"
    }
   ],
   "source": [
    "resultado"
   ]
  },
  {
   "cell_type": "code",
   "execution_count": null,
   "metadata": {},
   "outputs": [],
   "source": []
  },
  {
   "cell_type": "code",
   "execution_count": null,
   "metadata": {},
   "outputs": [],
   "source": []
  },
  {
   "cell_type": "code",
   "execution_count": null,
   "metadata": {},
   "outputs": [],
   "source": []
  },
  {
   "cell_type": "code",
   "execution_count": null,
   "metadata": {},
   "outputs": [],
   "source": []
  },
  {
   "cell_type": "markdown",
   "metadata": {},
   "source": [
    "#### b)"
   ]
  },
  {
   "cell_type": "code",
   "execution_count": 14,
   "metadata": {},
   "outputs": [],
   "source": [
    "input_table = np.array([[.1588, .0064, .0025, .0304, .0014, .0083, .1594],\n",
    "                        [.0057, .2645, .0436, .0099, .0083, .0201, .3413],\n",
    "                        [.0264, .1506, .3557, .0139, .0142, .0070, .0236],\n",
    "                        [.3299, .0565, .0495, .3636, .0204, .0483, .0649],\n",
    "                        [.0089, .0081, .0333, .0295, .3412, .0237, .0020],\n",
    "                        [.1190, .0901, .0996, .1260, .1722, .2368, .3369],\n",
    "                        [.0063, .0126, .0196, .0098, .0064, .0132, .0012]])"
   ]
  },
  {
   "cell_type": "code",
   "execution_count": 15,
   "metadata": {},
   "outputs": [],
   "source": [
    "input_table = np.identity(input_table.shape[0]) - input_table"
   ]
  },
  {
   "cell_type": "code",
   "execution_count": 16,
   "metadata": {},
   "outputs": [
    {
     "data": {
      "text/plain": [
       "array([[ 0.8412, -0.0064, -0.0025, -0.0304, -0.0014, -0.0083, -0.1594],\n",
       "       [-0.0057,  0.7355, -0.0436, -0.0099, -0.0083, -0.0201, -0.3413],\n",
       "       [-0.0264, -0.1506,  0.6443, -0.0139, -0.0142, -0.007 , -0.0236],\n",
       "       [-0.3299, -0.0565, -0.0495,  0.6364, -0.0204, -0.0483, -0.0649],\n",
       "       [-0.0089, -0.0081, -0.0333, -0.0295,  0.6588, -0.0237, -0.002 ],\n",
       "       [-0.119 , -0.0901, -0.0996, -0.126 , -0.1722,  0.7632, -0.3369],\n",
       "       [-0.0063, -0.0126, -0.0196, -0.0098, -0.0064, -0.0132,  0.9988]])"
      ]
     },
     "execution_count": 16,
     "metadata": {},
     "output_type": "execute_result"
    }
   ],
   "source": [
    "input_table"
   ]
  },
  {
   "cell_type": "code",
   "execution_count": null,
   "metadata": {},
   "outputs": [],
   "source": [
    "np.linalg.inv(input_table)"
   ]
  },
  {
   "cell_type": "code",
   "execution_count": 17,
   "metadata": {},
   "outputs": [],
   "source": [
    "total_output = np.array([99640, 75548, 14444, 33501, 23527, 263985, 6526])"
   ]
  },
  {
   "cell_type": "code",
   "execution_count": 18,
   "metadata": {},
   "outputs": [],
   "source": [
    "resultado = np.sum(np.linalg.inv(input_table) * total_output, axis=1)"
   ]
  },
  {
   "cell_type": "code",
   "execution_count": 19,
   "metadata": {},
   "outputs": [
    {
     "data": {
      "text/plain": [
       "array([134033.61532755, 131686.642968  ,  69471.69907937, 176912.002023  ,\n",
       "        66595.55670623, 443772.90207667,  18431.17768329])"
      ]
     },
     "execution_count": 19,
     "metadata": {},
     "output_type": "execute_result"
    }
   ],
   "source": [
    "resultado"
   ]
  },
  {
   "cell_type": "code",
   "execution_count": null,
   "metadata": {},
   "outputs": [],
   "source": []
  },
  {
   "cell_type": "code",
   "execution_count": null,
   "metadata": {},
   "outputs": [],
   "source": []
  },
  {
   "cell_type": "markdown",
   "metadata": {},
   "source": [
    "### 3)"
   ]
  },
  {
   "cell_type": "markdown",
   "metadata": {},
   "source": [
    "#### Importando a tabela com os dados do IBGE:"
   ]
  },
  {
   "cell_type": "code",
   "execution_count": 52,
   "metadata": {},
   "outputs": [],
   "source": [
    "df_table = pd.read_excel('ibge.xlsx')"
   ]
  },
  {
   "cell_type": "code",
   "execution_count": 53,
   "metadata": {},
   "outputs": [
    {
     "data": {
      "text/html": [
       "<div>\n",
       "<style scoped>\n",
       "    .dataframe tbody tr th:only-of-type {\n",
       "        vertical-align: middle;\n",
       "    }\n",
       "\n",
       "    .dataframe tbody tr th {\n",
       "        vertical-align: top;\n",
       "    }\n",
       "\n",
       "    .dataframe thead th {\n",
       "        text-align: right;\n",
       "    }\n",
       "</style>\n",
       "<table border=\"1\" class=\"dataframe\">\n",
       "  <thead>\n",
       "    <tr style=\"text-align: right;\">\n",
       "      <th></th>\n",
       "      <th>01\\nAgropecuária</th>\n",
       "      <th>02\\nIndústrias extrativas</th>\n",
       "      <th>03\\nIndústrias de transformação</th>\n",
       "      <th>04\\nEletricidade e gás, água, esgoto e gestão de resíduos</th>\n",
       "      <th>05\\nConstrução</th>\n",
       "      <th>06\\nComércio</th>\n",
       "      <th>07\\nTransporte, armazenagem e correio</th>\n",
       "      <th>08\\nInformação e comunicação</th>\n",
       "      <th>09\\nAtividades financeiras, de seguros e serviços relacionados</th>\n",
       "      <th>10\\nAtividades imobiliárias</th>\n",
       "      <th>11\\nOutras atividades de serviços</th>\n",
       "      <th>12\\nAdministração, defesa, saúde e educação públicas e seguridade social</th>\n",
       "    </tr>\n",
       "  </thead>\n",
       "  <tbody>\n",
       "    <tr>\n",
       "      <th>0</th>\n",
       "      <td>0.040000</td>\n",
       "      <td>0.000008</td>\n",
       "      <td>0.075729</td>\n",
       "      <td>0.000102</td>\n",
       "      <td>0.001096</td>\n",
       "      <td>0.008983</td>\n",
       "      <td>0.000000</td>\n",
       "      <td>0.000000</td>\n",
       "      <td>0.000000</td>\n",
       "      <td>0.000000</td>\n",
       "      <td>0.004093</td>\n",
       "      <td>0.001363</td>\n",
       "    </tr>\n",
       "    <tr>\n",
       "      <th>1</th>\n",
       "      <td>0.000863</td>\n",
       "      <td>0.054875</td>\n",
       "      <td>0.042343</td>\n",
       "      <td>0.014855</td>\n",
       "      <td>0.009835</td>\n",
       "      <td>0.000064</td>\n",
       "      <td>0.000010</td>\n",
       "      <td>0.000000</td>\n",
       "      <td>0.000000</td>\n",
       "      <td>0.000582</td>\n",
       "      <td>0.000043</td>\n",
       "      <td>0.000061</td>\n",
       "    </tr>\n",
       "    <tr>\n",
       "      <th>2</th>\n",
       "      <td>0.211294</td>\n",
       "      <td>0.112176</td>\n",
       "      <td>0.278665</td>\n",
       "      <td>0.077120</td>\n",
       "      <td>0.209774</td>\n",
       "      <td>0.056695</td>\n",
       "      <td>0.186298</td>\n",
       "      <td>0.026816</td>\n",
       "      <td>0.008742</td>\n",
       "      <td>0.009331</td>\n",
       "      <td>0.071267</td>\n",
       "      <td>0.025694</td>\n",
       "    </tr>\n",
       "    <tr>\n",
       "      <th>3</th>\n",
       "      <td>0.023493</td>\n",
       "      <td>0.010865</td>\n",
       "      <td>0.015559</td>\n",
       "      <td>0.278018</td>\n",
       "      <td>0.001155</td>\n",
       "      <td>0.017458</td>\n",
       "      <td>0.005718</td>\n",
       "      <td>0.007179</td>\n",
       "      <td>0.004053</td>\n",
       "      <td>0.001247</td>\n",
       "      <td>0.016636</td>\n",
       "      <td>0.017357</td>\n",
       "    </tr>\n",
       "    <tr>\n",
       "      <th>4</th>\n",
       "      <td>0.000600</td>\n",
       "      <td>0.012810</td>\n",
       "      <td>0.000907</td>\n",
       "      <td>0.013016</td>\n",
       "      <td>0.095640</td>\n",
       "      <td>0.000939</td>\n",
       "      <td>0.003166</td>\n",
       "      <td>0.016649</td>\n",
       "      <td>0.002983</td>\n",
       "      <td>0.002977</td>\n",
       "      <td>0.003557</td>\n",
       "      <td>0.014197</td>\n",
       "    </tr>\n",
       "  </tbody>\n",
       "</table>\n",
       "</div>"
      ],
      "text/plain": [
       "   01\\nAgropecuária  02\\nIndústrias extrativas  \\\n",
       "0          0.040000                   0.000008   \n",
       "1          0.000863                   0.054875   \n",
       "2          0.211294                   0.112176   \n",
       "3          0.023493                   0.010865   \n",
       "4          0.000600                   0.012810   \n",
       "\n",
       "   03\\nIndústrias de transformação  \\\n",
       "0                         0.075729   \n",
       "1                         0.042343   \n",
       "2                         0.278665   \n",
       "3                         0.015559   \n",
       "4                         0.000907   \n",
       "\n",
       "   04\\nEletricidade e gás, água, esgoto e gestão de resíduos  05\\nConstrução  \\\n",
       "0                                           0.000102                0.001096   \n",
       "1                                           0.014855                0.009835   \n",
       "2                                           0.077120                0.209774   \n",
       "3                                           0.278018                0.001155   \n",
       "4                                           0.013016                0.095640   \n",
       "\n",
       "   06\\nComércio  07\\nTransporte, armazenagem e correio  \\\n",
       "0      0.008983                               0.000000   \n",
       "1      0.000064                               0.000010   \n",
       "2      0.056695                               0.186298   \n",
       "3      0.017458                               0.005718   \n",
       "4      0.000939                               0.003166   \n",
       "\n",
       "   08\\nInformação e comunicação  \\\n",
       "0                      0.000000   \n",
       "1                      0.000000   \n",
       "2                      0.026816   \n",
       "3                      0.007179   \n",
       "4                      0.016649   \n",
       "\n",
       "   09\\nAtividades financeiras, de seguros e serviços relacionados  \\\n",
       "0                                           0.000000                \n",
       "1                                           0.000000                \n",
       "2                                           0.008742                \n",
       "3                                           0.004053                \n",
       "4                                           0.002983                \n",
       "\n",
       "   10\\nAtividades imobiliárias  11\\nOutras atividades de serviços  \\\n",
       "0                     0.000000                           0.004093   \n",
       "1                     0.000582                           0.000043   \n",
       "2                     0.009331                           0.071267   \n",
       "3                     0.001247                           0.016636   \n",
       "4                     0.002977                           0.003557   \n",
       "\n",
       "   12\\nAdministração, defesa, saúde e educação públicas e seguridade social  \n",
       "0                                           0.001363                         \n",
       "1                                           0.000061                         \n",
       "2                                           0.025694                         \n",
       "3                                           0.017357                         \n",
       "4                                           0.014197                         "
      ]
     },
     "execution_count": 53,
     "metadata": {},
     "output_type": "execute_result"
    }
   ],
   "source": [
    "df_table.head()"
   ]
  },
  {
   "cell_type": "markdown",
   "metadata": {},
   "source": [
    "Convertendo os dados em Numpy Array:"
   ]
  },
  {
   "cell_type": "code",
   "execution_count": 54,
   "metadata": {},
   "outputs": [],
   "source": [
    "input_table = np.array(df_table.values)"
   ]
  },
  {
   "cell_type": "code",
   "execution_count": 55,
   "metadata": {},
   "outputs": [
    {
     "data": {
      "text/plain": [
       "array([[3.99995822e-02, 7.67539231e-06, 7.57288057e-02, 1.01978381e-04,\n",
       "        1.09598487e-03, 8.98286007e-03, 0.00000000e+00, 0.00000000e+00,\n",
       "        0.00000000e+00, 0.00000000e+00, 4.09262654e-03, 1.36279826e-03],\n",
       "       [8.62699225e-04, 5.48752173e-02, 4.23431276e-02, 1.48548508e-02,\n",
       "        9.83539667e-03, 6.35922537e-05, 9.89282118e-06, 0.00000000e+00,\n",
       "        0.00000000e+00, 5.82493328e-04, 4.28511670e-05, 6.12679654e-05],\n",
       "       [2.11294467e-01, 1.12175859e-01, 2.78664919e-01, 7.71203778e-02,\n",
       "        2.09774350e-01, 5.66952196e-02, 1.86297651e-01, 2.68157253e-02,\n",
       "        8.74156603e-03, 9.33088369e-03, 7.12669322e-02, 2.56944600e-02],\n",
       "       [2.34934096e-02, 1.08645178e-02, 1.55586610e-02, 2.78017788e-01,\n",
       "        1.15450065e-03, 1.74578906e-02, 5.71805064e-03, 7.17901309e-03,\n",
       "        4.05317684e-03, 1.24741496e-03, 1.66357753e-02, 1.73570490e-02],\n",
       "       [5.99502851e-04, 1.28102298e-02, 9.07270409e-04, 1.30161497e-02,\n",
       "        9.56400994e-02, 9.39348434e-04, 3.16570278e-03, 1.66492613e-02,\n",
       "        2.98288755e-03, 2.97657754e-03, 3.55732704e-03, 1.41967811e-02],\n",
       "       [5.56848328e-02, 2.76544385e-02, 7.33102584e-02, 1.81057979e-02,\n",
       "        5.38313607e-02, 2.54096477e-02, 4.23887602e-02, 2.29608578e-02,\n",
       "        4.51261810e-03, 3.00771712e-03, 2.98788264e-02, 1.20118330e-02],\n",
       "       [2.03413197e-02, 8.46212002e-02, 4.98721393e-02, 1.85198920e-02,\n",
       "        1.19277314e-02, 5.04241149e-02, 1.14175028e-01, 8.57429822e-03,\n",
       "        1.35831023e-02, 7.85816471e-04, 1.77995586e-02, 1.13296059e-02],\n",
       "       [8.56432645e-05, 3.76861762e-03, 5.48828364e-03, 6.51116509e-03,\n",
       "        2.13819847e-03, 1.30164259e-02, 7.55415825e-03, 1.22008982e-01,\n",
       "        3.95467542e-02, 1.41227156e-03, 3.82001149e-02, 1.74050698e-02],\n",
       "       [1.52591231e-02, 2.21012922e-02, 1.74675666e-02, 2.15607019e-02,\n",
       "        1.42335697e-02, 2.29722474e-02, 2.45975106e-02, 2.84250113e-02,\n",
       "        1.23772430e-01, 3.78767202e-02, 1.65262667e-02, 4.44523927e-02],\n",
       "       [3.96883421e-05, 1.48135072e-03, 2.00110933e-03, 4.69100551e-03,\n",
       "        1.81082637e-03, 3.69625433e-02, 7.35828039e-03, 1.33650625e-02,\n",
       "        1.05097187e-02, 2.99672668e-03, 1.91272646e-02, 3.93688075e-03],\n",
       "       [3.60746141e-03, 9.91392048e-02, 4.85225791e-02, 5.39218413e-02,\n",
       "        2.45560708e-02, 8.48102634e-02, 6.12405202e-02, 1.49943218e-01,\n",
       "        1.08614350e-01, 8.49194675e-03, 9.61423747e-02, 8.34569042e-02],\n",
       "       [0.00000000e+00, 0.00000000e+00, 0.00000000e+00, 0.00000000e+00,\n",
       "        0.00000000e+00, 0.00000000e+00, 0.00000000e+00, 0.00000000e+00,\n",
       "        0.00000000e+00, 0.00000000e+00, 0.00000000e+00, 0.00000000e+00]])"
      ]
     },
     "execution_count": 55,
     "metadata": {},
     "output_type": "execute_result"
    }
   ],
   "source": [
    "input_table"
   ]
  },
  {
   "cell_type": "markdown",
   "metadata": {},
   "source": [
    "Subtraindo a matriz da sua identidade:"
   ]
  },
  {
   "cell_type": "code",
   "execution_count": 56,
   "metadata": {},
   "outputs": [],
   "source": [
    "input_table = np.identity(input_table.shape[0]) - input_table"
   ]
  },
  {
   "cell_type": "code",
   "execution_count": 57,
   "metadata": {},
   "outputs": [
    {
     "data": {
      "text/plain": [
       "array([[ 9.60000418e-01, -7.67539231e-06, -7.57288057e-02,\n",
       "        -1.01978381e-04, -1.09598487e-03, -8.98286007e-03,\n",
       "         0.00000000e+00,  0.00000000e+00,  0.00000000e+00,\n",
       "         0.00000000e+00, -4.09262654e-03, -1.36279826e-03],\n",
       "       [-8.62699225e-04,  9.45124783e-01, -4.23431276e-02,\n",
       "        -1.48548508e-02, -9.83539667e-03, -6.35922537e-05,\n",
       "        -9.89282118e-06,  0.00000000e+00,  0.00000000e+00,\n",
       "        -5.82493328e-04, -4.28511670e-05, -6.12679654e-05],\n",
       "       [-2.11294467e-01, -1.12175859e-01,  7.21335081e-01,\n",
       "        -7.71203778e-02, -2.09774350e-01, -5.66952196e-02,\n",
       "        -1.86297651e-01, -2.68157253e-02, -8.74156603e-03,\n",
       "        -9.33088369e-03, -7.12669322e-02, -2.56944600e-02],\n",
       "       [-2.34934096e-02, -1.08645178e-02, -1.55586610e-02,\n",
       "         7.21982212e-01, -1.15450065e-03, -1.74578906e-02,\n",
       "        -5.71805064e-03, -7.17901309e-03, -4.05317684e-03,\n",
       "        -1.24741496e-03, -1.66357753e-02, -1.73570490e-02],\n",
       "       [-5.99502851e-04, -1.28102298e-02, -9.07270409e-04,\n",
       "        -1.30161497e-02,  9.04359901e-01, -9.39348434e-04,\n",
       "        -3.16570278e-03, -1.66492613e-02, -2.98288755e-03,\n",
       "        -2.97657754e-03, -3.55732704e-03, -1.41967811e-02],\n",
       "       [-5.56848328e-02, -2.76544385e-02, -7.33102584e-02,\n",
       "        -1.81057979e-02, -5.38313607e-02,  9.74590352e-01,\n",
       "        -4.23887602e-02, -2.29608578e-02, -4.51261810e-03,\n",
       "        -3.00771712e-03, -2.98788264e-02, -1.20118330e-02],\n",
       "       [-2.03413197e-02, -8.46212002e-02, -4.98721393e-02,\n",
       "        -1.85198920e-02, -1.19277314e-02, -5.04241149e-02,\n",
       "         8.85824972e-01, -8.57429822e-03, -1.35831023e-02,\n",
       "        -7.85816471e-04, -1.77995586e-02, -1.13296059e-02],\n",
       "       [-8.56432645e-05, -3.76861762e-03, -5.48828364e-03,\n",
       "        -6.51116509e-03, -2.13819847e-03, -1.30164259e-02,\n",
       "        -7.55415825e-03,  8.77991018e-01, -3.95467542e-02,\n",
       "        -1.41227156e-03, -3.82001149e-02, -1.74050698e-02],\n",
       "       [-1.52591231e-02, -2.21012922e-02, -1.74675666e-02,\n",
       "        -2.15607019e-02, -1.42335697e-02, -2.29722474e-02,\n",
       "        -2.45975106e-02, -2.84250113e-02,  8.76227570e-01,\n",
       "        -3.78767202e-02, -1.65262667e-02, -4.44523927e-02],\n",
       "       [-3.96883421e-05, -1.48135072e-03, -2.00110933e-03,\n",
       "        -4.69100551e-03, -1.81082637e-03, -3.69625433e-02,\n",
       "        -7.35828039e-03, -1.33650625e-02, -1.05097187e-02,\n",
       "         9.97003273e-01, -1.91272646e-02, -3.93688075e-03],\n",
       "       [-3.60746141e-03, -9.91392048e-02, -4.85225791e-02,\n",
       "        -5.39218413e-02, -2.45560708e-02, -8.48102634e-02,\n",
       "        -6.12405202e-02, -1.49943218e-01, -1.08614350e-01,\n",
       "        -8.49194675e-03,  9.03857625e-01, -8.34569042e-02],\n",
       "       [ 0.00000000e+00,  0.00000000e+00,  0.00000000e+00,\n",
       "         0.00000000e+00,  0.00000000e+00,  0.00000000e+00,\n",
       "         0.00000000e+00,  0.00000000e+00,  0.00000000e+00,\n",
       "         0.00000000e+00,  0.00000000e+00,  1.00000000e+00]])"
      ]
     },
     "execution_count": 57,
     "metadata": {},
     "output_type": "execute_result"
    }
   ],
   "source": [
    "input_table"
   ]
  },
  {
   "cell_type": "code",
   "execution_count": null,
   "metadata": {},
   "outputs": [],
   "source": []
  },
  {
   "cell_type": "code",
   "execution_count": null,
   "metadata": {},
   "outputs": [],
   "source": []
  },
  {
   "cell_type": "markdown",
   "metadata": {},
   "source": [
    "Calculando a Matriz de Leontief:"
   ]
  },
  {
   "cell_type": "code",
   "execution_count": 58,
   "metadata": {},
   "outputs": [
    {
     "data": {
      "text/plain": [
       "array([[1.07021867, 0.01967333, 0.11913949, 0.01649366, 0.03127004,\n",
       "        0.02024246, 0.02757532, 0.00811978, 0.00431414, 0.00163785,\n",
       "        0.01633623, 0.00750962],\n",
       "       [0.01735771, 1.0691786 , 0.06755098, 0.0309118 , 0.02817317,\n",
       "        0.00631082, 0.01541208, 0.00444266, 0.00225996, 0.00156184,\n",
       "        0.00690959, 0.00377236],\n",
       "       [0.3483731 , 0.23340532, 1.48826527, 0.19475651, 0.36504546,\n",
       "        0.12594738, 0.33335425, 0.08606937, 0.04421615, 0.01903134,\n",
       "        0.1395327 , 0.06776518],\n",
       "       [0.04658876, 0.02821867, 0.04416328, 1.39503294, 0.01575094,\n",
       "        0.03264903, 0.02267191, 0.02005962, 0.0123883 , 0.00311106,\n",
       "        0.03209834, 0.02987718],\n",
       "       [0.00271298, 0.01738047, 0.00468648, 0.02195886, 1.10766586,\n",
       "        0.00322741, 0.00608135, 0.02283331, 0.00591383, 0.00371557,\n",
       "        0.00652446, 0.01755871],\n",
       "       [0.09294423, 0.06123864, 0.13065574, 0.05000287, 0.09621484,\n",
       "        1.04539139, 0.0825488 , 0.04362592, 0.0168242 , 0.00595811,\n",
       "        0.05048524, 0.02495769],\n",
       "       [0.05364207, 0.1239489 , 0.10467065, 0.04981436, 0.046754  ,\n",
       "        0.07169284, 1.15828774, 0.02476849, 0.02542939, 0.00369411,\n",
       "        0.03637255, 0.02289422],\n",
       "       [0.00799788, 0.0168811 , 0.01996142, 0.01998918, 0.0116758 ,\n",
       "        0.02425987, 0.02071228, 1.1518582 , 0.05940265, 0.00468672,\n",
       "        0.0531014 , 0.0287025 ],\n",
       "       [0.03253443, 0.04186978, 0.04437507, 0.04568207, 0.03285911,\n",
       "        0.03822608, 0.0463884 , 0.0469479 , 1.14940414, 0.04474177,\n",
       "        0.03074231, 0.05808392],\n",
       "       [0.00615421, 0.0090313 , 0.01193658, 0.01221296, 0.00865816,\n",
       "        0.04276788, 0.01542329, 0.02207385, 0.01685839, 1.00419342,\n",
       "        0.02543754, 0.00854892],\n",
       "       [0.04538018, 0.15409754, 0.11865022, 0.11471964, 0.07200748,\n",
       "        0.12153775, 0.11659434, 0.2096626 , 0.15497403, 0.01788404,\n",
       "        1.13671869, 0.11438985],\n",
       "       [0.        , 0.        , 0.        , 0.        , 0.        ,\n",
       "        0.        , 0.        , 0.        , 0.        , 0.        ,\n",
       "        0.        , 1.        ]])"
      ]
     },
     "execution_count": 58,
     "metadata": {},
     "output_type": "execute_result"
    }
   ],
   "source": [
    "np.linalg.inv(input_table)"
   ]
  }
 ],
 "metadata": {
  "kernelspec": {
   "display_name": "Python 3",
   "language": "python",
   "name": "python3"
  },
  "language_info": {
   "codemirror_mode": {
    "name": "ipython",
    "version": 3
   },
   "file_extension": ".py",
   "mimetype": "text/x-python",
   "name": "python",
   "nbconvert_exporter": "python",
   "pygments_lexer": "ipython3",
   "version": "3.8.5"
  }
 },
 "nbformat": 4,
 "nbformat_minor": 4
}
