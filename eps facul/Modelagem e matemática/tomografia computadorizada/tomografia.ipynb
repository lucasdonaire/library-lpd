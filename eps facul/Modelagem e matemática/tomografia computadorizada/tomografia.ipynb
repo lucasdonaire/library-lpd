{
 "cells": [
  {
   "cell_type": "code",
   "execution_count": 28,
   "metadata": {},
   "outputs": [],
   "source": [
    "import numpy as np\n",
    "import seaborn as sns\n",
    "from sklearn.preprocessing import MinMaxScaler"
   ]
  },
  {
   "cell_type": "markdown",
   "metadata": {},
   "source": [
    "## Tomografia Computadorizada"
   ]
  },
  {
   "cell_type": "markdown",
   "metadata": {},
   "source": [
    "#### Funções para a Projeção Ortogonal"
   ]
  },
  {
   "cell_type": "code",
   "execution_count": 29,
   "metadata": {},
   "outputs": [],
   "source": [
    "def mult(x, y):\n",
    "    return np.dot(x, y)"
   ]
  },
  {
   "cell_type": "code",
   "execution_count": 30,
   "metadata": {},
   "outputs": [],
   "source": [
    "def rod(a_, b_, xt_): # função de 1 rodada de projeções\n",
    "    k_ = 0\n",
    "    var = [0] * m\n",
    "\n",
    "    while k_ < m:\n",
    "        ai = np.array(a_[k_])\n",
    "        at = np.transpose(ai)\n",
    "        v1 = (b_[k_] - mult(at, xt_))\n",
    "        v1 = v1[0]\n",
    "        v2 = mult(at, ai)\n",
    "        v2 = v2[0][0]\n",
    "    \n",
    "        if k_ == 0:\n",
    "            proj = xt_ + (v1 / v2) * np.transpose(ai)\n",
    "            xt_ = np.transpose(proj)\n",
    "        \n",
    "        else:\n",
    "            proj = np.transpose(xt_) + (v1 / v2) * np.transpose(ai)\n",
    "            xt_ = np.transpose(proj)\n",
    "            \n",
    "        var[k_] = proj\n",
    "        k_ += 1\n",
    "    return var"
   ]
  },
  {
   "cell_type": "code",
   "execution_count": 31,
   "metadata": {},
   "outputs": [],
   "source": [
    "def calculate(a_, b_, xt_):    \n",
    "    #função para rodar as projeções até aproximar resultados consecutivos\n",
    "    i = 0\n",
    "    dif = 1\n",
    "\n",
    "    while dif > 10e-10:\n",
    "        k = rod(a_, b_, xt_)\n",
    "        xt_ = k[m-1][0]\n",
    "        xt = np.transpose(xt_)\n",
    "        k2 = rod(a_, b_, xt_)\n",
    "        dif = abs(k[0][0][0] - k2[0][0][0])\n",
    "        # print(k2[m-1])\n",
    "        i += 1\n",
    "    \n",
    "    all_x = []\n",
    "    # print(k2[m-1])\n",
    "    for j in range(n):\n",
    "        print(f'x{j+1} =', end=' ')\n",
    "        print(k2[m-1][0][j])\n",
    "        all_x.append(k2[m-1][0][j])\n",
    "        \n",
    "    return np.reshape(all_x, (-1, 1))"
   ]
  },
  {
   "cell_type": "code",
   "execution_count": null,
   "metadata": {},
   "outputs": [],
   "source": []
  },
  {
   "cell_type": "markdown",
   "metadata": {},
   "source": [
    "#### Função para Criação da Imagem"
   ]
  },
  {
   "cell_type": "code",
   "execution_count": 32,
   "metadata": {},
   "outputs": [],
   "source": [
    "def create_image(x_list):\n",
    "    # Abaixo o reescalonamento Min-Max Normalization\n",
    "    scl = MinMaxScaler(feature_range=(0, 1))\n",
    "    scl.fit(x_list)\n",
    "    scaled_x_list = scl.transform(x_list)\n",
    "    \n",
    "    # Tranformando a matriz em 3x3\n",
    "    scaled_x_list = np.reshape(scaled_x_list, (-1, 3))\n",
    "    print(scaled_x_list)\n",
    "    \n",
    "    sns.heatmap(scaled_x_list, vmin=0, vmax=1, cmap=\"Greys\")"
   ]
  },
  {
   "cell_type": "code",
   "execution_count": null,
   "metadata": {},
   "outputs": [],
   "source": []
  },
  {
   "cell_type": "markdown",
   "metadata": {},
   "source": [
    "### Medidas dos Feixes no detector"
   ]
  },
  {
   "cell_type": "code",
   "execution_count": 33,
   "metadata": {},
   "outputs": [],
   "source": [
    "b = [13.0, 15.0, 8.0, 14.79, 14.31, 3.81, 18.0, 12.0, 6.0, 10.51, 16.13, 7.04] #matriz b do exercício 3\n",
    "\n",
    "x0 = np.array([0., 0., 0., 0., 0., 0., 0., 0., 0.]) #ponto inicial antes das projeções - não muda resultado final\n",
    "xt = np.transpose(x0)"
   ]
  },
  {
   "cell_type": "markdown",
   "metadata": {},
   "source": [
    "### Método do Centro do Pìxel"
   ]
  },
  {
   "cell_type": "markdown",
   "metadata": {},
   "source": [
    "#### Matriz obtida pelo Método do Centro do Pixel, aplicado a Figura 6 (feixes de Raios X)\n",
    "##### 1 - se o i-ésimo feixe passa pelo centro do j-ésimo pixel;\n",
    "##### 0 - caso contrário"
   ]
  },
  {
   "cell_type": "code",
   "execution_count": 34,
   "metadata": {},
   "outputs": [],
   "source": [
    "m = 12\n",
    "\n",
    "n = 9\n",
    "\n",
    "a = [[[0.0], [0.0], [0.0], [0.0], [0.0], [0.0], [1.0], [1.0], [1.0]],\n",
    "     [[0.0], [0.0], [0.0], [1.0], [1.0], [1.0], [0.0], [0.0], [0.0]],\n",
    "     [[1.0], [1.0], [1.0], [0.0], [0.0], [0.0], [0.0], [0.0], [0.0]],\n",
    "     \n",
    "     [[0.0], [0.0], [0.0], [0.0], [0.0], [1.0], [0.0], [1.0], [1.0]],\n",
    "     [[0.0], [0.0], [1.0], [0.0], [1.0], [0.0], [1.0], [0.0], [0.0]],\n",
    "     [[1.0], [1.0], [0.0], [1.0], [0.0], [0.0], [0.0], [0.0], [0.0]],\n",
    "     \n",
    "     [[0.0], [0.0], [1.0], [0.0], [0.0], [1.0], [0.0], [0.0], [1.0]],\n",
    "     [[0.0], [1.0], [0.0], [0.0], [1.0], [0.0], [0.0], [1.0], [0.0]],\n",
    "     [[1.0], [0.0], [0.0], [1.0], [0.0], [0.0], [1.0], [0.0], [0.0]],\n",
    "     \n",
    "     [[0.0], [1.0], [1.0], [0.0], [0.0], [1.0], [0.0], [0.0], [0.0]],\n",
    "     [[1.0], [0.0], [0.0], [0.0], [1.0], [0.0], [0.0], [0.0], [1.0]],\n",
    "     [[0.0], [0.0], [0.0], [1.0], [0.0], [0.0], [1.0], [1.0], [0.0]]] "
   ]
  },
  {
   "cell_type": "markdown",
   "metadata": {},
   "source": [
    "Resultado:"
   ]
  },
  {
   "cell_type": "code",
   "execution_count": 35,
   "metadata": {},
   "outputs": [
    {
     "name": "stdout",
     "output_type": "stream",
     "text": [
      "x1 = 1.3100000003736945\n",
      "x2 = 0.6133333261584362\n",
      "x3 = 5.303333350087902\n",
      "x4 = 2.143333342913005\n",
      "x5 = 7.49\n",
      "x6 = 4.593333323753661\n",
      "x7 = 1.773333316578765\n",
      "x8 = 3.1233333405082297\n",
      "x9 = 7.329999999626303\n"
     ]
    }
   ],
   "source": [
    "all_x = calculate(a, b, xt)"
   ]
  },
  {
   "cell_type": "code",
   "execution_count": null,
   "metadata": {},
   "outputs": [],
   "source": []
  },
  {
   "cell_type": "code",
   "execution_count": null,
   "metadata": {},
   "outputs": [],
   "source": []
  },
  {
   "cell_type": "code",
   "execution_count": null,
   "metadata": {},
   "outputs": [],
   "source": []
  },
  {
   "cell_type": "markdown",
   "metadata": {},
   "source": [
    "### Imagem Gerada"
   ]
  },
  {
   "cell_type": "code",
   "execution_count": 36,
   "metadata": {},
   "outputs": [
    {
     "name": "stdout",
     "output_type": "stream",
     "text": [
      "[[0.10130877 0.         0.68201648]\n",
      " [0.22249152 1.         0.57876878]\n",
      " [0.16868638 0.36500243 0.97673291]]\n"
     ]
    },
    {
     "data": {
      "image/png": "[encoded data removed]",
      "text/plain": [
       "<Figure size 432x288 with 2 Axes>"
      ]
     },
     "metadata": {
      "needs_background": "light"
     },
     "output_type": "display_data"
    }
   ],
   "source": [
    "create_image(all_x)"
   ]
  },
  {
   "cell_type": "markdown",
   "metadata": {},
   "source": [
    "### Método da Reta Central\n",
    "##### Comprimento da reta central do i-ésimo feixe que fica no j-ésimo pixel / largura do j-ésimo pixel"
   ]
  },
  {
   "cell_type": "code",
   "execution_count": 37,
   "metadata": {},
   "outputs": [
    {
     "data": {
      "text/plain": [
       "0.8284271247461903"
      ]
     },
     "execution_count": 37,
     "metadata": {},
     "output_type": "execute_result"
    }
   ],
   "source": [
    "2*(np.sqrt(2) - 1)"
   ]
  },
  {
   "cell_type": "code",
   "execution_count": 38,
   "metadata": {},
   "outputs": [
    {
     "data": {
      "text/plain": [
       "0.5857864376269049"
      ]
     },
     "execution_count": 38,
     "metadata": {},
     "output_type": "execute_result"
    }
   ],
   "source": [
    "2*(1 - (np.sqrt(2)/2))"
   ]
  },
  {
   "cell_type": "code",
   "execution_count": 39,
   "metadata": {},
   "outputs": [],
   "source": [
    "m = 12\n",
    "\n",
    "n = 9\n",
    "\n",
    "a = [[[0.0], [0.0], [0.0], [0.0], [0.0], [0.0], [1.0], [1.0], [1.0]],\n",
    "     [[0.0], [0.0], [0.0], [1.0], [1.0], [1.0], [0.0], [0.0], [0.0]],\n",
    "     [[1.0], [1.0], [1.0], [0.0], [0.0], [0.0], [0.0], [0.0], [0.0]],\n",
    "     \n",
    "     [[0.0], [0.0], [0.0], [0.0], [0.0], [2*(np.sqrt(2) - 1)], [0.0], [2*(np.sqrt(2) - 1)], [2*(1- (np.sqrt(2)/2))]],\n",
    "     [[0.0], [0.0], [np.sqrt(2)], [0.0], [np.sqrt(2)], [0.0], [np.sqrt(2)], [0.0], [0.0]],\n",
    "     [[2*(1- (np.sqrt(2)/2))], [2*(np.sqrt(2) - 1)], [0.0], [2*(np.sqrt(2) - 1)], [0.0], [0.0], [0.0], [0.0], [0.0]],\n",
    "     \n",
    "     [[0.0], [0.0], [1.0], [0.0], [0.0], [1.0], [0.0], [0.0], [1.0]],\n",
    "     [[0.0], [1.0], [0.0], [0.0], [1.0], [0.0], [0.0], [1.0], [0.0]],\n",
    "     [[1.0], [0.0], [0.0], [1.0], [0.0], [0.0], [1.0], [0.0], [0.0]],\n",
    "     \n",
    "     [[0.0], [2*(np.sqrt(2) - 1)], [2*(1- (np.sqrt(2)/2))], [0.0], [0.0], [2*(np.sqrt(2) - 1)], [0.0], [0.0], [0.0]],\n",
    "     [[np.sqrt(2)], [0.0], [0.0], [0.0], [np.sqrt(2)], [0.0], [0.0], [0.0], [np.sqrt(2)]],\n",
    "     [[0.0], [0.0], [0.0], [2*(np.sqrt(2) - 1)], [0.0], [0.0], [2*(1- (np.sqrt(2)/2))], [2*(np.sqrt(2) - 1)], [0.0]]]"
   ]
  },
  {
   "cell_type": "code",
   "execution_count": null,
   "metadata": {},
   "outputs": [],
   "source": []
  },
  {
   "cell_type": "code",
   "execution_count": 40,
   "metadata": {},
   "outputs": [
    {
     "name": "stdout",
     "output_type": "stream",
     "text": [
      "x1 = 2.0989657917573394\n",
      "x2 = 1.3988216825280255\n",
      "x3 = 3.9607546785997756\n",
      "x4 = 1.559002703816779\n",
      "x5 = 4.310348216238124\n",
      "x6 = 8.487194095888341\n",
      "x7 = 1.786298687373415\n",
      "x8 = 5.6759251206701435\n",
      "x9 = 4.996318372543547\n"
     ]
    }
   ],
   "source": [
    "all_x = calculate(a, b, xt)"
   ]
  },
  {
   "cell_type": "raw",
   "metadata": {},
   "source": []
  },
  {
   "cell_type": "markdown",
   "metadata": {},
   "source": [
    "### Imagem Gerada"
   ]
  },
  {
   "cell_type": "code",
   "execution_count": 41,
   "metadata": {},
   "outputs": [
    {
     "name": "stdout",
     "output_type": "stream",
     "text": [
      "[[0.09877361 0.         0.36142754]\n",
      " [0.02259772 0.41074683 1.        ]\n",
      " [0.05466375 0.60339711 0.50752084]]\n"
     ]
    },
    {
     "data": {
      "image/png": "[encoded data removed]",
      "text/plain": [
       "<Figure size 432x288 with 2 Axes>"
      ]
     },
     "metadata": {
      "needs_background": "light"
     },
     "output_type": "display_data"
    }
   ],
   "source": [
    "create_image(all_x)"
   ]
  },
  {
   "cell_type": "markdown",
   "metadata": {},
   "source": [
    "### Método da área"
   ]
  },
  {
   "cell_type": "code",
   "execution_count": 42,
   "metadata": {},
   "outputs": [],
   "source": [
    "m = 12\n",
    "\n",
    "n = 9\n",
    "\n",
    "a = [[[0.0], [0.0], [0.0], [0.0], [0.0], [0.0], [1.0], [1.0], [1.0]],\n",
    "     [[0.0], [0.0], [0.0], [1.0], [1.0], [1.0], [0.0], [0.0], [0.0]],\n",
    "     [[1.0], [1.0], [1.0], [0.0], [0.0], [0.0], [0.0], [0.0], [0.0]],\n",
    "     \n",
    "     [[0.0], [0.0], [0.0425], [0.0], [0.0425], [0.75], [0.0425], [0.75], [0.6125]],\n",
    "     [[0.0], [0.25], [0.915], [0.25], [0.915], [0.25], [0.915], [0.25], [0.0]],\n",
    "     [[0.6125], [0.75], [0.0425], [0.75], [0.0425], [0.0], [0.0425], [0.0], [0.0]],\n",
    "     \n",
    "     [[0.0], [0.0], [1.0], [0.0], [0.0], [1.0], [0.0], [0.0], [1.0]],\n",
    "     [[0.0], [1.0], [0.0], [0.0], [1.0], [0.0], [0.0], [1.0], [0.0]],\n",
    "     [[1.0], [0.0], [0.0], [1.0], [0.0], [0.0], [1.0], [0.0], [0.0]],\n",
    "     \n",
    "     [[0.0425], [0.75], [0.6125], [0.0], [0.0425], [0.75], [0.0], [0.0], [0.0425]],\n",
    "     [[0.915], [0.25], [0.0], [0.25], [0.915], [0.25], [0.0], [0.25], [0.915]],\n",
    "     [[0.0425], [0.0], [0.0], [0.75], [0.0425], [0.0], [0.6125], [0.75], [0.0425]]] "
   ]
  },
  {
   "cell_type": "code",
   "execution_count": 43,
   "metadata": {},
   "outputs": [
    {
     "name": "stdout",
     "output_type": "stream",
     "text": [
      "x1 = 2.9974775772355478\n",
      "x2 = 1.001974861222238\n",
      "x3 = 4.0021066831980185\n",
      "x4 = 1.007300736414646\n",
      "x5 = 4.986648885173407\n",
      "x6 = 9.008179159721546\n",
      "x7 = 1.9968839418640043\n",
      "x8 = 6.013298884851567\n",
      "x9 = 4.991376353088405\n"
     ]
    }
   ],
   "source": [
    "all_x = calculate(a, b, xt)"
   ]
  },
  {
   "cell_type": "code",
   "execution_count": null,
   "metadata": {},
   "outputs": [],
   "source": []
  },
  {
   "cell_type": "code",
   "execution_count": 44,
   "metadata": {},
   "outputs": [
    {
     "name": "stdout",
     "output_type": "stream",
     "text": [
      "[[2.49244541e-01 0.00000000e+00 3.74725864e-01]\n",
      " [6.65218497e-04 4.97698269e-01 1.00000000e+00]\n",
      " [1.24267261e-01 6.25930071e-01 4.98288745e-01]]\n"
     ]
    },
    {
     "data": {
      "image/png": "[encoded data removed]",
      "text/plain": [
       "<Figure size 432x288 with 2 Axes>"
      ]
     },
     "metadata": {
      "needs_background": "light"
     },
     "output_type": "display_data"
    }
   ],
   "source": [
    "create_image(all_x)"
   ]
  },
  {
   "cell_type": "markdown",
   "metadata": {},
   "source": [
    "## Esboço de um algorítmo generalizado para o método do centro do pixel"
   ]
  },
  {
   "cell_type": "markdown",
   "metadata": {},
   "source": [
    "##### conseguimos calcular todos vetores de feixes horizontais e verticais (for 1 e for 2), mas uma fórmula generalizante para as diagonais envolveria o programa saber sobre o tamanho de diversas diagonais, e não conseguimos fazer nada fora a diagonal principal (for 3) e a secundária (for 4) - por isso o número de equações de um quadrado NxN seria 2N + 2, ou seja, o sistema não seria sobredeterminado."
   ]
  },
  {
   "cell_type": "code",
   "execution_count": 45,
   "metadata": {},
   "outputs": [],
   "source": [
    "def centro(n):\n",
    "    r = int(n**0.5) # lado do quadrado\n",
    "    a = [[]]\n",
    "    K = 2*r + 2 #tamanho da matriz A \n",
    "    a += [[]] * K    \n",
    "    \n",
    "    for i in range(r): # for 1 - setas da esquerda pra direita\n",
    "        lista1 = [[0]]*n\n",
    "        for j in range(r):\n",
    "            lista1[i*r + j] = [1]\n",
    "        a[i] = lista1\n",
    "        \n",
    "    for i in range(r): #for 2 - setas de cima pra baixo\n",
    "        lista3 = [[0]]*(n)\n",
    "        for j in range(r):\n",
    "            lista3[i + r*j]=[1]\n",
    "        a[r + i] = lista3\n",
    "        \n",
    "    for i in range(1): # for 3 - setas de esq baixo -> dir cima\n",
    "        lista2 = [[0]]*n\n",
    "        for j in range(r):\n",
    "            lista2[j + j*r] = [1] #comentário 1 *\n",
    "        a[2*r ] = lista2\n",
    "            \n",
    "    # for 4 - setas de esq baixo -> dir cima\n",
    "    lista4 = [[0]]*n\n",
    "    for j in range(1,r+1):\n",
    "        lista4[j*r - j] = [1] # comentário 2\n",
    "    a[2*r + 1] = lista4\n",
    " \n",
    "    return a"
   ]
  },
  {
   "cell_type": "markdown",
   "metadata": {},
   "source": [
    "###### Comentários 1 e 2 da função acima: a função é a mesma independente do método, exceto que nas nas linhas das diagonais principais (for 3 e for 4), o método da reta central teria o valor de raíz de 2\n",
    "\n",
    "###### O método da área é mais complicado pois os feixes das diagonais principais também pegam pixels fora da diagonal princpal em si"
   ]
  },
  {
   "cell_type": "markdown",
   "metadata": {},
   "source": [
    "##### Usando esse método para o exercício 3, pelo método do centro do pixel, com uma matriz B reduzida, temos:"
   ]
  },
  {
   "cell_type": "code",
   "execution_count": 46,
   "metadata": {},
   "outputs": [],
   "source": [
    "b = [8, 15, 13, 6, 12, 18, 16.13 , 14.31]\n",
    "m = 8\n",
    "n = 9\n",
    "a = centro(9)"
   ]
  },
  {
   "cell_type": "code",
   "execution_count": 47,
   "metadata": {},
   "outputs": [
    {
     "name": "stdout",
     "output_type": "stream",
     "text": [
      "x1 = 1.6583333336673105\n",
      "x2 = 1.5933333336892457\n",
      "x3 = 4.7483333333406454\n",
      "x4 = 1.9266666670225783\n",
      "x5 = 7.146666666652043\n",
      "x6 = 5.926666667022579\n",
      "x7 = 2.4150000000073124\n",
      "x8 = 3.260000000355912\n",
      "x9 = 7.325000000333977\n"
     ]
    }
   ],
   "source": [
    "all_x = calculate(a, b, xt)"
   ]
  },
  {
   "cell_type": "code",
   "execution_count": 48,
   "metadata": {},
   "outputs": [
    {
     "name": "stdout",
     "output_type": "stream",
     "text": [
      "[[0.01134051 0.         0.55045071]\n",
      " [0.05815644 0.9688863  0.75603373]\n",
      " [0.14335563 0.2907822  1.        ]]\n"
     ]
    },
    {
     "data": {
      "image/png": "[encoded data removed]",
      "text/plain": [
       "<Figure size 432x288 with 2 Axes>"
      ]
     },
     "metadata": {
      "needs_background": "light"
     },
     "output_type": "display_data"
    }
   ],
   "source": [
    "create_image(all_x)"
   ]
  },
  {
   "cell_type": "markdown",
   "metadata": {},
   "source": [
    "# Esboço do algorítmo generalizado para o método da reta central"
   ]
  },
  {
   "cell_type": "code",
   "execution_count": 49,
   "metadata": {},
   "outputs": [],
   "source": [
    "def reta_central(n):\n",
    "    r = int(n**0.5) # lado do quadrado\n",
    "    a = [[]]\n",
    "    K = 2*r + 2 #tamanho da matriz A \n",
    "    a += [[]] * K    \n",
    "    \n",
    "    for i in range(r): # for 1 - setas da esquerda pra direita\n",
    "        lista1 = [[0]]*n\n",
    "        for j in range(r):\n",
    "            lista1[i*r + j] = [1]\n",
    "        a[i] = lista1\n",
    "        \n",
    "    for i in range(r): #for 2 - setas de cima pra baixo\n",
    "        lista3 = [[0]]*(n)\n",
    "        for j in range(r):\n",
    "            lista3[i + r*j]=[1]\n",
    "        a[r + i] = lista3\n",
    "        \n",
    "    for i in range(1): # for 3 - setas de esq baixo -> dir cima\n",
    "        lista2 = [[0]]*n\n",
    "        for j in range(r):\n",
    "            lista2[j + j*r] = [np.sqrt(2)] # ver comentário 1 *\n",
    "        a[2*r ] = lista2\n",
    "            \n",
    "    # for 4 - setas de esq baixo -> dir cima\n",
    "    lista4 = [[0]]*n\n",
    "    for j in range(1,r+1):\n",
    "        lista4[j*r - j] = [np.sqrt(2)] # ver comentário 2\n",
    "    a[2*r + 1] = lista4\n",
    " \n",
    "    return a"
   ]
  },
  {
   "cell_type": "code",
   "execution_count": 52,
   "metadata": {},
   "outputs": [],
   "source": [
    "b = [8, 15, 13, 6, 12, 18, 16.13 , 14.31]\n",
    "m = 8\n",
    "n = 9\n",
    "a = reta_central(9)"
   ]
  },
  {
   "cell_type": "code",
   "execution_count": 53,
   "metadata": {},
   "outputs": [
    {
     "name": "stdout",
     "output_type": "stream",
     "text": [
      "x1 = 0.7820944532476889\n",
      "x2 = 3.0792782629497735\n",
      "x3 = 4.138627282827193\n",
      "x4 = 3.412611596283106\n",
      "x5 = 4.174776806458442\n",
      "x6 = 7.412611596283107\n",
      "x7 = 1.8052939494938602\n",
      "x8 = 4.7459449296164395\n",
      "x9 = 6.448761119914357\n"
     ]
    }
   ],
   "source": [
    "all_x = calculate(a, b, xt)"
   ]
  },
  {
   "cell_type": "code",
   "execution_count": 54,
   "metadata": {},
   "outputs": [
    {
     "name": "stdout",
     "output_type": "stream",
     "text": [
      "[[0.         0.34645621 0.50622489]\n",
      " [0.39672881 0.51167688 1.        ]\n",
      " [0.1543167  0.5978192  0.85463419]]\n"
     ]
    },
    {
     "data": {
      "image/png": "[encoded data removed]",
      "text/plain": [
       "<Figure size 432x288 with 2 Axes>"
      ]
     },
     "metadata": {
      "needs_background": "light"
     },
     "output_type": "display_data"
    }
   ],
   "source": [
    "create_image(all_x)"
   ]
  },
  {
   "cell_type": "code",
   "execution_count": null,
   "metadata": {},
   "outputs": [],
   "source": []
  }
 ],
 "metadata": {
  "kernelspec": {
   "display_name": "Python 3",
   "language": "python",
   "name": "python3"
  },
  "language_info": {
   "codemirror_mode": {
    "name": "ipython",
    "version": 3
   },
   "file_extension": ".py",
   "mimetype": "text/x-python",
   "name": "python",
   "nbconvert_exporter": "python",
   "pygments_lexer": "ipython3",
   "version": "3.8.5"
  }
 },
 "nbformat": 4,
 "nbformat_minor": 4
}
