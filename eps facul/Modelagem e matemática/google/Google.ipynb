{
 "cells": [
  {
   "cell_type": "code",
   "execution_count": 1,
   "metadata": {},
   "outputs": [],
   "source": [
    "import numpy as np"
   ]
  },
  {
   "cell_type": "markdown",
   "metadata": {},
   "source": [
    "### Exercício 3"
   ]
  },
  {
   "cell_type": "markdown",
   "metadata": {},
   "source": [
    "![google](representacao.png \"Google\")"
   ]
  },
  {
   "cell_type": "code",
   "execution_count": null,
   "metadata": {},
   "outputs": [],
   "source": []
  },
  {
   "cell_type": "markdown",
   "metadata": {},
   "source": [
    "Pesos de acordo com a Representação:"
   ]
  },
  {
   "cell_type": "markdown",
   "metadata": {},
   "source": [
    "$$\n",
    "\\begin{cases} x_1 = x_8 / 2 \\\\ x_2 = x_1 / 2 \\\\ x_3 = x_1 / 2 + x_2 / 2 + x_8 / 2 \\\\ x_4 = x_2 / 2 \\\\ x_5 = x_4 / 2 \\\\ x_6 = x_3 / 2 + x_4 / 2 + x_5 / 1 \\\\ x_7 = x_3 / 2 + x_6 / 1 \\\\ x_8 = x_7 / 1 \\end{cases} \n",
    "$$"
   ]
  },
  {
   "cell_type": "markdown",
   "metadata": {},
   "source": [
    "### Criando a matriz A, conforme a representação anterior:"
   ]
  },
  {
   "cell_type": "code",
   "execution_count": 108,
   "metadata": {},
   "outputs": [],
   "source": [
    "A = np.array([\n",
    "    [.0, .0, .0, .0, .0, .0, .0, .5],\n",
    "    [.5, .0, .0, .0, .0, .0, .0, .0],\n",
    "    [.5, .5, .0, .0, .0, .0, .0, .5],\n",
    "    [.0, .5, .0, .0, .0, .0, .0, .0],\n",
    "    [.0, .0, .0, .5, .0, .0, .0, .0],\n",
    "    [.0, .0, .5, .5, 1., .0, .0, .0],\n",
    "    [.0, .0, .5, .0, .0, 1., .0, .0],\n",
    "    [.0, .0, .0, .0, .0, .0, 1., .0]\n",
    "])"
   ]
  },
  {
   "cell_type": "code",
   "execution_count": 109,
   "metadata": {},
   "outputs": [
    {
     "data": {
      "text/plain": [
       "array([[0. , 0. , 0. , 0. , 0. , 0. , 0. , 0.5],\n",
       "       [0.5, 0. , 0. , 0. , 0. , 0. , 0. , 0. ],\n",
       "       [0.5, 0.5, 0. , 0. , 0. , 0. , 0. , 0.5],\n",
       "       [0. , 0.5, 0. , 0. , 0. , 0. , 0. , 0. ],\n",
       "       [0. , 0. , 0. , 0.5, 0. , 0. , 0. , 0. ],\n",
       "       [0. , 0. , 0.5, 0.5, 1. , 0. , 0. , 0. ],\n",
       "       [0. , 0. , 0.5, 0. , 0. , 1. , 0. , 0. ],\n",
       "       [0. , 0. , 0. , 0. , 0. , 0. , 1. , 0. ]])"
      ]
     },
     "execution_count": 109,
     "metadata": {},
     "output_type": "execute_result"
    }
   ],
   "source": [
    "A"
   ]
  },
  {
   "cell_type": "markdown",
   "metadata": {},
   "source": [
    "### Criando a matriz pertubada (Perron-Frobenius)"
   ]
  },
  {
   "cell_type": "markdown",
   "metadata": {},
   "source": [
    "Valor do m, fizado no trabalho em 0.15"
   ]
  },
  {
   "cell_type": "code",
   "execution_count": 110,
   "metadata": {},
   "outputs": [],
   "source": [
    "m_ = 0.15"
   ]
  },
  {
   "cell_type": "markdown",
   "metadata": {},
   "source": [
    "Matriz S (n x n), com todas as entradas iguais a 1 / n:"
   ]
  },
  {
   "cell_type": "code",
   "execution_count": 111,
   "metadata": {},
   "outputs": [
    {
     "data": {
      "text/plain": [
       "array([[0.125, 0.125, 0.125, 0.125, 0.125, 0.125, 0.125, 0.125],\n",
       "       [0.125, 0.125, 0.125, 0.125, 0.125, 0.125, 0.125, 0.125],\n",
       "       [0.125, 0.125, 0.125, 0.125, 0.125, 0.125, 0.125, 0.125],\n",
       "       [0.125, 0.125, 0.125, 0.125, 0.125, 0.125, 0.125, 0.125],\n",
       "       [0.125, 0.125, 0.125, 0.125, 0.125, 0.125, 0.125, 0.125],\n",
       "       [0.125, 0.125, 0.125, 0.125, 0.125, 0.125, 0.125, 0.125],\n",
       "       [0.125, 0.125, 0.125, 0.125, 0.125, 0.125, 0.125, 0.125],\n",
       "       [0.125, 0.125, 0.125, 0.125, 0.125, 0.125, 0.125, 0.125]])"
      ]
     },
     "execution_count": 111,
     "metadata": {},
     "output_type": "execute_result"
    }
   ],
   "source": [
    "x = np.ones((8, 8), dtype=float)\n",
    "S = x * 1 / 8\n",
    "S"
   ]
  },
  {
   "cell_type": "markdown",
   "metadata": {},
   "source": [
    "Cáculo da matriz M:"
   ]
  },
  {
   "cell_type": "code",
   "execution_count": 112,
   "metadata": {},
   "outputs": [],
   "source": [
    "M = ((1 - m_) * A) + (m_ * S)"
   ]
  },
  {
   "cell_type": "code",
   "execution_count": 113,
   "metadata": {},
   "outputs": [
    {
     "name": "stdout",
     "output_type": "stream",
     "text": [
      "[0.01875 0.01875 0.01875 0.01875 0.01875 0.01875 0.01875 0.44375]\n",
      "[0.44375 0.01875 0.01875 0.01875 0.01875 0.01875 0.01875 0.01875]\n",
      "[0.44375 0.44375 0.01875 0.01875 0.01875 0.01875 0.01875 0.44375]\n",
      "[0.01875 0.44375 0.01875 0.01875 0.01875 0.01875 0.01875 0.01875]\n",
      "[0.01875 0.01875 0.01875 0.44375 0.01875 0.01875 0.01875 0.01875]\n",
      "[0.01875 0.01875 0.44375 0.44375 0.86875 0.01875 0.01875 0.01875]\n",
      "[0.01875 0.01875 0.44375 0.01875 0.01875 0.86875 0.01875 0.01875]\n",
      "[0.01875 0.01875 0.01875 0.01875 0.01875 0.01875 0.86875 0.01875]\n"
     ]
    }
   ],
   "source": [
    "for row in M:\n",
    "    print(row)"
   ]
  },
  {
   "cell_type": "code",
   "execution_count": null,
   "metadata": {},
   "outputs": [],
   "source": []
  },
  {
   "cell_type": "markdown",
   "metadata": {},
   "source": [
    "Verificando se a soma das colunas da matriz M é igual a 1:"
   ]
  },
  {
   "cell_type": "code",
   "execution_count": 114,
   "metadata": {},
   "outputs": [
    {
     "data": {
      "text/plain": [
       "array([1., 1., 1., 1., 1., 1., 1., 1.])"
      ]
     },
     "execution_count": 114,
     "metadata": {},
     "output_type": "execute_result"
    }
   ],
   "source": [
    "np.sum(M, axis=0)"
   ]
  },
  {
   "cell_type": "code",
   "execution_count": null,
   "metadata": {},
   "outputs": [],
   "source": []
  },
  {
   "cell_type": "markdown",
   "metadata": {},
   "source": [
    "#### Obtendo: \n",
    "#### c = max 1≤j≤n | 1 − 2 min 1≤i≤n Mij |\n"
   ]
  },
  {
   "cell_type": "code",
   "execution_count": 130,
   "metadata": {},
   "outputs": [],
   "source": [
    "c = np.max((1 - 2 * np.amin(M, axis=0)))"
   ]
  },
  {
   "cell_type": "code",
   "execution_count": 131,
   "metadata": {},
   "outputs": [
    {
     "data": {
      "text/plain": [
       "0.9625"
      ]
     },
     "execution_count": 131,
     "metadata": {},
     "output_type": "execute_result"
    }
   ],
   "source": [
    "c"
   ]
  },
  {
   "cell_type": "code",
   "execution_count": null,
   "metadata": {},
   "outputs": [],
   "source": []
  },
  {
   "cell_type": "markdown",
   "metadata": {},
   "source": [
    "#### Erro a posteriori:\n",
    "#### || kx − x^(k) || ≤ c / (1 − c) * || x^k − x^(k-1) ||"
   ]
  },
  {
   "cell_type": "code",
   "execution_count": 157,
   "metadata": {},
   "outputs": [],
   "source": [
    "def calculate_error(x_k_new, x_k_old):\n",
    "    result = c / (1 -c) * np.sum(np.abs(x_k_new - x_k_old))\n",
    "    \n",
    "    return result\n",
    "    "
   ]
  },
  {
   "cell_type": "code",
   "execution_count": 172,
   "metadata": {},
   "outputs": [],
   "source": [
    "def calculate(X_, matriz_a, epslon=10e-5):\n",
    "    \n",
    "    cont = 1\n",
    "    \n",
    "    error = np.inf\n",
    "    \n",
    "    x_k_new = X_\n",
    "    while True:\n",
    "        # print(f'erro: {error}')\n",
    "        \n",
    "        x_k_old = x_k_new\n",
    "        x_k_new = np.dot(matriz_a, x_k_old)\n",
    "\n",
    "        error = calculate_error(x_k_new, x_k_old)\n",
    "        \n",
    "        if error < epslon:\n",
    "            break\n",
    "            \n",
    "        cont += 1\n",
    "        \n",
    "    return cont, error, x_k_new"
   ]
  },
  {
   "cell_type": "code",
   "execution_count": 173,
   "metadata": {},
   "outputs": [],
   "source": [
    "X_0 = np.array([\n",
    "    1/8, \n",
    "    1/8,\n",
    "    1/8,\n",
    "    1/8,\n",
    "    1/8,\n",
    "    1/8,\n",
    "    1/8,\n",
    "    1/8\n",
    "])"
   ]
  },
  {
   "cell_type": "code",
   "execution_count": 174,
   "metadata": {},
   "outputs": [],
   "source": [
    "contador, error, matriz = calculate(X_0, M)"
   ]
  },
  {
   "cell_type": "code",
   "execution_count": 175,
   "metadata": {},
   "outputs": [
    {
     "name": "stdout",
     "output_type": "stream",
     "text": [
      "Foram realizadas 24 iterações e o erro foi de 6.41347701652746e-05\n"
     ]
    }
   ],
   "source": [
    "print(f'Foram realizadas {contador} iterações e o erro foi de {error}')"
   ]
  },
  {
   "cell_type": "code",
   "execution_count": 176,
   "metadata": {},
   "outputs": [
    {
     "name": "stdout",
     "output_type": "stream",
     "text": [
      "0.10564241611753487\n",
      "0.06364823391396042\n",
      "0.17759124170116974\n",
      "0.045800591669674415\n",
      "0.038215085398377376\n",
      "0.14617428821693\n",
      "0.2184747527797174\n",
      "0.20445339020263512\n"
     ]
    }
   ],
   "source": [
    "for row in matriz:\n",
    "    print(row)"
   ]
  },
  {
   "cell_type": "code",
   "execution_count": 180,
   "metadata": {},
   "outputs": [
    {
     "name": "stdout",
     "output_type": "stream",
     "text": [
      "As paginas exibidas por ordem de importância são: \n",
      "[7 8 3 6 1 2 4 5]\n"
     ]
    }
   ],
   "source": [
    "print(f'As páginas exibidas por ordem de importância são: \\n{matriz.argsort()[::-1] + 1}')"
   ]
  },
  {
   "cell_type": "code",
   "execution_count": null,
   "metadata": {},
   "outputs": [],
   "source": []
  }
 ],
 "metadata": {
  "kernelspec": {
   "display_name": "Python 3",
   "language": "python",
   "name": "python3"
  },
  "language_info": {
   "codemirror_mode": {
    "name": "ipython",
    "version": 3
   },
   "file_extension": ".py",
   "mimetype": "text/x-python",
   "name": "python",
   "nbconvert_exporter": "python",
   "pygments_lexer": "ipython3",
   "version": "3.8.5"
  }
 },
 "nbformat": 4,
 "nbformat_minor": 4
}
