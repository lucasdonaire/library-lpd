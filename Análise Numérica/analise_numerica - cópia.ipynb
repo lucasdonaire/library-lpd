{
  "cells": [
    {
      "cell_type": "code",
      "execution_count": 14,
      "metadata": {
        "id": "8P2WznCD2M5F"
      },
      "outputs": [],
      "source": [
        "import numpy as np\n",
        "import scipy\n",
        "import pandas as pd\n",
        "import matplotlib.pyplot as plt\n",
        "import math"
      ]
    },
    {
      "cell_type": "markdown",
      "metadata": {
        "id": "CVZgUKS2l4h5"
      },
      "source": [
        "# Interpolação Polinomial"
      ]
    },
    {
      "cell_type": "code",
      "execution_count": 15,
      "metadata": {
        "id": "RmD27PgQ-S0s"
      },
      "outputs": [],
      "source": [
        "def plot(f, interval=[0, 10]):\n",
        "    x = np.linspace(interval[0], interval[1], 1000)\n",
        "    # y = f(x)\n",
        "    y = list()\n",
        "    for i in range(len(x)):\n",
        "        y.append(f(x[i]))\n",
        "    y = np.array(y)\n",
        "    plt.figure()\n",
        "    plt.plot(x, y, \"bh\", linewidth=1.1)\n",
        "\n"
      ]
    },
    {
      "cell_type": "code",
      "execution_count": 16,
      "metadata": {
        "id": "mw0kENRK2Uo0"
      },
      "outputs": [],
      "source": [
        "def lagrange_interpolation(lx, ly, x):\n",
        "    # need: len(lx) == len(ly),  max(lx) >= x >= min(lx)\n",
        "    res = 0\n",
        "    for i in range(len(lx)):\n",
        "        L = 1\n",
        "        for j in range(len(lx)):\n",
        "            if i != j:\n",
        "                L *= (x - lx[j]) / (lx[i] - lx[j])\n",
        "        res += L * ly[i]\n",
        "    return res\n"
      ]
    },
    {
      "cell_type": "code",
      "execution_count": 17,
      "metadata": {
        "id": "WQ_mZKAcjs2n"
      },
      "outputs": [],
      "source": [
        "class LagrangeInterpolation:\n",
        "    def __init__(self, lx, ly):\n",
        "        self.lx = lx\n",
        "        self.ly = ly\n",
        "    def polinom(self, x):\n",
        "        res = 0\n",
        "        for i in range(len(self.lx)):\n",
        "            L = 1\n",
        "            for j in range(len(self.lx)):\n",
        "                if i != j:\n",
        "                    L *= (x - self.lx[j]) / (self.lx[i] - self.lx[j])\n",
        "            res += L * self.ly[i]\n",
        "        return res\n",
        "\n"
      ]
    },
    {
      "cell_type": "code",
      "execution_count": 18,
      "metadata": {
        "id": "F67lTUvcxQht"
      },
      "outputs": [],
      "source": [
        "class DividedDiferences:\n",
        "    def __init__(self, x, y):\n",
        "        # x vetor de mesmo tamanho que y\n",
        "        self.x = x\n",
        "        self.y = y\n",
        "        self.n = len(x)\n",
        "        print(f\"n = {self.n}\")\n",
        "        # self.coefs = self.find_coefs()\n",
        "        # def find_coefs(self):\n",
        "        f = np.zeros((self.n, self.n))\n",
        "        for k in range(self.n):\n",
        "            f[k, 0] = self.y[k]\n",
        "        for i in range(1, self.n):\n",
        "            for j in range(1, i + 1):\n",
        "                f[i, j] = (f[i, j - 1] - f[i - 1, j - 1]) / (self.x[i] - self.x[i - j])\n",
        "        self.coefs = f\n",
        "\n",
        "    def polinom(self, p):\n",
        "        soma = 0\n",
        "        for i in range(self.n):\n",
        "            res = self.coefs[i, i]\n",
        "            for j in range(i):\n",
        "                res *= p - self.x[j]\n",
        "            soma += res\n",
        "        return soma\n",
        "\n"
      ]
    },
    {
      "cell_type": "code",
      "execution_count": 19,
      "metadata": {
        "colab": {
          "base_uri": "https://localhost:8080/",
          "height": 265
        },
        "id": "0vTNWwVUzBWL",
        "outputId": "5d2db7af-fac3-4a12-930f-35f8f5776fcc"
      },
      "outputs": [
        {
          "data": {
            "image/png": "[encoded data removed]",
            "text/plain": [
              "<Figure size 432x288 with 1 Axes>"
            ]
          },
          "metadata": {
            "needs_background": "light"
          },
          "output_type": "display_data"
        }
      ],
      "source": [
        "def f(x):\n",
        "    return lagrange_interpolation([0, 2, 3], [1, 2, 4], x)\n",
        "\n",
        "\n",
        "plot(f, [0, 3])\n",
        "\n"
      ]
    },
    {
      "cell_type": "code",
      "execution_count": 20,
      "metadata": {
        "colab": {
          "base_uri": "https://localhost:8080/",
          "height": 282
        },
        "id": "YQyrTi-31Cux",
        "outputId": "d62eac54-23b9-4b09-f799-24aaa0007d03"
      },
      "outputs": [
        {
          "name": "stdout",
          "output_type": "stream",
          "text": [
            "n = 3\n"
          ]
        },
        {
          "data": {
            "image/png": "[encoded data removed]",
            "text/plain": [
              "<Figure size 432x288 with 1 Axes>"
            ]
          },
          "metadata": {
            "needs_background": "light"
          },
          "output_type": "display_data"
        }
      ],
      "source": [
        "a = DividedDiferences([0, 2, 3], [1, 2, 4])\n",
        "plot(a.polinom, [0, 3])\n",
        "\n"
      ]
    },
    {
      "cell_type": "markdown",
      "metadata": {
        "id": "FmH4Ai1CmEDP"
      },
      "source": [
        "# Polinômio de Hermite"
      ]
    },
    {
      "cell_type": "code",
      "execution_count": 21,
      "metadata": {
        "id": "WzeFsfaSoLHV"
      },
      "outputs": [],
      "source": [
        "class HermiteDiferences:\n",
        "    def __init__(self, x, y, Dy):\n",
        "        # x vetor de mesmo tamanho que y\n",
        "        self.x = x\n",
        "        self.y = y\n",
        "        self.Dy = Dy\n",
        "        n = len(x)\n",
        "        z = []\n",
        "        Q = np.zeros((2 * n, 2 * n))\n",
        "        for i in range(n):\n",
        "            z.append(self.x[i])\n",
        "            z.append(self.x[i])\n",
        "            Q[2 * i, 0] = self.y[i]\n",
        "            Q[2 * i + 1, 0] = self.y[i]\n",
        "            Q[2 * i + 1, 1] = self.Dy[i]\n",
        "            if i != 0:\n",
        "                Q[2 * i, 1] = (Q[2 * i, 0] - Q[2 * i - 1, 0]) / (\n",
        "                    z[2 * i] - z[2 * i - 1]\n",
        "                )\n",
        "        for i in range(2, 2 * n):\n",
        "            for j in range(2, i + 1):\n",
        "                Q[i, j] = (Q[i, j - 1] - Q[i - 1, j - 1]) / (z[i] - z[i - j])\n",
        "        self.Q = Q\n",
        "        self.z = z\n",
        "\n",
        "    def polinom(self, p):\n",
        "        soma = 0\n",
        "        for i in range(len(self.Q)):\n",
        "            res = self.Q[i, i]\n",
        "            for j in range(i):\n",
        "                res *= p - self.z[j]\n",
        "            soma += res\n",
        "        return soma\n",
        "\n"
      ]
    },
    {
      "cell_type": "code",
      "execution_count": 22,
      "metadata": {
        "id": "1vT2liSIprvN"
      },
      "outputs": [
        {
          "data": {
            "image/png": "[encoded data removed]",
            "text/plain": [
              "<Figure size 432x288 with 1 Axes>"
            ]
          },
          "metadata": {
            "needs_background": "light"
          },
          "output_type": "display_data"
        }
      ],
      "source": [
        "a = HermiteDiferences([1, 3], [2, 5], [1, -1])\n",
        "plot(a.polinom, [0, 4])\n",
        "\n"
      ]
    },
    {
      "cell_type": "code",
      "execution_count": 23,
      "metadata": {
        "id": "4JtkIbWBu60J"
      },
      "outputs": [
        {
          "data": {
            "image/png": "[encoded data removed]",
            "text/plain": [
              "<Figure size 432x288 with 1 Axes>"
            ]
          },
          "metadata": {
            "needs_background": "light"
          },
          "output_type": "display_data"
        }
      ],
      "source": [
        "b = HermiteDiferences([-1, 0, 1, 3], [1, 0, 1, 9], [-2, 0, 2, 6])\n",
        "plot(b.polinom, [-4, 4])\n",
        "\n"
      ]
    },
    {
      "cell_type": "code",
      "execution_count": 24,
      "metadata": {
        "id": "SBGV1tqHvWSN"
      },
      "outputs": [
        {
          "name": "stdout",
          "output_type": "stream",
          "text": [
            "-10.0\n",
            "-8.947368421052632\n",
            "-7.894736842105264\n",
            "-6.842105263157895\n",
            "-5.7894736842105265\n",
            "-4.736842105263158\n",
            "-3.6842105263157894\n",
            "-2.6315789473684212\n",
            "erro =  8.881784197001252e-16\n",
            "-1.578947368421053\n",
            "-0.526315789473685\n",
            "0.5263157894736832\n",
            "erro =  2.220446049250313e-16\n",
            "1.5789473684210513\n",
            "2.6315789473684212\n",
            "erro =  8.881784197001252e-16\n",
            "3.6842105263157894\n",
            "erro =  1.7763568394002505e-15\n",
            "4.7368421052631575\n",
            "erro =  3.552713678800501e-15\n",
            "5.789473684210526\n",
            "6.842105263157894\n",
            "7.894736842105264\n",
            "erro =  7.105427357601002e-15\n",
            "8.94736842105263\n",
            "10.0\n"
          ]
        }
      ],
      "source": [
        "for x in np.linspace(-10, 10, 20):\n",
        "    print(x)\n",
        "    if b.polinom(x) != x ** 2:\n",
        "        print(\"erro = \", abs(b.polinom(x) - x ** 2))\n",
        "\n"
      ]
    },
    {
      "cell_type": "markdown",
      "metadata": {
        "id": "yFG9k32amHNV"
      },
      "source": [
        "# Splines cúbicos"
      ]
    },
    {
      "cell_type": "code",
      "execution_count": 25,
      "metadata": {
        "id": "AWfpBEHCmJnq"
      },
      "outputs": [],
      "source": [
        "class NaturalCubicSpline:\n",
        "    def gera_spline(self):\n",
        "        h = list()\n",
        "        for i in range(self.n - 1):\n",
        "            h.append(self.lx[i + 1] - self.lx[i])\n",
        "        alpha = [0.0]\n",
        "        for i in range(1, self.n - 1):\n",
        "            res = (3 * (self.ly[i + 1] - self.ly[i]) / h[i]) - (\n",
        "                3 * (self.ly[i] - self.ly[i - 1]) / h[i - 1]\n",
        "            )\n",
        "            alpha.append(res)\n",
        "        l = [1.0]\n",
        "        u = [0.0]\n",
        "        z = [0.0]\n",
        "        for i in range(1, self.n - 1):\n",
        "            l.append(2 * (self.lx[i + 1] - self.lx[i - 1]) - (h[i - 1] * u[i - 1]))\n",
        "            u.append(h[i] / l[i])\n",
        "            z.append((alpha[i] - h[i - 1] * z[i - 1]) / l[i])\n",
        "        l.append(1.0)\n",
        "        z.append(0.0)\n",
        "        b = np.array([0.0 for i in range(self.n)])\n",
        "        c = np.array([0.0 for i in range(self.n)])\n",
        "        d = np.array([0.0 for i in range(self.n)])\n",
        "        for j in range(self.n - 2, -1, -1):\n",
        "            c[j] = z[j] - u[j] * c[j + 1]\n",
        "            b[j] = (self.ly[j + 1] - self.ly[j]) / h[j] - h[j] * (\n",
        "                c[j + 1] + 2 * c[j]\n",
        "            ) / 3\n",
        "            d[j] = (c[j + 1] - c[j]) / (3 * h[j])\n",
        "        return b[:-1], c[:-1], d[:-1]\n",
        "\n",
        "    def polinom(self, p):\n",
        "        if p < self.lx[0] or p > self.lx[self.n - 1]:\n",
        "            return 0\n",
        "        for i in range(self.n - 1):\n",
        "            if p >= self.lx[i]:\n",
        "                X = p - self.lx[i]\n",
        "                return (\n",
        "                    self.a[i] + self.b[i] * X + self.c[i] * X ** 2 + self.d[i] * X ** 3\n",
        "                )\n",
        "\n",
        "    def __init__(self, lx, ly):\n",
        "        self.lx = lx\n",
        "        self.ly = ly\n",
        "        self.n = len(lx)\n",
        "        self.a = self.ly[:-1]\n",
        "        self.b, self.c, self.d = self.gera_spline()\n",
        "        self.coefs = [self.a, self.b, self.c, self.d]\n",
        "\n"
      ]
    },
    {
      "cell_type": "code",
      "execution_count": 26,
      "metadata": {
        "colab": {
          "base_uri": "https://localhost:8080/",
          "height": 265
        },
        "id": "VV5Bm6dKr1w4",
        "outputId": "74baf69e-59e0-4b3a-8b5f-e199a84fe640"
      },
      "outputs": [
        {
          "data": {
            "image/png": "[encoded data removed]",
            "text/plain": [
              "<Figure size 432x288 with 1 Axes>"
            ]
          },
          "metadata": {
            "needs_background": "light"
          },
          "output_type": "display_data"
        }
      ],
      "source": [
        "sss = NaturalCubicSpline([1, 2, 3], [2, 3, 5])\n",
        "plot(sss.polinom, [1, 3])\n",
        "\n"
      ]
    },
    {
      "cell_type": "code",
      "execution_count": 27,
      "metadata": {
        "id": "YT90JsKAzkNT"
      },
      "outputs": [],
      "source": [
        "class FixedCubicSplines:\n",
        "    def __init__(self, lx, ly, FPO, FPN):\n",
        "        self.lx = lx\n",
        "        self.ly = ly\n",
        "        self.n = len(lx)\n",
        "        self.a = self.ly[:-1]\n",
        "        self.b, self.c, self.d = self.gera_spline()\n",
        "        self.coefs = [self.a, self.b, self.c, self.d]\n",
        "        self.FPO = FPO\n",
        "        self.FPN = FPN\n",
        "    def gera_spline(self):\n",
        "\n",
        "        return\n",
        "\n",
        "    def polinom(self, p):\n",
        "        if p < self.lx[0] or p > self.lx[self.n - 1]:\n",
        "            return 0\n",
        "        for i in range(self.n - 1):\n",
        "            if p >= self.lx[i]:\n",
        "                X = p - self.lx[i]\n",
        "                return (\n",
        "                    self.a[i] + self.b[i] * X + self.c[i] * X ** 2 + self.d[i] * X ** 3\n",
        "                )\n",
        "\n",
        "\n"
      ]
    }
  ],
  "metadata": {
    "colab": {
      "collapsed_sections": [],
      "provenance": []
    },
    "kernelspec": {
      "display_name": "Python 3",
      "name": "python3"
    },
    "language_info": {
      "codemirror_mode": {
        "name": "ipython",
        "version": 3
      },
      "file_extension": ".py",
      "mimetype": "text/x-python",
      "name": "python",
      "nbconvert_exporter": "python",
      "pygments_lexer": "ipython3",
      "version": "3.8.8"
    }
  },
  "nbformat": 4,
  "nbformat_minor": 0
}
